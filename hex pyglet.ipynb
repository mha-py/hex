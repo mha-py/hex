{
 "cells": [
  {
   "cell_type": "markdown",
   "metadata": {},
   "source": [
    "## Pyglet\n",
    "ist ein OpenGL Package. Tutorial [hier](https://greendalecs.wordpress.com/2012/04/21/3d-programming-in-python-part-1/) her.<br>\n",
    "Gutes PDF (OpenGL in Java) [hier](http://www.cs.cornell.edu/courses/cs4620/2011fa/lectures/practicum01.pdf)<br><br>"
   ]
  },
  {
   "cell_type": "code",
   "execution_count": 1,
   "metadata": {},
   "outputs": [],
   "source": [
    "import pyglet\n",
    "from pyglet.gl import *\n",
    "from pyglet.window import key\n",
    "from pyglet.window import mouse\n",
    "\n",
    "import numpy as np\n",
    "\n",
    "%load_ext autoreload\n",
    "%autoreload 2\n",
    "\n",
    "from hex_show import *\n",
    "from hex_show_gl import *\n",
    "from hex_pathfinding import *"
   ]
  },
  {
   "cell_type": "markdown",
   "metadata": {},
   "source": [
    "## Spieler gegen Computer"
   ]
  },
  {
   "cell_type": "code",
   "execution_count": 2,
   "metadata": {
    "run_control": {
     "marked": false
    },
    "scrolled": true
   },
   "outputs": [
    {
     "name": "stderr",
     "output_type": "stream",
     "text": [
      "C:\\ProgramData\\Anaconda3\\lib\\site-packages\\pyglet\\image\\codecs\\wic.py:292: UserWarning: [WinError -2147417850] Der Threadmodus kann nicht nach dem Einstellen geändert werden\n",
      "  warnings.warn(str(err))\n"
     ]
    },
    {
     "name": "stdout",
     "output_type": "stream",
     "text": [
      "Finishing early after 0 tree searches\n"
     ]
    },
    {
     "name": "stderr",
     "output_type": "stream",
     "text": [
      "D:\\Anaconda-Python-3.7\\hex\\hex_mcts.py:336: RuntimeWarning: invalid value encountered in true_divide\n",
      "  self.policy = Ns / np.sum(Ns) # policy for this state, useful for training the net\n"
     ]
    },
    {
     "data": {
      "image/png": "[encoded data removed]",
      "text/plain": [
       "<Figure size 432x288 with 1 Axes>"
      ]
     },
     "metadata": {
      "needs_background": "light"
     },
     "output_type": "display_data"
    },
    {
     "name": "stdout",
     "output_type": "stream",
     "text": [
      "MCTS mode\n"
     ]
    },
    {
     "name": "stderr",
     "output_type": "stream",
     "text": [
      "Exception in thread Thread-7:\n",
      "Traceback (most recent call last):\n",
      "  File \"C:\\ProgramData\\Anaconda3\\lib\\threading.py\", line 926, in _bootstrap_inner\n",
      "    self.run()\n",
      "  File \"C:\\ProgramData\\Anaconda3\\lib\\threading.py\", line 870, in run\n",
      "    self._target(*self._args, **self._kwargs)\n",
      "  File \"<ipython-input-2-23a2d80b5b78>\", line 189, in make_ai_move\n",
      "    on_draw()\n",
      "  File \"<ipython-input-2-23a2d80b5b78>\", line 196, in on_draw\n",
      "    glClear(GL_COLOR_BUFFER_BIT)\n",
      "  File \"C:\\ProgramData\\Anaconda3\\lib\\site-packages\\pyglet\\gl\\lib.py\", line 107, in errcheck\n",
      "    raise GLException(msg)\n",
      "pyglet.gl.lib.GLException: b'Der Vorgang ist ung\\xfcltig.'\n",
      "\n"
     ]
    },
    {
     "name": "stdout",
     "output_type": "stream",
     "text": [
      "Finishing early after 1260 tree searches\n"
     ]
    },
    {
     "data": {
      "image/png": "[encoded data removed]",
      "text/plain": [
       "<Figure size 432x288 with 1 Axes>"
      ]
     },
     "metadata": {
      "needs_background": "light"
     },
     "output_type": "display_data"
    },
    {
     "name": "stdout",
     "output_type": "stream",
     "text": [
      "MCTS mode\n"
     ]
    },
    {
     "name": "stderr",
     "output_type": "stream",
     "text": [
      "Exception in thread Thread-8:\n",
      "Traceback (most recent call last):\n",
      "  File \"C:\\ProgramData\\Anaconda3\\lib\\threading.py\", line 926, in _bootstrap_inner\n",
      "    self.run()\n",
      "  File \"C:\\ProgramData\\Anaconda3\\lib\\threading.py\", line 870, in run\n",
      "    self._target(*self._args, **self._kwargs)\n",
      "  File \"<ipython-input-2-23a2d80b5b78>\", line 189, in make_ai_move\n",
      "    on_draw()\n",
      "  File \"<ipython-input-2-23a2d80b5b78>\", line 196, in on_draw\n",
      "    glClear(GL_COLOR_BUFFER_BIT)\n",
      "  File \"C:\\ProgramData\\Anaconda3\\lib\\site-packages\\pyglet\\gl\\lib.py\", line 107, in errcheck\n",
      "    raise GLException(msg)\n",
      "pyglet.gl.lib.GLException: b'Der Vorgang ist ung\\xfcltig.'\n",
      "\n"
     ]
    },
    {
     "name": "stdout",
     "output_type": "stream",
     "text": [
      "Finishing early after 1440 tree searches\n"
     ]
    },
    {
     "data": {
      "image/png": "[encoded data removed]",
      "text/plain": [
       "<Figure size 432x288 with 1 Axes>"
      ]
     },
     "metadata": {
      "needs_background": "light"
     },
     "output_type": "display_data"
    },
    {
     "name": "stdout",
     "output_type": "stream",
     "text": [
      "MCTS mode\n"
     ]
    },
    {
     "name": "stderr",
     "output_type": "stream",
     "text": [
      "Exception in thread Thread-9:\n",
      "Traceback (most recent call last):\n",
      "  File \"C:\\ProgramData\\Anaconda3\\lib\\threading.py\", line 926, in _bootstrap_inner\n",
      "    self.run()\n",
      "  File \"C:\\ProgramData\\Anaconda3\\lib\\threading.py\", line 870, in run\n",
      "    self._target(*self._args, **self._kwargs)\n",
      "  File \"<ipython-input-2-23a2d80b5b78>\", line 189, in make_ai_move\n",
      "    on_draw()\n",
      "  File \"<ipython-input-2-23a2d80b5b78>\", line 196, in on_draw\n",
      "    glClear(GL_COLOR_BUFFER_BIT)\n",
      "  File \"C:\\ProgramData\\Anaconda3\\lib\\site-packages\\pyglet\\gl\\lib.py\", line 107, in errcheck\n",
      "    raise GLException(msg)\n",
      "pyglet.gl.lib.GLException: b'Der Vorgang ist ung\\xfcltig.'\n",
      "\n"
     ]
    },
    {
     "name": "stdout",
     "output_type": "stream",
     "text": [
      "Finishing early after 1500 tree searches\n"
     ]
    },
    {
     "data": {
      "image/png": "[encoded data removed]",
      "text/plain": [
       "<Figure size 432x288 with 1 Axes>"
      ]
     },
     "metadata": {
      "needs_background": "light"
     },
     "output_type": "display_data"
    },
    {
     "name": "stdout",
     "output_type": "stream",
     "text": [
      "MCTS mode\n"
     ]
    },
    {
     "name": "stderr",
     "output_type": "stream",
     "text": [
      "Exception in thread Thread-10:\n",
      "Traceback (most recent call last):\n",
      "  File \"C:\\ProgramData\\Anaconda3\\lib\\threading.py\", line 926, in _bootstrap_inner\n",
      "    self.run()\n",
      "  File \"C:\\ProgramData\\Anaconda3\\lib\\threading.py\", line 870, in run\n",
      "    self._target(*self._args, **self._kwargs)\n",
      "  File \"<ipython-input-2-23a2d80b5b78>\", line 189, in make_ai_move\n",
      "    on_draw()\n",
      "  File \"<ipython-input-2-23a2d80b5b78>\", line 196, in on_draw\n",
      "    glClear(GL_COLOR_BUFFER_BIT)\n",
      "  File \"C:\\ProgramData\\Anaconda3\\lib\\site-packages\\pyglet\\gl\\lib.py\", line 107, in errcheck\n",
      "    raise GLException(msg)\n",
      "pyglet.gl.lib.GLException: b'Der Vorgang ist ung\\xfcltig.'\n",
      "\n"
     ]
    },
    {
     "name": "stdout",
     "output_type": "stream",
     "text": [
      "Finishing early after 1470 tree searches\n"
     ]
    },
    {
     "data": {
      "image/png": "[encoded data removed]",
      "text/plain": [
       "<Figure size 432x288 with 1 Axes>"
      ]
     },
     "metadata": {
      "needs_background": "light"
     },
     "output_type": "display_data"
    },
    {
     "name": "stdout",
     "output_type": "stream",
     "text": [
      "MCTS mode\n"
     ]
    },
    {
     "name": "stderr",
     "output_type": "stream",
     "text": [
      "Exception in thread Thread-11:\n",
      "Traceback (most recent call last):\n",
      "  File \"C:\\ProgramData\\Anaconda3\\lib\\threading.py\", line 926, in _bootstrap_inner\n",
      "    self.run()\n",
      "  File \"C:\\ProgramData\\Anaconda3\\lib\\threading.py\", line 870, in run\n",
      "    self._target(*self._args, **self._kwargs)\n",
      "  File \"<ipython-input-2-23a2d80b5b78>\", line 189, in make_ai_move\n",
      "    on_draw()\n",
      "  File \"<ipython-input-2-23a2d80b5b78>\", line 196, in on_draw\n",
      "    glClear(GL_COLOR_BUFFER_BIT)\n",
      "  File \"C:\\ProgramData\\Anaconda3\\lib\\site-packages\\pyglet\\gl\\lib.py\", line 107, in errcheck\n",
      "    raise GLException(msg)\n",
      "pyglet.gl.lib.GLException: b'Der Vorgang ist ung\\xfcltig.'\n",
      "\n"
     ]
    },
    {
     "name": "stdout",
     "output_type": "stream",
     "text": [
      "Finishing early after 1500 tree searches\n"
     ]
    },
    {
     "data": {
      "image/png": "[encoded data removed]",
      "text/plain": [
       "<Figure size 432x288 with 1 Axes>"
      ]
     },
     "metadata": {
      "needs_background": "light"
     },
     "output_type": "display_data"
    },
    {
     "name": "stdout",
     "output_type": "stream",
     "text": [
      "MCTS mode\n"
     ]
    },
    {
     "name": "stderr",
     "output_type": "stream",
     "text": [
      "Exception in thread Thread-12:\n",
      "Traceback (most recent call last):\n",
      "  File \"C:\\ProgramData\\Anaconda3\\lib\\threading.py\", line 926, in _bootstrap_inner\n",
      "    self.run()\n",
      "  File \"C:\\ProgramData\\Anaconda3\\lib\\threading.py\", line 870, in run\n",
      "    self._target(*self._args, **self._kwargs)\n",
      "  File \"<ipython-input-2-23a2d80b5b78>\", line 189, in make_ai_move\n",
      "    on_draw()\n",
      "  File \"<ipython-input-2-23a2d80b5b78>\", line 205, in on_draw\n",
      "    show_board_gl(board, mouse_pos, path=path)\n",
      "  File \"D:\\Anaconda-Python-3.7\\hex\\hex_show_gl.py\", line 58, in show_board_gl\n",
      "    glEnd()\n",
      "  File \"C:\\ProgramData\\Anaconda3\\lib\\site-packages\\pyglet\\gl\\lib.py\", line 126, in errcheck_glend\n",
      "    return errcheck(result, func, arguments)\n",
      "  File \"C:\\ProgramData\\Anaconda3\\lib\\site-packages\\pyglet\\gl\\lib.py\", line 107, in errcheck\n",
      "    raise GLException(msg)\n",
      "pyglet.gl.lib.GLException: b'Der Vorgang ist ung\\xfcltig.'\n",
      "\n"
     ]
    },
    {
     "ename": "GLException",
     "evalue": "b'Der Vorgang ist ung\\xfcltig.'",
     "output_type": "error",
     "traceback": [
      "\u001b[1;31m---------------------------------------------------------------------------\u001b[0m",
      "\u001b[1;31mGLException\u001b[0m                               Traceback (most recent call last)",
      "\u001b[1;32m<ipython-input-2-23a2d80b5b78>\u001b[0m in \u001b[0;36m<module>\u001b[1;34m\u001b[0m\n\u001b[0;32m    213\u001b[0m \u001b[1;33m\u001b[0m\u001b[0m\n\u001b[0;32m    214\u001b[0m \u001b[1;33m\u001b[0m\u001b[0m\n\u001b[1;32m--> 215\u001b[1;33m \u001b[0mpyglet\u001b[0m\u001b[1;33m.\u001b[0m\u001b[0mapp\u001b[0m\u001b[1;33m.\u001b[0m\u001b[0mrun\u001b[0m\u001b[1;33m(\u001b[0m\u001b[1;33m)\u001b[0m\u001b[1;33m\u001b[0m\u001b[1;33m\u001b[0m\u001b[0m\n\u001b[0m",
      "\u001b[1;32mC:\\ProgramData\\Anaconda3\\lib\\site-packages\\pyglet\\app\\__init__.py\u001b[0m in \u001b[0;36mrun\u001b[1;34m()\u001b[0m\n\u001b[0;32m    105\u001b[0m \u001b[1;33m\u001b[0m\u001b[0m\n\u001b[0;32m    106\u001b[0m     \"\"\"\n\u001b[1;32m--> 107\u001b[1;33m     \u001b[0mevent_loop\u001b[0m\u001b[1;33m.\u001b[0m\u001b[0mrun\u001b[0m\u001b[1;33m(\u001b[0m\u001b[1;33m)\u001b[0m\u001b[1;33m\u001b[0m\u001b[1;33m\u001b[0m\u001b[0m\n\u001b[0m\u001b[0;32m    108\u001b[0m \u001b[1;33m\u001b[0m\u001b[0m\n\u001b[0;32m    109\u001b[0m \u001b[1;33m\u001b[0m\u001b[0m\n",
      "\u001b[1;32mC:\\ProgramData\\Anaconda3\\lib\\site-packages\\pyglet\\app\\base.py\u001b[0m in \u001b[0;36mrun\u001b[1;34m(self)\u001b[0m\n\u001b[0;32m    165\u001b[0m \u001b[1;33m\u001b[0m\u001b[0m\n\u001b[0;32m    166\u001b[0m         \u001b[1;32mwhile\u001b[0m \u001b[1;32mnot\u001b[0m \u001b[0mself\u001b[0m\u001b[1;33m.\u001b[0m\u001b[0mhas_exit\u001b[0m\u001b[1;33m:\u001b[0m\u001b[1;33m\u001b[0m\u001b[1;33m\u001b[0m\u001b[0m\n\u001b[1;32m--> 167\u001b[1;33m             \u001b[0mtimeout\u001b[0m \u001b[1;33m=\u001b[0m \u001b[0mself\u001b[0m\u001b[1;33m.\u001b[0m\u001b[0midle\u001b[0m\u001b[1;33m(\u001b[0m\u001b[1;33m)\u001b[0m\u001b[1;33m\u001b[0m\u001b[1;33m\u001b[0m\u001b[0m\n\u001b[0m\u001b[0;32m    168\u001b[0m             \u001b[0mplatform_event_loop\u001b[0m\u001b[1;33m.\u001b[0m\u001b[0mstep\u001b[0m\u001b[1;33m(\u001b[0m\u001b[0mtimeout\u001b[0m\u001b[1;33m)\u001b[0m\u001b[1;33m\u001b[0m\u001b[1;33m\u001b[0m\u001b[0m\n\u001b[0;32m    169\u001b[0m \u001b[1;33m\u001b[0m\u001b[0m\n",
      "\u001b[1;32mC:\\ProgramData\\Anaconda3\\lib\\site-packages\\pyglet\\app\\base.py\u001b[0m in \u001b[0;36midle\u001b[1;34m(self)\u001b[0m\n\u001b[0;32m    241\u001b[0m             \u001b[1;32mif\u001b[0m \u001b[0mredraw_all\u001b[0m \u001b[1;32mor\u001b[0m \u001b[1;33m(\u001b[0m\u001b[0mwindow\u001b[0m\u001b[1;33m.\u001b[0m\u001b[0m_legacy_invalid\u001b[0m \u001b[1;32mand\u001b[0m \u001b[0mwindow\u001b[0m\u001b[1;33m.\u001b[0m\u001b[0minvalid\u001b[0m\u001b[1;33m)\u001b[0m\u001b[1;33m:\u001b[0m\u001b[1;33m\u001b[0m\u001b[1;33m\u001b[0m\u001b[0m\n\u001b[0;32m    242\u001b[0m                 \u001b[0mwindow\u001b[0m\u001b[1;33m.\u001b[0m\u001b[0mswitch_to\u001b[0m\u001b[1;33m(\u001b[0m\u001b[1;33m)\u001b[0m\u001b[1;33m\u001b[0m\u001b[1;33m\u001b[0m\u001b[0m\n\u001b[1;32m--> 243\u001b[1;33m                 \u001b[0mwindow\u001b[0m\u001b[1;33m.\u001b[0m\u001b[0mdispatch_event\u001b[0m\u001b[1;33m(\u001b[0m\u001b[1;34m'on_draw'\u001b[0m\u001b[1;33m)\u001b[0m\u001b[1;33m\u001b[0m\u001b[1;33m\u001b[0m\u001b[0m\n\u001b[0m\u001b[0;32m    244\u001b[0m                 \u001b[0mwindow\u001b[0m\u001b[1;33m.\u001b[0m\u001b[0mflip\u001b[0m\u001b[1;33m(\u001b[0m\u001b[1;33m)\u001b[0m\u001b[1;33m\u001b[0m\u001b[1;33m\u001b[0m\u001b[0m\n\u001b[0;32m    245\u001b[0m                 \u001b[0mwindow\u001b[0m\u001b[1;33m.\u001b[0m\u001b[0m_legacy_invalid\u001b[0m \u001b[1;33m=\u001b[0m \u001b[1;32mFalse\u001b[0m\u001b[1;33m\u001b[0m\u001b[1;33m\u001b[0m\u001b[0m\n",
      "\u001b[1;32mC:\\ProgramData\\Anaconda3\\lib\\site-packages\\pyglet\\window\\__init__.py\u001b[0m in \u001b[0;36mdispatch_event\u001b[1;34m(self, *args)\u001b[0m\n\u001b[0;32m   1331\u001b[0m     \u001b[1;32mdef\u001b[0m \u001b[0mdispatch_event\u001b[0m\u001b[1;33m(\u001b[0m\u001b[0mself\u001b[0m\u001b[1;33m,\u001b[0m \u001b[1;33m*\u001b[0m\u001b[0margs\u001b[0m\u001b[1;33m)\u001b[0m\u001b[1;33m:\u001b[0m\u001b[1;33m\u001b[0m\u001b[1;33m\u001b[0m\u001b[0m\n\u001b[0;32m   1332\u001b[0m         \u001b[1;32mif\u001b[0m \u001b[1;32mnot\u001b[0m \u001b[0mself\u001b[0m\u001b[1;33m.\u001b[0m\u001b[0m_enable_event_queue\u001b[0m \u001b[1;32mor\u001b[0m \u001b[0mself\u001b[0m\u001b[1;33m.\u001b[0m\u001b[0m_allow_dispatch_event\u001b[0m\u001b[1;33m:\u001b[0m\u001b[1;33m\u001b[0m\u001b[1;33m\u001b[0m\u001b[0m\n\u001b[1;32m-> 1333\u001b[1;33m             \u001b[1;32mif\u001b[0m \u001b[0mEventDispatcher\u001b[0m\u001b[1;33m.\u001b[0m\u001b[0mdispatch_event\u001b[0m\u001b[1;33m(\u001b[0m\u001b[0mself\u001b[0m\u001b[1;33m,\u001b[0m \u001b[1;33m*\u001b[0m\u001b[0margs\u001b[0m\u001b[1;33m)\u001b[0m \u001b[1;33m!=\u001b[0m \u001b[1;32mFalse\u001b[0m\u001b[1;33m:\u001b[0m\u001b[1;33m\u001b[0m\u001b[1;33m\u001b[0m\u001b[0m\n\u001b[0m\u001b[0;32m   1334\u001b[0m                 \u001b[0mself\u001b[0m\u001b[1;33m.\u001b[0m\u001b[0m_legacy_invalid\u001b[0m \u001b[1;33m=\u001b[0m \u001b[1;32mTrue\u001b[0m\u001b[1;33m\u001b[0m\u001b[1;33m\u001b[0m\u001b[0m\n\u001b[0;32m   1335\u001b[0m         \u001b[1;32melse\u001b[0m\u001b[1;33m:\u001b[0m\u001b[1;33m\u001b[0m\u001b[1;33m\u001b[0m\u001b[0m\n",
      "\u001b[1;32mC:\\ProgramData\\Anaconda3\\lib\\site-packages\\pyglet\\event.py\u001b[0m in \u001b[0;36mdispatch_event\u001b[1;34m(self, event_type, *args)\u001b[0m\n\u001b[0;32m    406\u001b[0m             \u001b[1;32mtry\u001b[0m\u001b[1;33m:\u001b[0m\u001b[1;33m\u001b[0m\u001b[1;33m\u001b[0m\u001b[0m\n\u001b[0;32m    407\u001b[0m                 \u001b[0minvoked\u001b[0m \u001b[1;33m=\u001b[0m \u001b[1;32mTrue\u001b[0m\u001b[1;33m\u001b[0m\u001b[1;33m\u001b[0m\u001b[0m\n\u001b[1;32m--> 408\u001b[1;33m                 \u001b[1;32mif\u001b[0m \u001b[0mhandler\u001b[0m\u001b[1;33m(\u001b[0m\u001b[1;33m*\u001b[0m\u001b[0margs\u001b[0m\u001b[1;33m)\u001b[0m\u001b[1;33m:\u001b[0m\u001b[1;33m\u001b[0m\u001b[1;33m\u001b[0m\u001b[0m\n\u001b[0m\u001b[0;32m    409\u001b[0m                     \u001b[1;32mreturn\u001b[0m \u001b[0mEVENT_HANDLED\u001b[0m\u001b[1;33m\u001b[0m\u001b[1;33m\u001b[0m\u001b[0m\n\u001b[0;32m    410\u001b[0m             \u001b[1;32mexcept\u001b[0m \u001b[0mTypeError\u001b[0m \u001b[1;32mas\u001b[0m \u001b[0mexception\u001b[0m\u001b[1;33m:\u001b[0m\u001b[1;33m\u001b[0m\u001b[1;33m\u001b[0m\u001b[0m\n",
      "\u001b[1;32m<ipython-input-2-23a2d80b5b78>\u001b[0m in \u001b[0;36mon_draw\u001b[1;34m()\u001b[0m\n\u001b[0;32m    203\u001b[0m             \u001b[0mreset\u001b[0m\u001b[1;33m(\u001b[0m\u001b[1;33m)\u001b[0m\u001b[1;33m\u001b[0m\u001b[1;33m\u001b[0m\u001b[0m\n\u001b[0;32m    204\u001b[0m \u001b[1;33m\u001b[0m\u001b[0m\n\u001b[1;32m--> 205\u001b[1;33m     \u001b[0mshow_board_gl\u001b[0m\u001b[1;33m(\u001b[0m\u001b[0mboard\u001b[0m\u001b[1;33m,\u001b[0m \u001b[0mmouse_pos\u001b[0m\u001b[1;33m,\u001b[0m \u001b[0mpath\u001b[0m\u001b[1;33m=\u001b[0m\u001b[0mpath\u001b[0m\u001b[1;33m)\u001b[0m\u001b[1;33m\u001b[0m\u001b[1;33m\u001b[0m\u001b[0m\n\u001b[0m\u001b[0;32m    206\u001b[0m     \u001b[1;31m##label.draw()\u001b[0m\u001b[1;33m\u001b[0m\u001b[1;33m\u001b[0m\u001b[1;33m\u001b[0m\u001b[0m\n\u001b[0;32m    207\u001b[0m \u001b[1;33m\u001b[0m\u001b[0m\n",
      "\u001b[1;32mD:\\Anaconda-Python-3.7\\hex\\hex_show_gl.py\u001b[0m in \u001b[0;36mshow_board_gl\u001b[1;34m(board, mouse_pos, numbers, path, wonby)\u001b[0m\n\u001b[0;32m     56\u001b[0m             \u001b[1;32mfor\u001b[0m \u001b[0mk\u001b[0m \u001b[1;32min\u001b[0m \u001b[0mrange\u001b[0m\u001b[1;33m(\u001b[0m\u001b[1;36m6\u001b[0m\u001b[1;33m)\u001b[0m\u001b[1;33m:\u001b[0m\u001b[1;33m\u001b[0m\u001b[1;33m\u001b[0m\u001b[0m\n\u001b[0;32m     57\u001b[0m                 \u001b[0mglVertex2f\u001b[0m\u001b[1;33m(\u001b[0m\u001b[0mhexa\u001b[0m\u001b[1;33m[\u001b[0m\u001b[0mk\u001b[0m\u001b[1;33m,\u001b[0m\u001b[1;36m0\u001b[0m\u001b[1;33m]\u001b[0m\u001b[1;33m+\u001b[0m\u001b[0mx\u001b[0m\u001b[1;33m,\u001b[0m \u001b[0mhexa\u001b[0m\u001b[1;33m[\u001b[0m\u001b[0mk\u001b[0m\u001b[1;33m,\u001b[0m\u001b[1;36m1\u001b[0m\u001b[1;33m]\u001b[0m\u001b[1;33m+\u001b[0m\u001b[0my\u001b[0m\u001b[1;33m)\u001b[0m\u001b[1;33m\u001b[0m\u001b[1;33m\u001b[0m\u001b[0m\n\u001b[1;32m---> 58\u001b[1;33m             \u001b[0mglEnd\u001b[0m\u001b[1;33m(\u001b[0m\u001b[1;33m)\u001b[0m\u001b[1;33m\u001b[0m\u001b[1;33m\u001b[0m\u001b[0m\n\u001b[0m\u001b[0;32m     59\u001b[0m \u001b[1;33m\u001b[0m\u001b[0m\n\u001b[0;32m     60\u001b[0m             '''\n",
      "\u001b[1;32mC:\\ProgramData\\Anaconda3\\lib\\site-packages\\pyglet\\gl\\lib.py\u001b[0m in \u001b[0;36merrcheck_glend\u001b[1;34m(result, func, arguments)\u001b[0m\n\u001b[0;32m    124\u001b[0m         \u001b[1;32mraise\u001b[0m \u001b[0mGLException\u001b[0m\u001b[1;33m(\u001b[0m\u001b[1;34m'No GL context; create a Window first'\u001b[0m\u001b[1;33m)\u001b[0m\u001b[1;33m\u001b[0m\u001b[1;33m\u001b[0m\u001b[0m\n\u001b[0;32m    125\u001b[0m     \u001b[0mcontext\u001b[0m\u001b[1;33m.\u001b[0m\u001b[0m_gl_begin\u001b[0m \u001b[1;33m=\u001b[0m \u001b[1;32mFalse\u001b[0m\u001b[1;33m\u001b[0m\u001b[1;33m\u001b[0m\u001b[0m\n\u001b[1;32m--> 126\u001b[1;33m     \u001b[1;32mreturn\u001b[0m \u001b[0merrcheck\u001b[0m\u001b[1;33m(\u001b[0m\u001b[0mresult\u001b[0m\u001b[1;33m,\u001b[0m \u001b[0mfunc\u001b[0m\u001b[1;33m,\u001b[0m \u001b[0marguments\u001b[0m\u001b[1;33m)\u001b[0m\u001b[1;33m\u001b[0m\u001b[1;33m\u001b[0m\u001b[0m\n\u001b[0m\u001b[0;32m    127\u001b[0m \u001b[1;33m\u001b[0m\u001b[0m\n\u001b[0;32m    128\u001b[0m \u001b[1;33m\u001b[0m\u001b[0m\n",
      "\u001b[1;32mC:\\ProgramData\\Anaconda3\\lib\\site-packages\\pyglet\\gl\\lib.py\u001b[0m in \u001b[0;36merrcheck\u001b[1;34m(result, func, arguments)\u001b[0m\n\u001b[0;32m    105\u001b[0m         \u001b[1;32mif\u001b[0m \u001b[0merror\u001b[0m\u001b[1;33m:\u001b[0m\u001b[1;33m\u001b[0m\u001b[1;33m\u001b[0m\u001b[0m\n\u001b[0;32m    106\u001b[0m             \u001b[0mmsg\u001b[0m \u001b[1;33m=\u001b[0m \u001b[0mctypes\u001b[0m\u001b[1;33m.\u001b[0m\u001b[0mcast\u001b[0m\u001b[1;33m(\u001b[0m\u001b[0mgl\u001b[0m\u001b[1;33m.\u001b[0m\u001b[0mgluErrorString\u001b[0m\u001b[1;33m(\u001b[0m\u001b[0merror\u001b[0m\u001b[1;33m)\u001b[0m\u001b[1;33m,\u001b[0m \u001b[0mctypes\u001b[0m\u001b[1;33m.\u001b[0m\u001b[0mc_char_p\u001b[0m\u001b[1;33m)\u001b[0m\u001b[1;33m.\u001b[0m\u001b[0mvalue\u001b[0m\u001b[1;33m\u001b[0m\u001b[1;33m\u001b[0m\u001b[0m\n\u001b[1;32m--> 107\u001b[1;33m             \u001b[1;32mraise\u001b[0m \u001b[0mGLException\u001b[0m\u001b[1;33m(\u001b[0m\u001b[0mmsg\u001b[0m\u001b[1;33m)\u001b[0m\u001b[1;33m\u001b[0m\u001b[1;33m\u001b[0m\u001b[0m\n\u001b[0m\u001b[0;32m    108\u001b[0m         \u001b[1;32mreturn\u001b[0m \u001b[0mresult\u001b[0m\u001b[1;33m\u001b[0m\u001b[1;33m\u001b[0m\u001b[0m\n\u001b[0;32m    109\u001b[0m \u001b[1;33m\u001b[0m\u001b[0m\n",
      "\u001b[1;31mGLException\u001b[0m: b'Der Vorgang ist ung\\xfcltig.'"
     ]
    }
   ],
   "source": [
    "from hex_minmax import *\n",
    "from hex_nnet import *\n",
    "from time import sleep\n",
    "from threading import Thread, Lock\n",
    "\n",
    "def threaded(func):\n",
    "    \"\"\"\n",
    "    Decorator that multithreads the target function\n",
    "    with the given parameters. Returns the thread\n",
    "    created for the function\n",
    "    \"\"\"\n",
    "    def wrapper(*args, **kwargs):\n",
    "        thread = Thread(target=func, args=args)\n",
    "        thread.start()\n",
    "        return thread\n",
    "    return wrapper\n",
    "\n",
    "aicalcs = False\n",
    "aidepth = 1\n",
    "\n",
    "bsize = 9\n",
    "\n",
    "# human player color (+1 is red, -1 is blue), ai will be the opposite\n",
    "player = +1\n",
    "rounds = 0\n",
    "\n",
    "mouse_pos = np.zeros(2)\n",
    "        \n",
    "\n",
    "\n",
    "# Allows anti aliasing\n",
    "config = pyglet.gl.Config(sample_buffers=1, samples=8)\n",
    "window = pyglet.window.Window(config=config, resizable=True)\n",
    "\n",
    "        \n",
    "label = pyglet.text.Label(f'ai depth = {aidepth}',\n",
    "                          font_name='Arial',\n",
    "                          font_size=14,\n",
    "                          color=(128,128,128,255),\n",
    "                          x=window.width//2, y=0,\n",
    "                          anchor_x='center', anchor_y='bottom')\n",
    "\n",
    "def reset():\n",
    "    global board, turn, over, path, wonby, resettime, ai, player, rounds\n",
    "    # Initialization of the game\n",
    "    board = np.zeros((bsize, bsize), 'int')\n",
    "    turn = 1 # whos turn is it?\n",
    "    over = False\n",
    "    path = None # winning path if game ends\n",
    "    wonby = 0\n",
    "    resettime = None\n",
    "    \n",
    "    # AI\n",
    "    #ai = MiniMax(timelimit=5)\n",
    "    #ai = MiniMax(maxdepth=4)\n",
    "    ai = MiniMax(maxdepth=1, heuristics=HexHeuristicsNNet())\n",
    "    \n",
    "    # Change human player color\n",
    "    player = (-1)**rounds\n",
    "    rounds += 1\n",
    "\n",
    "    \n",
    "reset()\n",
    "\n",
    "    \n",
    "def checkwon():\n",
    "    global over, path, wonby, resettime\n",
    "    if winner(board):\n",
    "        wonby = winner(board)\n",
    "        over = True\n",
    "        path = winning_path(board)\n",
    "        resettime = time() + 3\n",
    "\n",
    "\n",
    "@window.event\n",
    "def on_mouse_press(x, y, button, modifiers):\n",
    "    if button == mouse.LEFT:\n",
    "        global board, turn\n",
    "        \n",
    "        if turn != player:\n",
    "            return\n",
    "        \n",
    "        N = len(board)\n",
    "        # Scaling between coordinate x/y and screen x/y\n",
    "        _xy_sc = _xy_off = 50 / (N/8)\n",
    "        \n",
    "        # Find cell the mouse clicked on\n",
    "        x, y = (x-_xy_off)/_xy_sc, (y-_xy_off)/_xy_sc\n",
    "        i, j = pos_on_board(x, y, bsize)\n",
    "        if i is None:\n",
    "            return\n",
    "        \n",
    "        # Check if game is over\n",
    "        if over:\n",
    "            return\n",
    "        # Check if cell was already taken\n",
    "        if board[i,j] != 0:\n",
    "            return\n",
    "        \n",
    "        # Now take the cell\n",
    "        board[i,j] = turn\n",
    "        # Change current player\n",
    "        turn *= -1\n",
    "        checkwon()\n",
    "        \n",
    "        \n",
    "        \n",
    "@window.event\n",
    "def on_mouse_motion(x, y, dx, dy):\n",
    "    global mouse_pos\n",
    "    mouse_pos = x, y\n",
    "        \n",
    "@window.event\n",
    "def on_key_press(symbol, modifiers):\n",
    "    global aidepth\n",
    "    num = symbol - 48\n",
    "    if 1<=num<=5:\n",
    "        aidepth = num\n",
    "        label.text = f'ai depth = {aidepth}'\n",
    "        \n",
    "        \n",
    "minimax = None\n",
    "def ai_minimax():\n",
    "    global minimax\n",
    "    if minimax is None:\n",
    "        minimax = MiniMax()\n",
    "    minimax.maxdepth = aidepth\n",
    "    i, j = minimax.findmove(board, turn>0, verbose=3)\n",
    "    return i, j\n",
    "    \n",
    "def ai_mixed():\n",
    "    if np.sum(board!=0) <= 6:\n",
    "        ai = MiniMax(maxdepth=1, heuristics=HexHeuristicsNNet())\n",
    "    else:\n",
    "        global minimax\n",
    "        if minimax is None:\n",
    "            minimax = MiniMax(maxdepth=aidepth)\n",
    "        minimax.maxdepth = aidepth\n",
    "        #ai = MiniMax(maxdepth=aidepth)\n",
    "        ai = minimax\n",
    "        \n",
    "    i, j = ai.findmove(board, turn>0, verbose=3)\n",
    "    return i, j\n",
    "        \n",
    "    \n",
    "mcts = None\n",
    "def ai_mcts():\n",
    "    global mcts\n",
    "    from hex_mcts import MultiMCTS\n",
    "    if mcts is None:\n",
    "        #mcts = MultiMCTS(net='net2.dat', nparallel=16, nsearches=500)\n",
    "        mcts = MultiMCTS(net='net_selfplay150.dat', nparallel=16, nsearches=500, timelimit=5)\n",
    "        mcts = MultiMCTS(net='net_selfplay150.dat', nparallel=1, nsearches=50, timelimit=5)\n",
    "        from hex_net9x9 import NetAdaptive\n",
    "        mcts = MultiMCTS(net=NetAdaptive('net_9x9.dat'), nparallel=30, nsearches=1500, timelimit=5, params={'useQ':True, 'cpuct':1})\n",
    "    global board, turn, over, path, resettime\n",
    "    if over: return\n",
    "    \n",
    "    mcts.clear()\n",
    "    mcts.graph = ''\n",
    "    i, j = mcts.findmove(board, verbose=1)\n",
    "    plt.bar(range(len(mcts.policy)), mcts.policy)\n",
    "    plt.show()\n",
    "    return i, j\n",
    "        \n",
    "@threaded\n",
    "def make_ai_move():\n",
    "    global board, turn, aicalcs\n",
    "    if over: return\n",
    "    if aicalcs: return\n",
    "    aicalcs = True\n",
    "    \n",
    "    #i, j = ai_minimax()\n",
    "    #print('Minimax mode')\n",
    "    #i, j = ai_mixed()\n",
    "    #print('Mixed mode')\n",
    "    i, j = ai_mcts()\n",
    "    print('MCTS mode')\n",
    "    \n",
    "    # Now take the cell\n",
    "    board[i,j] = turn\n",
    "    # Change current player\n",
    "    turn *= -1\n",
    "    aicalcs = False\n",
    "    checkwon()\n",
    "    \n",
    "    # show on the screen\n",
    "    #show_board_gl(board, mouse_pos, path=path)\n",
    "    on_draw()\n",
    "    print('done make_ai_move')\n",
    "    \n",
    "\n",
    "@window.event\n",
    "def on_draw():\n",
    "\n",
    "    glClear(GL_COLOR_BUFFER_BIT)\n",
    "    glEnable(GL_BLEND)\n",
    "    glEnable(GL_LINE_SMOOTH)\n",
    "    glHint(GL_LINE_SMOOTH_HINT, GL_DONT_CARE)\n",
    "    \n",
    "    if resettime:\n",
    "        if time() > resettime:\n",
    "            reset()\n",
    "\n",
    "    show_board_gl(board, mouse_pos, path=path)\n",
    "    ##label.draw()\n",
    "    \n",
    "    if turn != player and not aicalcs:\n",
    "        make_ai_move()\n",
    "        show_board_gl(board, mouse_pos, path=path, wonby=wonby)\n",
    "        ##label.draw()\n",
    "        \n",
    "\n",
    "    \n",
    "pyglet.app.run()\n"
   ]
  },
  {
   "cell_type": "code",
   "execution_count": null,
   "metadata": {},
   "outputs": [],
   "source": []
  },
  {
   "cell_type": "markdown",
   "metadata": {},
   "source": [
    "## Spieler gegen Spieler"
   ]
  },
  {
   "cell_type": "code",
   "execution_count": 6,
   "metadata": {
    "run_control": {
     "marked": true
    }
   },
   "outputs": [],
   "source": [
    "from time import time\n",
    "\n",
    "bsize = 6\n",
    "\n",
    "mouse_pos = np.zeros(2)\n",
    "\n",
    "def reset():\n",
    "    global board, turn, over, path, resettime\n",
    "    # Initialization of the game\n",
    "    board = np.zeros((bsize, bsize), 'int')\n",
    "    turn = 1 # whos turn is it?\n",
    "    over = False\n",
    "    path = None # winning path if game ends\n",
    "    resettime = None\n",
    "\n",
    "reset()\n",
    "\n",
    "# Allows anti aliasing\n",
    "config = pyglet.gl.Config(sample_buffers=1, samples=8)\n",
    "window = pyglet.window.Window(config=config, resizable=False) \n",
    "\n",
    "\n",
    "@window.event\n",
    "def on_mouse_press(x, y, button, modifiers):\n",
    "    if button == mouse.LEFT:\n",
    "        global board, turn, over, path, resettime\n",
    "        \n",
    "        N = len(board)\n",
    "        # Scaling between coordinate x/y and screen x/y\n",
    "        _xy_sc = _xy_off = 50 / (N/8)\n",
    "        \n",
    "        # Find cell the mouse clicked on\n",
    "        x, y = (x-_xy_off)/_xy_sc, (y-_xy_off)/_xy_sc\n",
    "        i, j = pos_on_board(x, y, bsize)\n",
    "        if i is None:\n",
    "            return\n",
    "        \n",
    "        # Check if game is over\n",
    "        if over:\n",
    "            return\n",
    "        # Check if cell was already taken\n",
    "        if board[i,j] != 0:\n",
    "            return\n",
    "        \n",
    "        # Now take the cell\n",
    "        board[i,j] = turn\n",
    "        # Change current player\n",
    "        turn *= -1\n",
    "        if winner(board):\n",
    "            over = True\n",
    "            path = winning_path(board)\n",
    "            resettime = time() + 3\n",
    "        \n",
    "        \n",
    "@window.event\n",
    "def on_mouse_motion(x, y, dx, dy):\n",
    "    global mouse_pos\n",
    "    \n",
    "    # Scaling between coordinate x/y and screen x/y\n",
    "    xy_sc = xy_off = 50 / (bsize/8)\n",
    "    \n",
    "    mouse_pos = (x-xy_off)/xy_sc, (y-xy_off)/xy_sc\n",
    "    mouse_pos = x, y\n",
    "        \n",
    "        \n",
    "@window.event\n",
    "def on_draw():\n",
    "\n",
    "    # Clear buffers (necessary?)\n",
    "    glClear(GL_COLOR_BUFFER_BIT)\n",
    "    #glEnable(GL_BLEND)                                                            \n",
    "    #glEnable(GL_LINE_SMOOTH)\n",
    "    #glHint (GL_LINE_SMOOTH_HINT, GL_DONT_CARE)\n",
    "    glColor3d(0.8, 0.0, 0.0)\n",
    "    \n",
    "    if resettime:\n",
    "        if time() > resettime:\n",
    "            reset()\n",
    "\n",
    "    show_board_gl(board, mouse_pos, path=path)\n",
    "    \n",
    "    \n",
    "pyglet.app.run()"
   ]
  },
  {
   "cell_type": "code",
   "execution_count": 7,
   "metadata": {},
   "outputs": [
    {
     "data": {
      "image/png": "[encoded data removed]",
      "text/plain": [
       "<Figure size 560x420 with 1 Axes>"
      ]
     },
     "metadata": {
      "needs_background": "light"
     },
     "output_type": "display_data"
    }
   ],
   "source": [
    "board=filledboard(9, .5)\n",
    "show_board(board)"
   ]
  },
  {
   "cell_type": "code",
   "execution_count": 8,
   "metadata": {},
   "outputs": [
    {
     "ename": "AttributeError",
     "evalue": "'NoneType' object has no attribute 'PV'",
     "output_type": "error",
     "traceback": [
      "\u001b[1;31m---------------------------------------------------------------------------\u001b[0m",
      "\u001b[1;31mAttributeError\u001b[0m                            Traceback (most recent call last)",
      "\u001b[1;32m<ipython-input-8-e8d709eb21b7>\u001b[0m in \u001b[0;36m<module>\u001b[1;34m\u001b[0m\n\u001b[1;32m----> 1\u001b[1;33m \u001b[0mP\u001b[0m\u001b[1;33m,\u001b[0m \u001b[0mV\u001b[0m \u001b[1;33m=\u001b[0m \u001b[0mmcts\u001b[0m\u001b[1;33m.\u001b[0m\u001b[0mPV\u001b[0m\u001b[1;33m.\u001b[0m\u001b[0mnnet\u001b[0m\u001b[1;33m.\u001b[0m\u001b[0mpredictStack\u001b[0m\u001b[1;33m(\u001b[0m\u001b[1;33m[\u001b[0m\u001b[0mboard\u001b[0m\u001b[1;33m]\u001b[0m\u001b[1;33m)\u001b[0m\u001b[1;33m\u001b[0m\u001b[1;33m\u001b[0m\u001b[0m\n\u001b[0m",
      "\u001b[1;31mAttributeError\u001b[0m: 'NoneType' object has no attribute 'PV'"
     ]
    }
   ],
   "source": [
    "P, V = mcts.PV.nnet.predictStack([board])"
   ]
  },
  {
   "cell_type": "code",
   "execution_count": null,
   "metadata": {},
   "outputs": [],
   "source": [
    "show_board(P[0], cmap='cividis')"
   ]
  },
  {
   "cell_type": "code",
   "execution_count": null,
   "metadata": {},
   "outputs": [],
   "source": []
  }
 ],
 "metadata": {
  "kernelspec": {
   "display_name": "Python 3 (ipykernel)",
   "language": "python",
   "name": "python3"
  },
  "language_info": {
   "codemirror_mode": {
    "name": "ipython",
    "version": 3
   },
   "file_extension": ".py",
   "mimetype": "text/x-python",
   "name": "python",
   "nbconvert_exporter": "python",
   "pygments_lexer": "ipython3",
   "version": "3.11.5"
  },
  "varInspector": {
   "cols": {
    "lenName": 16,
    "lenType": 16,
    "lenVar": 40
   },
   "kernels_config": {
    "python": {
     "delete_cmd_postfix": "",
     "delete_cmd_prefix": "del ",
     "library": "var_list.py",
     "varRefreshCmd": "print(var_dic_list())"
    },
    "r": {
     "delete_cmd_postfix": ") ",
     "delete_cmd_prefix": "rm(",
     "library": "var_list.r",
     "varRefreshCmd": "cat(var_dic_list()) "
    }
   },
   "types_to_exclude": [
    "module",
    "function",
    "builtin_function_or_method",
    "instance",
    "_Feature"
   ],
   "window_display": false
  }
 },
 "nbformat": 4,
 "nbformat_minor": 4
}
