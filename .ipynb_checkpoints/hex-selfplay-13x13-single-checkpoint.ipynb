{
 "cells": [
  {
   "cell_type": "code",
   "execution_count": 9,
   "metadata": {
    "ExecuteTime": {
     "end_time": "2021-04-12T22:44:22.181250Z",
     "start_time": "2021-04-12T22:44:22.096302Z"
    }
   },
   "outputs": [],
   "source": [
    "import numpy as np\n",
    "import matplotlib.pyplot as plt\n",
    "import matplotlib.patches as patches\n",
    "%matplotlib inline\n",
    "from tqdm.notebook import tqdm, trange"
   ]
  },
  {
   "cell_type": "code",
   "execution_count": 10,
   "metadata": {
    "ExecuteTime": {
     "end_time": "2021-04-12T22:44:22.277190Z",
     "start_time": "2021-04-12T22:44:22.183249Z"
    }
   },
   "outputs": [
    {
     "name": "stdout",
     "output_type": "stream",
     "text": [
      "The autoreload extension is already loaded. To reload it, use:\n",
      "  %reload_ext autoreload\n"
     ]
    }
   ],
   "source": [
    "%load_ext autoreload\n",
    "%autoreload 2\n",
    "\n",
    "from hex_show import *\n",
    "from hex_pathfinding import *\n",
    "from hex_helpers import *\n",
    "from hex_minmax import *\n",
    "from hex_train_helpers import *\n",
    "from hex_transfer import *\n",
    "\n",
    "bsize=13\n",
    "N=13"
   ]
  },
  {
   "cell_type": "code",
   "execution_count": 11,
   "metadata": {
    "ExecuteTime": {
     "end_time": "2021-04-12T22:44:22.371131Z",
     "start_time": "2021-04-12T22:44:22.279189Z"
    }
   },
   "outputs": [],
   "source": [
    "from collections import namedtuple\n",
    "\n",
    "gamestate = namedtuple('gamestate', 'b, p, v, addv', defaults=[None, None, 0, []])"
   ]
  },
  {
   "cell_type": "markdown",
   "metadata": {},
   "source": [
    "## Initialisierung"
   ]
  },
  {
   "cell_type": "code",
   "execution_count": 12,
   "metadata": {
    "ExecuteTime": {
     "end_time": "2021-04-12T22:44:22.478067Z",
     "start_time": "2021-04-12T22:44:22.373131Z"
    }
   },
   "outputs": [],
   "source": [
    "\n",
    "class RandomPlayer(MiniMax):\n",
    "    @staticmethod\n",
    "    def findmove(board):\n",
    "        while True:\n",
    "            k = np.random.randint(N**2)\n",
    "            if board[divmod(k,N)]==0:\n",
    "                return divmod(k,N)\n",
    "            \n",
    "            \n",
    "def ClassicAI(depth):\n",
    "    if depth==0:\n",
    "        return RandomPlayer()\n",
    "    return MiniMax(maxdepth=depth)"
   ]
  },
  {
   "cell_type": "markdown",
   "metadata": {},
   "source": [
    "## Pitting"
   ]
  },
  {
   "cell_type": "code",
   "execution_count": 13,
   "metadata": {
    "ExecuteTime": {
     "end_time": "2021-04-12T22:44:22.586999Z",
     "start_time": "2021-04-12T22:44:22.480065Z"
    }
   },
   "outputs": [],
   "source": [
    "# Funktion für das pitten zweier ai`s (Wettkampf mit n Runden)\n",
    "\n",
    "def pit(ai1, ai2, n=20, nrnd=0, frame=0, verbose=0):\n",
    "    '''Pits two ai for n rounds. First nrnd moves are randomly chosen.\n",
    "    confidence: sigma interval in where you want to know one ai is better than the other\n",
    "    '''\n",
    "        \n",
    "    if type(n) is type(None) or n==np.Inf:\n",
    "        n = int(1e10)\n",
    "    \n",
    "    wins1 = 0\n",
    "    wins2 = 0\n",
    "    \n",
    "    for k in range(n):\n",
    "\n",
    "        if k%2 == 0:\n",
    "            ai_red  = ai1\n",
    "            ai_blue = ai2\n",
    "        else:\n",
    "            ai_red  = ai2\n",
    "            ai_blue = ai1\n",
    "            \n",
    "        if k%2 == 0:\n",
    "            board0 = filledboard(bsize, nrnd, frame)\n",
    "            \n",
    "        board = board0.copy()\n",
    "        turn = (-1)**(board!=0).sum()\n",
    "\n",
    "        while True:\n",
    "\n",
    "            if turn>0:\n",
    "                #'Reds turn'\n",
    "\n",
    "                # Move by an AI\n",
    "                #x, y = ai_red.findmove(board, True, verbose=0)\n",
    "                x, y = ai_red.findmove(board)\n",
    "\n",
    "            else:\n",
    "                #'Blues turn'\n",
    "\n",
    "                # Move by an AI\n",
    "                #x, y = ai_blue.findmove(board, False, verbose=0)\n",
    "                x, y = ai_blue.findmove(board)\n",
    "\n",
    "\n",
    "            board[x,y] = turn\n",
    "            turn *= -1\n",
    "            \n",
    "            if verbose>=2:\n",
    "                show_board(board)\n",
    "\n",
    "\n",
    "            # If someone has won\n",
    "            won = winner(board)\n",
    "            if won!=0:\n",
    "                break\n",
    "\n",
    "        if k%2==1:\n",
    "            won *= -1\n",
    "        wins1 += int(+won/2+1/2)\n",
    "        wins2 += int(-won/2+1/2)\n",
    "        sigma = np.sqrt(wins1*wins2/(wins1+wins2))\n",
    "        \n",
    "        try: ai1.clear()\n",
    "        except: pass\n",
    "        try: ai2.clear()\n",
    "        except: pass\n",
    "        \n",
    "        if verbose:\n",
    "            print(wins1, k+1)\n",
    "        \n",
    "        \n",
    "    #return wins1, wins2\n",
    "    return wins1/n"
   ]
  },
  {
   "cell_type": "markdown",
   "metadata": {},
   "source": [
    "## Training"
   ]
  },
  {
   "cell_type": "code",
   "execution_count": 55,
   "metadata": {
    "ExecuteTime": {
     "end_time": "2021-04-13T13:58:01.536896Z",
     "start_time": "2021-04-13T13:58:01.405390Z"
    }
   },
   "outputs": [],
   "source": [
    "\n",
    "# Batch generator for neural network training\n",
    "\n",
    "def batchgen(gamerecords, size=50, istart=0, verbose=None):\n",
    "    '''size: minibatchsize\n",
    "    istart, iend: Start- und Endindex der herausgegebenen Samples\n",
    "    verbose: Wenn überschrieben, dann mit einem String des Batchgen Namens (z. B. Supervised)'''\n",
    "    ep = 0\n",
    "    iend = len(gamerecords)\n",
    "    while True:\n",
    "        ilist = range(istart, iend)\n",
    "        ilist = np.random.permutation(ilist)\n",
    "        minibatches = [ ilist[k*size:(k+1)*size] for k in range(len(ilist)//size) ]\n",
    "        for mb in minibatches:\n",
    "            # Network needs following informations: Board, Valid moves mask, policy, value, additional values\n",
    "            bs = np.zeros((size, 5, N, N))  # board\n",
    "            vds = np.zeros((size, 1, N, N)) # valid\n",
    "            ps = np.zeros((size, 1, N, N))  # policy\n",
    "            vs = np.zeros((size, 1))        # value\n",
    "            addvs = np.zeros((size, 100))   # additional value\n",
    "            for i, k in enumerate(mb):\n",
    "                try:\n",
    "                    be, vd, p, v, addv = gamerecords[k]\n",
    "                except:\n",
    "                    b, p, v, addv = gamerecords[k]  # x is in board format -> preprocess/encode and save in right way\n",
    "                    be, vd = net.preprocess(b)\n",
    "                    gamerecords[k] = be, vd, p, v, addv\n",
    "                bs[i] = be\n",
    "                vds[i,0] = vd\n",
    "                #pi, pj = p\n",
    "                #ps[i, 0, pi, pj] = 1\n",
    "                ps[i] = p\n",
    "                vs[i] = v\n",
    "                addvs[i] = addv\n",
    "            yield bs, vds, ps, vs, addvs\n",
    "        if verbose:\n",
    "            print(f'{verbose}: finished one epoch ({ep})!')\n",
    "        ep += 1\n",
    "        \n",
    "        \n",
    "def ensemble(nets, *args):\n",
    "    num = len(nets)\n",
    "    ps, vs = 0, 0\n",
    "    for i in range(num):\n",
    "        with torch.no_grad():\n",
    "            p, v = nets[i](*args)\n",
    "            \n",
    "            ps += p/num\n",
    "            vs += v/num\n",
    "    return ps, vs\n",
    "        \n",
    "\n",
    "def train(net, gamerecords, gamerecords_legacy=[], iterations=4000, teachers=[], aug_ds=True, cons_ds=False, verbose=0):\n",
    "    '''Trainiert das Netz\n",
    "    aug_ds: Augmentation durch Drehspiegelung (Flip in x und y)\n",
    "    cons_ds: Konsistenzbedingung unter Drehspiegelung auf dem unsupervised Set\n",
    "    teacher_function: Eine Funktion, nach der auf dem unsupervised Set das Netzwerk trainiert wird. Wenn None wird der MTeacher genutzt'''\n",
    "\n",
    "    #if net is None:\n",
    "    #    net = Net(n=64)\n",
    "    optimizer = torch.optim.Adam(lr=3e-4, params=net.parameters(), weight_decay=1e-4)\n",
    "    bg_s = batchgen(gamerecords, istart=500, size=200)                 #### istart erhöhen um valbatch zu haben? für early stopping?\n",
    "    bg_u = batchgen(gamerecords_legacy, size=150)\n",
    "    bg_v = batchgen(gamerecords[:500], size=500)\n",
    "    BCE = nn.BCELoss()\n",
    "    MSE = nn.MSELoss()\n",
    "    L1Loss = nn.L1Loss()\n",
    "    L1L2 = lambda p, t: MSE(p,t) + L1Loss(p,t)\n",
    "    LogLoss = lambda yp, yt: torch.mean(-yt*torch.log(yp+1e-4)) * 10\n",
    "    plosses, vlosses, semlosses = ( [] for l in range(3) )\n",
    "    semloss = 0\n",
    "    \n",
    "    def getValloss():\n",
    "        # Valbatch\n",
    "        b, vd, tp, tv, taddv = next(bg_v)\n",
    "        b, vd, tp, tv, taddv = batch2torch(b, vd, tp, tv, taddv)\n",
    "\n",
    "        do, net.dropout = net.dropout, 0\n",
    "        pp, pv, pvtuned, bigV = net(b, vd)\n",
    "        ##bigV, pvtuned = net.mix(y)\n",
    "        net.dropout = do\n",
    "        return LogLoss(pp.reshape(-1), tp.reshape(-1)), MSE(bigV[:,0], tv[:,0]).item()\n",
    "\n",
    "\n",
    "    # Trainings loop\n",
    "    for k in trange(iterations):\n",
    "\n",
    "        # ==== Supervised step ====\n",
    "        b, vd, tp, tv, taddv = next(bg_s)\n",
    "        b, vd, tp, tv, taddv = batch2torch(b, vd, tp, tv, taddv)\n",
    "        \n",
    "        \n",
    "        if aug_ds:\n",
    "            if np.random.rand()<0.5:\n",
    "                b = torch.flip(b, [2, 3])\n",
    "                vd = torch.flip(vd, [2, 3])\n",
    "                tp = torch.flip(tp, [2, 3])\n",
    "            \n",
    "        pp, pv, pvtuned, bigV = net(b, vd)\n",
    "        ###bigV, pvtuned = net.mix(y)\n",
    "        \n",
    "        # For softmax LogLoss, for sigmoid BCE\n",
    "        #_loss = LogLoss(pp.reshape(-1), tp.reshape(-1)) + L1L2(pv[:,1:13], taddv[:,:12]) + 1e-3*MSE(bigV[:,0], tv[:,0]) + 1e-3*MSE(pvtuned[:,1:13], torch.stack(12*[tv[:,0]], -1))\n",
    "        \n",
    "        ploss = LogLoss(pp.reshape(-1), tp.reshape(-1))\n",
    "        vloss = L1L2(1.02*pv[:,:], taddv[:,:]) + MSE(bigV[:,0], tv[:,0]) + MSE(1.02*pvtuned[:,:], torch.stack(100*[tv[:,0]], -1))\n",
    "        _loss = ploss + vloss\n",
    "        ploss = ploss.item()\n",
    "        vloss = MSE(bigV[:,0], tv[:,0]).item()\n",
    "        \n",
    "        '''\n",
    "        if teachers:\n",
    "            epp, epv = ensemble(teachers, b, vd) ###\n",
    "            epv = epv[:,0]\n",
    "            semloss = 2*(MSE(pp, epp) + MSE(pv, epv))###\n",
    "            _loss += semloss\n",
    "            semloss = semloss.item()'''\n",
    "        \n",
    "        \n",
    "        '''\n",
    "        # ==== Unsupervised step ====\n",
    "        if teachers and len(gamerecords_legacy)>0:\n",
    "            b1, vd1, _, _ = batch2torch(*next(bg_u))\n",
    "\n",
    "            ## Drehspiegelung als augmentation\n",
    "            b2  = torch.flip(b1,  [2, 3])\n",
    "            vd2 = torch.flip(vd1, [2, 3])\n",
    "\n",
    "            # --> welches Netzwerk ?\n",
    "            pp1, pv1 = net(b1, vd1)\n",
    "            pp2, pv2 = ensemble(teachers, b2, vd2) ###\n",
    "            \n",
    "            pp2 = torch.flip(pp2, [2, 3]) ## flip back\n",
    "                \n",
    "            semloss = 2*(MSE(pp1, pp2) + MSE(pv1, pv2) + L1Loss(pv1, pv2))###\n",
    "            _loss += 2*semloss\n",
    "            semloss = semloss.item()'''\n",
    "\n",
    "        # do the training step on the network\n",
    "        _loss.backward()\n",
    "        optimizer.step()\n",
    "        optimizer.zero_grad()\n",
    "\n",
    "        \n",
    "        # Statistic\n",
    "        plosses += [ploss]\n",
    "        vlosses += [vloss]\n",
    "        semlosses += [semloss]\n",
    "        \n",
    "        \n",
    "        # Verbose output, measure minimum val loss\n",
    "        if len(plosses) == 100:\n",
    "            pvalloss, vvalloss = getValloss()\n",
    "            if verbose>=1:\n",
    "                print('PLoss=%f, VLoss=%f, Pvalloss=%f, Vvalloss=%f'% (np.mean(plosses), np.mean(vlosses), pvalloss, vvalloss))\n",
    "            plosses, vlosses, semlosses = ( [] for l in range(3) )\n",
    "            \n",
    "    #net.dropout = 0\n",
    "    return net"
   ]
  },
  {
   "cell_type": "code",
   "execution_count": 52,
   "metadata": {
    "ExecuteTime": {
     "end_time": "2021-04-13T13:26:05.621642Z",
     "start_time": "2021-04-13T13:24:47.104064Z"
    },
    "scrolled": true
   },
   "outputs": [
    {
     "data": {
      "application/vnd.jupyter.widget-view+json": {
       "model_id": "d030c5a9a30446ad81764bea16c4050d",
       "version_major": 2,
       "version_minor": 0
      },
      "text/plain": [
       "HBox(children=(FloatProgress(value=0.0, max=1000.0), HTML(value='')))"
      ]
     },
     "metadata": {},
     "output_type": "display_data"
    },
    {
     "name": "stdout",
     "output_type": "stream",
     "text": [
      "PLoss=0.000000, VLoss=0.841205, Pvalloss=0.000000, Vvalloss=0.723009\n",
      "PLoss=0.000000, VLoss=0.836912, Pvalloss=0.000000, Vvalloss=0.752504\n",
      "PLoss=0.000000, VLoss=0.831557, Pvalloss=0.000000, Vvalloss=0.735190\n",
      "PLoss=0.000000, VLoss=0.835449, Pvalloss=0.000000, Vvalloss=0.733218\n",
      "PLoss=0.000000, VLoss=0.826852, Pvalloss=0.000000, Vvalloss=0.730015\n",
      "PLoss=0.000000, VLoss=0.828627, Pvalloss=0.000000, Vvalloss=0.733880\n",
      "\n"
     ]
    },
    {
     "ename": "KeyboardInterrupt",
     "evalue": "",
     "output_type": "error",
     "traceback": [
      "\u001b[1;31m---------------------------------------------------------------------------\u001b[0m",
      "\u001b[1;31mKeyboardInterrupt\u001b[0m                         Traceback (most recent call last)",
      "\u001b[1;32m<ipython-input-52-bf07948bdcde>\u001b[0m in \u001b[0;36m<module>\u001b[1;34m\u001b[0m\n\u001b[0;32m      1\u001b[0m \u001b[1;31m#net = Net13x13()\u001b[0m\u001b[1;33m\u001b[0m\u001b[1;33m\u001b[0m\u001b[1;33m\u001b[0m\u001b[0m\n\u001b[1;32m----> 2\u001b[1;33m \u001b[0mtrain\u001b[0m\u001b[1;33m(\u001b[0m\u001b[0mnet\u001b[0m\u001b[1;33m,\u001b[0m \u001b[0mgame_rec\u001b[0m\u001b[1;33m+\u001b[0m\u001b[0mgame_rec_leg\u001b[0m\u001b[1;33m,\u001b[0m \u001b[1;33m[\u001b[0m\u001b[1;33m]\u001b[0m\u001b[1;33m,\u001b[0m \u001b[0miterations\u001b[0m\u001b[1;33m=\u001b[0m\u001b[1;36m1000\u001b[0m\u001b[1;33m,\u001b[0m \u001b[0mverbose\u001b[0m\u001b[1;33m=\u001b[0m\u001b[1;36m1\u001b[0m\u001b[1;33m)\u001b[0m\u001b[1;33m\u001b[0m\u001b[1;33m\u001b[0m\u001b[0m\n\u001b[0m",
      "\u001b[1;32m<ipython-input-44-66ae8812a865>\u001b[0m in \u001b[0;36mtrain\u001b[1;34m(net, gamerecords, gamerecords_legacy, iterations, teachers, aug_ds, cons_ds, verbose)\u001b[0m\n\u001b[0;32m    137\u001b[0m \u001b[1;33m\u001b[0m\u001b[0m\n\u001b[0;32m    138\u001b[0m         \u001b[1;31m# do the training step on the network\u001b[0m\u001b[1;33m\u001b[0m\u001b[1;33m\u001b[0m\u001b[1;33m\u001b[0m\u001b[0m\n\u001b[1;32m--> 139\u001b[1;33m         \u001b[0m_loss\u001b[0m\u001b[1;33m.\u001b[0m\u001b[0mbackward\u001b[0m\u001b[1;33m(\u001b[0m\u001b[1;33m)\u001b[0m\u001b[1;33m\u001b[0m\u001b[1;33m\u001b[0m\u001b[0m\n\u001b[0m\u001b[0;32m    140\u001b[0m         \u001b[0moptimizer\u001b[0m\u001b[1;33m.\u001b[0m\u001b[0mstep\u001b[0m\u001b[1;33m(\u001b[0m\u001b[1;33m)\u001b[0m\u001b[1;33m\u001b[0m\u001b[1;33m\u001b[0m\u001b[0m\n\u001b[0;32m    141\u001b[0m         \u001b[0moptimizer\u001b[0m\u001b[1;33m.\u001b[0m\u001b[0mzero_grad\u001b[0m\u001b[1;33m(\u001b[0m\u001b[1;33m)\u001b[0m\u001b[1;33m\u001b[0m\u001b[1;33m\u001b[0m\u001b[0m\n",
      "\u001b[1;32mC:\\ProgramData\\Anaconda3\\lib\\site-packages\\torch\\tensor.py\u001b[0m in \u001b[0;36mbackward\u001b[1;34m(self, gradient, retain_graph, create_graph)\u001b[0m\n\u001b[0;32m    196\u001b[0m                 \u001b[0mproducts\u001b[0m\u001b[1;33m.\u001b[0m \u001b[0mDefaults\u001b[0m \u001b[0mto\u001b[0m\u001b[0;31m \u001b[0m\u001b[0;31m`\u001b[0m\u001b[0;31m`\u001b[0m\u001b[1;32mFalse\u001b[0m\u001b[0;31m`\u001b[0m\u001b[0;31m`\u001b[0m\u001b[1;33m.\u001b[0m\u001b[1;33m\u001b[0m\u001b[1;33m\u001b[0m\u001b[0m\n\u001b[0;32m    197\u001b[0m         \"\"\"\n\u001b[1;32m--> 198\u001b[1;33m         \u001b[0mtorch\u001b[0m\u001b[1;33m.\u001b[0m\u001b[0mautograd\u001b[0m\u001b[1;33m.\u001b[0m\u001b[0mbackward\u001b[0m\u001b[1;33m(\u001b[0m\u001b[0mself\u001b[0m\u001b[1;33m,\u001b[0m \u001b[0mgradient\u001b[0m\u001b[1;33m,\u001b[0m \u001b[0mretain_graph\u001b[0m\u001b[1;33m,\u001b[0m \u001b[0mcreate_graph\u001b[0m\u001b[1;33m)\u001b[0m\u001b[1;33m\u001b[0m\u001b[1;33m\u001b[0m\u001b[0m\n\u001b[0m\u001b[0;32m    199\u001b[0m \u001b[1;33m\u001b[0m\u001b[0m\n\u001b[0;32m    200\u001b[0m     \u001b[1;32mdef\u001b[0m \u001b[0mregister_hook\u001b[0m\u001b[1;33m(\u001b[0m\u001b[0mself\u001b[0m\u001b[1;33m,\u001b[0m \u001b[0mhook\u001b[0m\u001b[1;33m)\u001b[0m\u001b[1;33m:\u001b[0m\u001b[1;33m\u001b[0m\u001b[1;33m\u001b[0m\u001b[0m\n",
      "\u001b[1;32mC:\\ProgramData\\Anaconda3\\lib\\site-packages\\torch\\autograd\\__init__.py\u001b[0m in \u001b[0;36mbackward\u001b[1;34m(tensors, grad_tensors, retain_graph, create_graph, grad_variables)\u001b[0m\n\u001b[0;32m     98\u001b[0m     Variable._execution_engine.run_backward(\n\u001b[0;32m     99\u001b[0m         \u001b[0mtensors\u001b[0m\u001b[1;33m,\u001b[0m \u001b[0mgrad_tensors\u001b[0m\u001b[1;33m,\u001b[0m \u001b[0mretain_graph\u001b[0m\u001b[1;33m,\u001b[0m \u001b[0mcreate_graph\u001b[0m\u001b[1;33m,\u001b[0m\u001b[1;33m\u001b[0m\u001b[1;33m\u001b[0m\u001b[0m\n\u001b[1;32m--> 100\u001b[1;33m         allow_unreachable=True)  # allow_unreachable flag\n\u001b[0m\u001b[0;32m    101\u001b[0m \u001b[1;33m\u001b[0m\u001b[0m\n\u001b[0;32m    102\u001b[0m \u001b[1;33m\u001b[0m\u001b[0m\n",
      "\u001b[1;31mKeyboardInterrupt\u001b[0m: "
     ]
    }
   ],
   "source": [
    "#net = Net13x13()\n",
    "train(net, game_rec+game_rec_leg, [], iterations=1000, verbose=1)"
   ]
  },
  {
   "cell_type": "code",
   "execution_count": 61,
   "metadata": {
    "ExecuteTime": {
     "end_time": "2021-04-13T14:06:18.764211Z",
     "start_time": "2021-04-13T14:06:18.643518Z"
    }
   },
   "outputs": [
    {
     "data": {
      "text/plain": [
       "Parameter containing:\n",
       "tensor([[ 0.0516, -0.1732, -0.6439,  0.3845, -0.1534,  0.5874, -0.0497, -0.0773,\n",
       "          0.7288,  0.1193,  0.4619, -0.0560, -0.0462, -0.5096, -0.0596, -0.0794,\n",
       "          0.5199,  0.9571,  0.3856, -0.1258,  0.1568,  0.5184,  0.1338,  0.8973,\n",
       "         -0.3165,  0.1027,  0.2429, -0.1541,  0.9189,  0.6933,  1.0293,  0.9067,\n",
       "          1.0283,  0.9679,  0.9361,  0.4686,  0.3484, -0.0734,  0.2518,  0.1045,\n",
       "          0.1452,  0.3880,  0.1011,  0.1244,  0.1273,  0.3839,  0.1172,  0.1210,\n",
       "          0.1193,  0.2553,  1.0150,  0.1084,  0.1106,  0.1185,  0.6210,  0.2146,\n",
       "          0.0604,  0.0845,  0.3007, -0.3006,  0.0633,  0.0829,  1.0894,  0.0973,\n",
       "          0.1050,  0.5637,  1.0721,  0.0431,  0.8933,  1.0755,  1.1815,  0.0548,\n",
       "          0.1862,  0.0556,  0.0838,  0.0610, -0.3221,  0.0595,  0.0906,  0.5539,\n",
       "         -0.2469,  0.0666,  0.0684, -0.1392,  0.4513,  0.0530,  0.0817, -0.1014,\n",
       "         -0.2812,  0.4223,  0.8232,  0.9045,  0.9923,  0.1385, -0.0716,  0.2991,\n",
       "         -0.4095,  0.1190, -0.0432, -1.0698]], device='cuda:0',\n",
       "       requires_grad=True)"
      ]
     },
     "execution_count": 61,
     "metadata": {},
     "output_type": "execute_result"
    }
   ],
   "source": [
    "net.alphas"
   ]
  },
  {
   "cell_type": "code",
   "execution_count": 62,
   "metadata": {
    "ExecuteTime": {
     "end_time": "2021-04-13T14:06:37.322486Z",
     "start_time": "2021-04-13T14:06:37.214039Z"
    }
   },
   "outputs": [
    {
     "data": {
      "text/plain": [
       "Parameter containing:\n",
       "tensor([[ 0.8709,  0.0553,  0.1783,  0.0285,  0.1128, -0.0300,  0.0517, -0.1350,\n",
       "          0.0107, -0.0104, -0.1139, -0.0180, -0.0645, -0.0755, -0.0154, -0.0775,\n",
       "          0.0142, -0.0509,  0.0521, -0.0151, -0.1289,  0.0065,  0.0375, -0.0259,\n",
       "         -0.0293,  0.0352, -0.0610,  0.0316, -0.0778, -0.0239, -0.0553, -0.0370,\n",
       "         -0.0254,  0.0265,  0.0378, -0.1535, -0.0785,  0.0046,  0.0174,  0.0988,\n",
       "         -0.0189,  0.0521, -0.0311, -0.0396, -0.0279,  0.1232,  0.1206, -0.0470,\n",
       "         -0.0315, -0.0564, -0.0937,  0.1128, -0.0875,  0.1234,  0.0595,  0.0186,\n",
       "          0.0436, -0.0094, -0.0516, -0.0311, -0.0603,  0.0150,  0.0625,  0.1091,\n",
       "          0.0568, -0.1687, -0.0396, -0.0070, -0.0654,  0.0593, -0.0090,  0.0318,\n",
       "         -0.0396,  0.1394,  0.0849,  0.1198,  0.0414,  0.0201,  0.0173,  0.0283,\n",
       "         -0.0792, -0.0142, -0.0404,  0.0156, -0.0711,  0.0794, -0.0111, -0.0453,\n",
       "         -0.0903,  0.1199, -0.0478, -0.0600,  0.0110, -0.0089, -0.1414, -0.1077,\n",
       "          0.0129, -0.0327,  0.0812, -0.0517]], device='cuda:0',\n",
       "       requires_grad=True)"
      ]
     },
     "execution_count": 62,
     "metadata": {},
     "output_type": "execute_result"
    }
   ],
   "source": [
    "net.alphasV.weight"
   ]
  },
  {
   "cell_type": "markdown",
   "metadata": {},
   "source": [
    "### Selfplay"
   ]
  },
  {
   "cell_type": "code",
   "execution_count": 15,
   "metadata": {
    "ExecuteTime": {
     "end_time": "2021-04-12T22:44:22.806863Z",
     "start_time": "2021-04-12T22:44:22.712921Z"
    },
    "run_control": {
     "marked": false
    },
    "scrolled": true
   },
   "outputs": [],
   "source": [
    "from hex_minmax import *\n",
    "from hex_nnet import *\n",
    "from hex_mcts import *\n",
    "\n",
    "\n",
    "import pickle\n",
    "\n",
    "\n",
    "def selfplay(ai, ngames=1000, verbose=0):\n",
    "    \n",
    "    red_wins = 0\n",
    "    blue_wins = 0\n",
    "    games_record = []\n",
    "\n",
    "    # Iterator with tqdm??\n",
    "    iter = range(ngames)\n",
    "    if verbose>=1:\n",
    "        iter = tqdm(iter)\n",
    "        \n",
    "    # Play n games!\n",
    "    for k in iter:\n",
    "\n",
    "        ##ai = MultiMCTS(nparallel=5, nsearches=50, path='net_train_selfplay.dat')\n",
    "        ai.eta = 0.3\n",
    "        ai_red = ai\n",
    "        ai_blue = ai\n",
    "\n",
    "        #### #  Spiele aufzeichnen\n",
    "        boards_moves_record = []\n",
    "        ####\n",
    "\n",
    "        #board = np.zeros((bsize,bsize), int)\n",
    "        board = filledboard(bsize, 3, FRAME)\n",
    "        turn = getturn(board)\n",
    "\n",
    "        while True:\n",
    "\n",
    "            #show_board(board)\n",
    "            #plt.show()\n",
    "\n",
    "\n",
    "            if turn>0:\n",
    "                #print('Reds turn')\n",
    "\n",
    "                # Move by an AI\n",
    "                x, y = ai_red.findmove(board)\n",
    "\n",
    "\n",
    "            else:\n",
    "                #print('Blues turn')\n",
    "\n",
    "                # Move by an AI\n",
    "                x, y = ai_blue.findmove(board)\n",
    "\n",
    "            if turn > 0:\n",
    "                boards_moves_record += [(board.copy(), (x,y), turn)]\n",
    "            else:\n",
    "                boards_moves_record += [(-board.T.copy(), (y,x), turn)]\n",
    "                \n",
    "\n",
    "            board[x,y] = turn\n",
    "            turn *= -1\n",
    "\n",
    "\n",
    "\n",
    "            # If someone has won\n",
    "            won = winner(board)\n",
    "            if won!=0:\n",
    "                #path = winning_path(board)\n",
    "                if verbose >= 2:\n",
    "                    if won==+1:\n",
    "                        print('Red has won!')\n",
    "                    else:\n",
    "                        print('Blue has won!')\n",
    "                if verbose >= 3:\n",
    "                    show_board(board)\n",
    "                    show_path(path)\n",
    "                    plt.show()\n",
    "                break\n",
    "\n",
    "        red_wins  += int(+won/2+1/2)\n",
    "        blue_wins += int(-won/2+1/2)\n",
    "\n",
    "        winpath = winning_path(board)\n",
    "\n",
    "        # Spiele aufzeichnen\n",
    "        boards_won_record = [ (b, m, t*won) for b, m, t in boards_moves_record ]\n",
    "        ## irgendwann winning path hinzufügen?\n",
    "\n",
    "        games_record += boards_won_record\n",
    "        \n",
    "    return games_record"
   ]
  },
  {
   "cell_type": "code",
   "execution_count": 7,
   "metadata": {
    "deletable": false,
    "editable": false,
    "run_control": {
     "frozen": true,
     "marked": false
    },
    "scrolled": true
   },
   "outputs": [],
   "source": [
    "from hex_minmax import *\n",
    "from hex_nnet import *\n",
    "from hex_mcts import *\n",
    "\n",
    "bsize = 13\n",
    "N = 13\n",
    "\n",
    "\n",
    "import pickle\n",
    "\n",
    "boards = None\n",
    "def selfplay_batched(ai, nstates=1000, frame=0, verbose=0):\n",
    "    \n",
    "    global boards\n",
    "    bnum = ai.nparallel\n",
    "    game_records = []\n",
    "    \n",
    "    ai.eta = 0.3\n",
    "\n",
    "    # Iterator with tqdm??\n",
    "    if verbose>=1:\n",
    "        pbar = tqdm(total=nstates)\n",
    "        \n",
    "    newboard = lambda: filledboard(bsize, count=3, frame=frame)\n",
    "    if type(boards) is type(None):\n",
    "        boards = [ newboard() for _ in range(bnum) ]\n",
    "    turns = [ getturn(brd) for brd in boards ]\n",
    "    records = [ [] for _ in range(bnum) ]\n",
    "    \n",
    "    \n",
    "    #completedgames = 0\n",
    "    #while completedgames < ngames:\n",
    "    while len(game_records) < nstates:\n",
    "        \n",
    "        moves = ai.findmove(boards)\n",
    "        for b in range(bnum):\n",
    "            turn = turns[b]\n",
    "            x, y = moves[b]\n",
    "            records[b] += [(boards[b].copy(), (x, y), turn)] if turn > 0 else \\\n",
    "                          [(-boards[b].T.copy(), (y, x), turn)]\n",
    "            boards[b][x, y] = turns[b]\n",
    "            turns[b] *= -1\n",
    "            \n",
    "            won = winner(boards[b])\n",
    "            if won:\n",
    "                if verbose>=1:\n",
    "                    pbar.update(len(records[b]))\n",
    "                ##game_records += [ (b, m, t*won) for (b, m, t) in records[b] ] ####\n",
    "                game_records += [ (b, m, rollout(b,n=10)) for (b, m, t) in records[b] ] ##\n",
    "                #completedgames += 1\n",
    "                records[b] = []\n",
    "                boards[b] = newboard()\n",
    "                turns[b] = getturn(boards[b])\n",
    "        if np.random.rand() < 1/5:\n",
    "            ai.clear()\n",
    "    \n",
    "    if verbose>=1:\n",
    "        pbar.close()\n",
    "        \n",
    "    return game_records"
   ]
  },
  {
   "cell_type": "code",
   "execution_count": 128,
   "metadata": {
    "deletable": false,
    "editable": false,
    "run_control": {
     "frozen": true
    },
    "scrolled": false
   },
   "outputs": [
    {
     "data": {
      "application/vnd.jupyter.widget-view+json": {
       "model_id": "865a468c7b9842aaaf3ef09f0cee8ff9",
       "version_major": 2,
       "version_minor": 0
      },
      "text/plain": [
       "HBox(children=(FloatProgress(value=0.0, max=200.0), HTML(value='')))"
      ]
     },
     "metadata": {},
     "output_type": "display_data"
    },
    {
     "name": "stdout",
     "output_type": "stream",
     "text": [
      "\n"
     ]
    }
   ],
   "source": [
    "#newgames = selfplay(MultiMCTS(nparallel=1, nsearches=50, net=net), ngames=200, verbose=1)  # 25 min für 200 games!\n",
    "#newgames = selfplay(MultiMCTS(nparallel=10, nsearches=50, net=net), ngames=200, verbose=1)  #  5 min für 200 games! batching verschlechtert spielperformance ein wenig!\n",
    "#newgames = selfplay_batched(BatchMCTS(nparallel=20, nsearches=50, net=net), ngames=200, verbose=1) # 3 min für 200 games!"
   ]
  },
  {
   "cell_type": "code",
   "execution_count": 16,
   "metadata": {
    "ExecuteTime": {
     "end_time": "2021-04-12T22:44:24.904567Z",
     "start_time": "2021-04-12T22:44:22.809862Z"
    }
   },
   "outputs": [
    {
     "name": "stdout",
     "output_type": "stream",
     "text": [
      "Game record / legacy has length 0 / 0\n"
     ]
    }
   ],
   "source": [
    "from hex_net13x13 import *\n",
    "\n",
    "net = Net13x13()\n",
    "torch.save(net.state_dict(),  'net_temp.dat')\n",
    "FRAME = 4\n",
    "winrates = []\n",
    "mmdepths = []\n",
    "frames = []\n",
    "depthminimax = 1\n",
    "stage = 0\n",
    "game_rec = []#selfplay(RandomPlayer(), ngames=400, verbose=1)\n",
    "game_rec_leg = []#selfplay(RandomPlayer(), ngames=2, verbose=1)\n",
    "print(f'Game record / legacy has length {len(game_rec)} / {len(game_rec_leg)}')\n"
   ]
  },
  {
   "cell_type": "code",
   "execution_count": null,
   "metadata": {
    "ExecuteTime": {
     "start_time": "2021-04-13T14:09:07.475Z"
    },
    "run_control": {
     "marked": false
    },
    "scrolled": true
   },
   "outputs": [
    {
     "name": "stdout",
     "output_type": "stream",
     "text": [
      "Selfplay\n",
      "Acquiring min. 400 board states!\n",
      "Loaded 100 boards from temp/selfplay0.dat.\n",
      "Loaded 100 boards from temp/selfplay0.dat.\n",
      "Loaded 100 boards from temp/selfplay0.dat.\n",
      "Loaded 100 boards from temp/selfplay0.dat.\n",
      "number of new states: 400\n",
      "size of game rec: 29400\n",
      "Training\n"
     ]
    },
    {
     "data": {
      "application/vnd.jupyter.widget-view+json": {
       "model_id": "83dc4efea7b34a45a9b507b4cc4cd3ce",
       "version_major": 2,
       "version_minor": 0
      },
      "text/plain": [
       "HBox(children=(FloatProgress(value=0.0, max=300.0), HTML(value='')))"
      ]
     },
     "metadata": {},
     "output_type": "display_data"
    },
    {
     "name": "stdout",
     "output_type": "stream",
     "text": [
      "PLoss=0.012826, VLoss=0.849095, Pvalloss=0.125314, Vvalloss=1.503538\n",
      "PLoss=0.013456, VLoss=0.850758, Pvalloss=0.126378, Vvalloss=1.441610\n",
      "PLoss=0.013227, VLoss=0.841486, Pvalloss=0.125653, Vvalloss=1.454142\n",
      "\n",
      "Pitting\n",
      "1 1\n",
      "1 2\n",
      "1 3\n",
      "1 4\n",
      "1 5\n",
      "1 6\n",
      "1 7\n",
      "1 8\n",
      "1 9\n",
      "1 10\n",
      "0.1\n"
     ]
    },
    {
     "data": {
      "image/png": "[encoded data removed]",
      "text/plain": [
       "<Figure size 432x288 with 1 Axes>"
      ]
     },
     "metadata": {
      "needs_background": "light"
     },
     "output_type": "display_data"
    },
    {
     "name": "stdout",
     "output_type": "stream",
     "text": [
      "Selfplay\n",
      "Acquiring min. 400 board states!\n",
      "Loaded 100 boards from temp/selfplay0.dat.\n",
      "Loaded 100 boards from temp/selfplay0.dat.\n",
      "Loaded 100 boards from temp/selfplay0.dat.\n",
      "Loaded 100 boards from temp/selfplay0.dat.\n",
      "number of new states: 400\n",
      "size of game rec: 29800\n",
      "Training\n"
     ]
    },
    {
     "data": {
      "application/vnd.jupyter.widget-view+json": {
       "model_id": "e78ece457c3c4348beefca6e3e8076cc",
       "version_major": 2,
       "version_minor": 0
      },
      "text/plain": [
       "HBox(children=(FloatProgress(value=0.0, max=300.0), HTML(value='')))"
      ]
     },
     "metadata": {},
     "output_type": "display_data"
    },
    {
     "name": "stdout",
     "output_type": "stream",
     "text": [
      "PLoss=0.014709, VLoss=0.853027, Pvalloss=0.120485, Vvalloss=1.462321\n",
      "PLoss=0.014703, VLoss=0.847207, Pvalloss=0.120188, Vvalloss=1.427545\n",
      "PLoss=0.014438, VLoss=0.843110, Pvalloss=0.119388, Vvalloss=1.397433\n",
      "\n",
      "Pitting\n",
      "0 1\n",
      "0 2\n",
      "0 3\n",
      "1 4\n",
      "1 5\n",
      "1 6\n",
      "1 7\n",
      "1 8\n",
      "2 9\n",
      "2 10\n",
      "0.2\n"
     ]
    },
    {
     "data": {
      "image/png": "[encoded data removed]",
      "text/plain": [
       "<Figure size 432x288 with 1 Axes>"
      ]
     },
     "metadata": {
      "needs_background": "light"
     },
     "output_type": "display_data"
    },
    {
     "name": "stdout",
     "output_type": "stream",
     "text": [
      "Selfplay\n",
      "Acquiring min. 400 board states!\n",
      "Loaded 100 boards from temp/selfplay0.dat.\n",
      "Loaded 100 boards from temp/selfplay0.dat.\n",
      "Loaded 100 boards from temp/selfplay0.dat.\n"
     ]
    }
   ],
   "source": [
    "\n",
    "stage = 1\n",
    "\n",
    "while True:\n",
    "\n",
    "    \n",
    "    # Evaluate/Pit\n",
    "    if stage==0:\n",
    "        print('Pitting')\n",
    "        nsearches = 150 if depthminimax>0 else 1\n",
    "        winrate = pit(MultiMCTS(nparallel=5, nsearches=nsearches, net=net, params={'useQ': False, 'cuncert': 0}), ClassicAI(depth=depthminimax), n=10, nrnd=2, frame=FRAME, verbose=1)\n",
    "        print(winrate)\n",
    "        winrates.append(winrate)\n",
    "        mmdepths.append(depthminimax)\n",
    "        frames.append(FRAME)\n",
    "        plt.plot(winrates, 'C2', label='winrate')\n",
    "        plt.plot(np.array(mmdepths)/10, 'C0--', label='aidepth')\n",
    "        plt.plot(np.array(frames)/10, 'C3--', label='frame')\n",
    "        plt.legend()\n",
    "        plt.show()\n",
    "        if depthminimax >= 1 and winrate>=0.7 and FRAME>0:\n",
    "            FRAME = max(FRAME-2, 0)\n",
    "            depthminimax = 1\n",
    "            print(f'Changing frame to {FRAME}')\n",
    "        elif winrate>=0.7 and depthminimax<1:\n",
    "                depthminimax += 1\n",
    "                print(f'Changing minimax depth to {depthminimax}')\n",
    "        stage = 1\n",
    "    \n",
    "    \n",
    "    # Selfplay\n",
    "    if stage==1:\n",
    "        print('Selfplay')\n",
    "        #newgames = selfplay_batched(BatchMCTS(nparallel=50, nsearches=100, net=net, params={'useQ': True, 'cuncert': 4}), nstates=1000, frame=FRAME, verbose=1)\n",
    "        newgames = load_selfplay(400)\n",
    "        game_rec = newgames + game_rec\n",
    "        print('number of new states:', len(newgames))\n",
    "        print('size of game rec:', len(game_rec))\n",
    "        stage=2\n",
    "    \n",
    "    \n",
    "    \n",
    "    # Train\n",
    "    if stage==2:\n",
    "        print('Training')\n",
    "        train(net,  game_rec[:30000], iterations=300, verbose=1) # , teachers=[net1, net2, net3]\n",
    "        torch.save(net.state_dict(),  'net_temp.dat')\n",
    "        stage = 0\n",
    "        \n",
    "# NACH 4000 GEPSPIELTEN ZUSTÄNDEN DER ERSTE GEWINN GEGEN MINIMAX!!"
   ]
  },
  {
   "cell_type": "code",
   "execution_count": null,
   "metadata": {
    "ExecuteTime": {
     "end_time": "2021-04-12T22:44:39.835545Z",
     "start_time": "2021-04-12T22:44:22.123Z"
    }
   },
   "outputs": [],
   "source": [
    "# Todo:\n",
    "# + p-loss als solchen kennzeichnen, val-p-loss anzeigen\n",
    "# + alphas als extra netz??\n",
    "# + ensemble??"
   ]
  },
  {
   "cell_type": "code",
   "execution_count": 54,
   "metadata": {
    "ExecuteTime": {
     "end_time": "2021-04-13T13:57:30.782051Z",
     "start_time": "2021-04-13T13:57:30.673230Z"
    }
   },
   "outputs": [],
   "source": [
    "game_rec = game_rec+game_rec_leg"
   ]
  },
  {
   "cell_type": "code",
   "execution_count": null,
   "metadata": {
    "ExecuteTime": {
     "end_time": "2021-04-12T22:44:39.835545Z",
     "start_time": "2021-04-12T22:44:22.128Z"
    }
   },
   "outputs": [],
   "source": [
    "\n",
    "#net = Net13x13()\n",
    "train(net, game_rec+game_rec_leg, [], iterations=1000, verbose=1) # , teachers=[net1, net2, net3]\n",
    "torch.save(net.state_dict(), 'net_temp.dat')"
   ]
  },
  {
   "cell_type": "code",
   "execution_count": null,
   "metadata": {
    "ExecuteTime": {
     "end_time": "2021-04-12T22:44:39.835545Z",
     "start_time": "2021-04-12T22:44:22.132Z"
    },
    "run_control": {
     "marked": true
    }
   },
   "outputs": [],
   "source": [
    "k = 2\n",
    "game_rec[k].v, game_rec[k].addv[:5]"
   ]
  },
  {
   "cell_type": "code",
   "execution_count": null,
   "metadata": {
    "ExecuteTime": {
     "end_time": "2021-04-12T22:44:39.835545Z",
     "start_time": "2021-04-12T22:44:22.135Z"
    }
   },
   "outputs": [],
   "source": [
    "net.predict(game_rec[k].b)[-1][:5]"
   ]
  },
  {
   "cell_type": "code",
   "execution_count": null,
   "metadata": {
    "ExecuteTime": {
     "end_time": "2021-04-12T22:44:39.835545Z",
     "start_time": "2021-04-12T22:44:22.138Z"
    }
   },
   "outputs": [],
   "source": [
    "k=0\n",
    "b=game_rec[k].b\n",
    "p=game_rec[k].p\n",
    "p = np.sum([ p[k]*onehot2D((i,j), (N,N)) for k, (i,j) in enumerate(np.argwhere(b==0)) ], axis=0)\n",
    "\n",
    "show_board(p, cmap='cividis', numbers=True)"
   ]
  },
  {
   "cell_type": "code",
   "execution_count": null,
   "metadata": {
    "ExecuteTime": {
     "end_time": "2021-04-12T22:44:39.843583Z",
     "start_time": "2021-04-12T22:44:22.142Z"
    }
   },
   "outputs": [],
   "source": [
    "show_board(b, numbers=True)"
   ]
  },
  {
   "cell_type": "code",
   "execution_count": 21,
   "metadata": {
    "ExecuteTime": {
     "end_time": "2021-04-12T22:48:20.733527Z",
     "start_time": "2021-04-12T22:48:20.652945Z"
    }
   },
   "outputs": [],
   "source": [
    "game_rec=[]"
   ]
  }
 ],
 "metadata": {
  "kernelspec": {
   "display_name": "Python 3",
   "language": "python",
   "name": "python3"
  },
  "language_info": {
   "codemirror_mode": {
    "name": "ipython",
    "version": 3
   },
   "file_extension": ".py",
   "mimetype": "text/x-python",
   "name": "python",
   "nbconvert_exporter": "python",
   "pygments_lexer": "ipython3",
   "version": "3.7.7"
  },
  "varInspector": {
   "cols": {
    "lenName": 16,
    "lenType": 16,
    "lenVar": 40
   },
   "kernels_config": {
    "python": {
     "delete_cmd_postfix": "",
     "delete_cmd_prefix": "del ",
     "library": "var_list.py",
     "varRefreshCmd": "print(var_dic_list())"
    },
    "r": {
     "delete_cmd_postfix": ") ",
     "delete_cmd_prefix": "rm(",
     "library": "var_list.r",
     "varRefreshCmd": "cat(var_dic_list()) "
    }
   },
   "types_to_exclude": [
    "module",
    "function",
    "builtin_function_or_method",
    "instance",
    "_Feature"
   ],
   "window_display": false
  }
 },
 "nbformat": 4,
 "nbformat_minor": 4
}
