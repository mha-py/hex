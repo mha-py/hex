{
 "cells": [
  {
   "cell_type": "code",
   "execution_count": 65,
   "metadata": {
    "ExecuteTime": {
     "end_time": "2020-08-07T13:20:18.526876Z",
     "start_time": "2020-08-07T13:20:18.475914Z"
    }
   },
   "outputs": [],
   "source": [
    "import numpy as np\n",
    "import matplotlib.pyplot as plt\n",
    "import matplotlib.patches as patches\n",
    "%matplotlib inline"
   ]
  },
  {
   "cell_type": "code",
   "execution_count": 66,
   "metadata": {
    "ExecuteTime": {
     "end_time": "2020-08-07T13:20:18.744632Z",
     "start_time": "2020-08-07T13:20:18.707655Z"
    }
   },
   "outputs": [],
   "source": [
    "\n",
    "GAP = 0.1 # gap between two hexagons\n",
    "bsize = 3\n",
    "\n",
    "# Basechange between xy and ij coordinates / base.\n",
    "ij2xy = np.array([\n",
    "    [ 1, 0.5],\n",
    "    [ 0, np.sqrt(3/4)],\n",
    "])\n",
    "xy2ij = np.linalg.inv(ij2xy)\n",
    "\n",
    "# Shape of our hexagon\n",
    "thirty_degree = 2*np.pi/12\n",
    "sixty_degree = 2*np.pi/6\n",
    "hex_factor = (1-GAP)/np.cos(thirty_degree)/2 # the factor in the hexagon formula (to get a gap)\n",
    "hexagon = hex_factor * np.asarray([(np.cos(alpha), np.sin(alpha)) for alpha in\n",
    "                               np.arange(thirty_degree, 2*np.pi+thirty_degree, sixty_degree)])\n",
    "\n",
    "# For Detection if a point is on a hexagon\n",
    "middlepoints = (hexagon[1:] + hexagon[:-1]) / 2\n",
    "dual_xy = middlepoints / np.linalg.norm(middlepoints[0])\n",
    "\n",
    "def show_board(board, numbers=True):\n",
    "    assert board.shape == (bsize, bsize)\n",
    "    board = board.astype(int)\n",
    "    \n",
    "    c = [(.2,.2,.2), (.6,.0,.0), (.0,.05,.85)]\n",
    "    \n",
    "    plt.figure(figsize=(10,8))\n",
    "    \n",
    "    patch = patches.Polygon(([-100,-100], [-100,100], [100,100], [100,-100]), facecolor='black', zorder=-100)\n",
    "    plt.gca().add_patch(patch)\n",
    "    \n",
    "    for i in range(bsize):\n",
    "        for j in range(bsize):\n",
    "            ij = np.asarray((i,j))\n",
    "            xy = ij2xy @ ij\n",
    "            x, y = xy\n",
    "            ##plt.scatter(x, y, color=c[board[i,j]])\n",
    "            patch = patches.Polygon(hexagon + xy, facecolor=c[board[i,j]%3], zorder=-100)\n",
    "            ##patch = patches.Polygon([xy2ij @ (hexagon[k] + xy) for k in range(6)], facecolor=c[board[i,j]%3], zorder=-100)\n",
    "            plt.gca().add_patch(patch)\n",
    "            \n",
    "            if numbers:\n",
    "                plt.text(x, y, '%d, %d' %(i,j), color='white', horizontalalignment='center', verticalalignment='center')\n",
    "            \n",
    "    plt.axis('equal')\n",
    "    plt.xlim([-1, bsize*1.5-0.5])\n",
    "    plt.ylim([-1, bsize*np.sqrt(3/4)])\n",
    "    plt.axis('off')\n",
    "    \n",
    "    \n",
    "def print_board(board):\n",
    "    char = [' ', 'r', 'b']\n",
    "    print((bsize+1)*' ' + 2*bsize*'_')\n",
    "    for i in range(bsize-1, -1, -1):\n",
    "        line = ' '\n",
    "        line += i*' ' + '/'\n",
    "        for j in range(bsize):\n",
    "            line += char[board[j,i]%3]\n",
    "            if j<bsize-1: line += ' '\n",
    "        line += '/'\n",
    "        print(line)\n",
    "    print((2*bsize+1)*'^')\n",
    "    \n",
    "    \n",
    "def pos_on_board(pos):\n",
    "    pos_ij = xy2ij @ pos\n",
    "    \n",
    "    for i in range(bsize):\n",
    "        if (i-pos_ij[0]) > 2: continue\n",
    "        for j in range(bsize):\n",
    "            if (j-pos_ij[1]) > 2: continue\n",
    "            ij = 1.*np.array((i, j))\n",
    "            xy = ij2xy @ ij\n",
    "            if np.sum((pos-xy)**2) <= hex_factor**2:\n",
    "                if np.all(np.abs(dual_xy[:3] @ (pos-xy)) < 0.5 - GAP/2):\n",
    "                    return i, j\n",
    "                else:\n",
    "                    return None, None\n",
    "    return None, None"
   ]
  },
  {
   "cell_type": "code",
   "execution_count": 67,
   "metadata": {
    "ExecuteTime": {
     "end_time": "2020-08-07T13:20:18.998764Z",
     "start_time": "2020-08-07T13:20:18.967516Z"
    },
    "run_control": {
     "marked": true
    }
   },
   "outputs": [],
   "source": [
    "\n",
    "def winner_single(stones):\n",
    "    '''Gives info if one player is connected left to right.\n",
    "    stones: nxn-array of bool type, where the stones of the player lie.'''\n",
    "    connected = np.zeros_like(stones) # welche Steine sind nach unten verbunden?\n",
    "    con_new   = np.zeros_like(stones) # beim letzten update dazugekommen\n",
    "    connected[0] = stones[0] # welche Steine sind nach unten verbunden?\n",
    "    con_new[0] = stones[0] # Steine am unteren Rand sind automatisch verbunden.\n",
    "    changed = True\n",
    "    while changed:\n",
    "        changed = False\n",
    "        for i in range(bsize):\n",
    "            for j in range(bsize):\n",
    "                if con_new[i,j]:\n",
    "                    # activated others around (i,j)\n",
    "                    for (di, dj) in [(1,0), (0,1), (-1,1), (-1,0), (0,-1), (1,-1)]:\n",
    "                        if 0<=i+di<bsize and 0<=j+dj<bsize:\n",
    "                            if not connected[i+di,j+dj] and stones[i+di,j+dj]:\n",
    "                                # nur wenn noch nicht als connected markieren weiter fortfahren\n",
    "                                connected[i+di,j+dj] = True\n",
    "                                con_new[i+di,j+dj] = True\n",
    "                                changed = True\n",
    "                    con_new[i,j] = False\n",
    "    #show_board(connected) # for debugging\n",
    "    if np.any(connected[-1]):\n",
    "        return True\n",
    "    else:\n",
    "        return False\n",
    "    \n",
    "def winner(board):\n",
    "    if winner_single(board.T==1):\n",
    "        return 1\n",
    "    if winner_single(board==-1):\n",
    "        return -1\n",
    "    return 0"
   ]
  },
  {
   "cell_type": "code",
   "execution_count": 68,
   "metadata": {
    "ExecuteTime": {
     "end_time": "2020-08-07T13:20:19.337327Z",
     "start_time": "2020-08-07T13:20:19.321703Z"
    },
    "run_control": {
     "marked": true
    }
   },
   "outputs": [],
   "source": [
    "def ismovevalid(board, i, j):\n",
    "    if type(i) != int: return False\n",
    "    if type(j) != int: return False\n",
    "    if not 0<=i<len(board): return False\n",
    "    if not 0<=j<len(board): return False\n",
    "    return board[i,j] == 0"
   ]
  },
  {
   "cell_type": "code",
   "execution_count": 69,
   "metadata": {
    "ExecuteTime": {
     "end_time": "2020-08-07T13:20:19.738397Z",
     "start_time": "2020-08-07T13:20:19.722773Z"
    }
   },
   "outputs": [],
   "source": [
    "def int_input(text):\n",
    "    while True:\n",
    "        s = input(text)\n",
    "        try:\n",
    "            i = int(s)\n",
    "            return i\n",
    "        except:\n",
    "            print('Cannot convert %s to int!' % s)"
   ]
  },
  {
   "cell_type": "code",
   "execution_count": null,
   "metadata": {
    "ExecuteTime": {
     "end_time": "2020-08-03T18:50:12.576397Z",
     "start_time": "2020-08-03T18:49:41.093106Z"
    },
    "deletable": false,
    "editable": false,
    "run_control": {
     "frozen": true
    },
    "scrolled": true
   },
   "outputs": [],
   "source": [
    "board = np.zeros((bsize,bsize), int)\n",
    "\n",
    "while True:\n",
    "    show_board(board)\n",
    "    plt.show()\n",
    "    print('Reds turn')\n",
    "    while True:\n",
    "        x = int_input('Input row coordinate: ')\n",
    "        y = int_input('Input column coordinates: ')\n",
    "        if not ismovevalid(board, x, y):\n",
    "            print('Move is not valid!')\n",
    "            continue\n",
    "        else:\n",
    "            board[x,y] = +1\n",
    "            break\n",
    "    if winner(board) == +1:\n",
    "        print('Red has won!')\n",
    "        show_board(board)\n",
    "        plt.show()\n",
    "        break\n",
    "        \n",
    "    show_board(board)\n",
    "    plt.show()\n",
    "    print('Blues turn')\n",
    "    while True:\n",
    "        x = int_input('Input row coordinate: ')\n",
    "        y = int_input('Input column coordinates: ')\n",
    "        if not ismovevalid(board, x, y):\n",
    "            print('Move is not valid!')\n",
    "            continue\n",
    "        else:\n",
    "            board[x,y] = -1\n",
    "            break\n",
    "    if winner(board) == -1:\n",
    "        print('Blue has won!')\n",
    "        show_board(board)\n",
    "        plt.show()\n",
    "        break"
   ]
  },
  {
   "cell_type": "code",
   "execution_count": null,
   "metadata": {},
   "outputs": [],
   "source": []
  },
  {
   "cell_type": "markdown",
   "metadata": {
    "collapsed": true
   },
   "source": [
    "## AlphaZero Ansätze"
   ]
  },
  {
   "cell_type": "code",
   "execution_count": 70,
   "metadata": {
    "ExecuteTime": {
     "end_time": "2020-08-07T13:20:21.605827Z",
     "start_time": "2020-08-07T13:20:21.590203Z"
    }
   },
   "outputs": [
    {
     "ename": "SyntaxError",
     "evalue": "invalid syntax (<ipython-input-70-feeca967e8a1>, line 14)",
     "output_type": "error",
     "traceback": [
      "\u001b[1;36m  File \u001b[1;32m\"<ipython-input-70-feeca967e8a1>\"\u001b[1;36m, line \u001b[1;32m14\u001b[0m\n\u001b[1;33m    try\u001b[0m\n\u001b[1;37m       ^\u001b[0m\n\u001b[1;31mSyntaxError\u001b[0m\u001b[1;31m:\u001b[0m invalid syntax\n"
     ]
    }
   ],
   "source": [
    "def gamefinished(board):\n",
    "    'Returns +1 or -1 if red or blue has won, or returns 0 if game has not ended yet.'\n",
    "    return winner(board) / (1 + abs(board).sum() / bsize**2) # extra denominator makes the enemy to delay victory as long as possible\n",
    "\n",
    "def validmoves(board):\n",
    "    'Returns an array with all valid positions for the next move'\n",
    "    board = board.astype(int)\n",
    "    valid = [ k for k in range(bsize**2) if board.flatten()[k] == 0 ]\n",
    "    if abs(board).sum() == 1 and not np.any(abs(board)>1):   # switch sides is allowed if only once and on the second move\n",
    "        valid += [-1]\n",
    "        \n",
    "    assert len(valid)!=0 or np.all(board!=0), 'Fehler bei validmoves, kein Zug möglich obwohl Brett nicht voll'\n",
    "    \n",
    "    return valid\n",
    "\n",
    "def performaction(board, action):\n",
    "    'Performs a move on the current board'\n",
    "    b = board.copy()\n",
    "    if action == -1:\n",
    "        # Switch Sides\n",
    "        assert not np.any(abs(b)>4)\n",
    "        b = switchsides(b)\n",
    "        b *= 4   # replace 1 by 4 to mark that sides have been switched\n",
    "    else:\n",
    "        # Regular Move\n",
    "        b[int(action/bsize), action%bsize] = +1\n",
    "    return b\n",
    "\n",
    "def switchsides(board):\n",
    "    'Exchanges red and blue player'\n",
    "    return -board.T\n",
    "\n",
    "\n",
    "\n",
    "def sym_representative(board):\n",
    "    'Returns a representative of the states connected by symmetry'\n",
    "    # Die roten Steine sollen in der unten linken Ecke gehäuft sein wenn möglich.\n",
    "    # Bei Stechen zählen die blauen Steine.\n",
    "    m = bsize//2\n",
    "    lower  = (board[:m,:] > 0).sum() # rote Steine in oberer Spielfeldhälte etc.\n",
    "    upper  = (board[-m:,:] > 0).sum()\n",
    "    left   = (board[:,:m] > 0).sum()\n",
    "    right  = (board[:,-m:] > 0).sum()\n",
    "    lower += (board[:m,:] < 0).sum()/bsize**2 # blaue Steine in oberer Spielfeldhälte etc.\n",
    "    upper += (board[-m:,:] < 0).sum()/bsize**2\n",
    "    left  += (board[:,:m] < 0).sum()/bsize**2\n",
    "    right += (board[:,-m:] < 0).sum()/bsize**2\n",
    "    \n",
    "    if lower < upper:\n",
    "        board = board[:,::-1]\n",
    "    if left < right:\n",
    "        board = board[::-1]\n",
    "    return board\n",
    "\n",
    "\n",
    "def tostring(board):\n",
    "    'Bijective function which creates a string representation of board'\n",
    "    char = {2: 'b', 0: '0', 1: 'r'}\n",
    "    s = ''\n",
    "    for i in range(bsize):\n",
    "        for j in range(bsize):\n",
    "            s += char[board[i,j]%3]\n",
    "        s += ';'\n",
    "    if np.any(abs(board)>1): s = 's' + s  # sides were switched\n",
    "    return s\n",
    "\n",
    "\n"
   ]
  },
  {
   "cell_type": "code",
   "execution_count": 81,
   "metadata": {
    "ExecuteTime": {
     "end_time": "2020-08-07T13:30:25.472304Z",
     "start_time": "2020-08-07T13:30:25.433948Z"
    }
   },
   "outputs": [
    {
     "ename": "SyntaxError",
     "evalue": "invalid syntax (<ipython-input-81-47436fe60dbf>, line 195)",
     "output_type": "error",
     "traceback": [
      "\u001b[1;36m  File \u001b[1;32m\"<ipython-input-81-47436fe60dbf>\"\u001b[1;36m, line \u001b[1;32m195\u001b[0m\n\u001b[1;33m    assert len(valid) != 0, valid, board\u001b[0m\n\u001b[1;37m                                 ^\u001b[0m\n\u001b[1;31mSyntaxError\u001b[0m\u001b[1;31m:\u001b[0m invalid syntax\n"
     ]
    }
   ],
   "source": [
    "\n",
    "def p_and_v_trivial(board):\n",
    "    'Simulation of the Neural Network'\n",
    "    p = np.zeros(bsize**2)\n",
    "    valid = validmoves(board)\n",
    "    for a in valid:\n",
    "        p[a] = 1.\n",
    "    p /= p.sum() + 1e-12\n",
    "    v = 0.\n",
    "    return p, v\n",
    "\n",
    "\n",
    "\n",
    "verbose = False\n",
    "verbose_start = np.Inf\n",
    "\n",
    "\n",
    "def print_(*args):\n",
    "    global verbose\n",
    "    if verbose: print(*args)\n",
    "        \n",
    "def show_board_(board):\n",
    "    global verbose\n",
    "    if verbose: show_board(board)\n",
    "    #if verbose: print_board(board)\n",
    "\n",
    "def printmove(a):\n",
    "    try:\n",
    "        if a == -1:\n",
    "            return 'sideswitch'\n",
    "        else:\n",
    "            return str(a//bsize)+','+str(a%bsize)\n",
    "    except:\n",
    "        print(a)\n",
    "        assert False\n",
    "        \n",
    "\n",
    "from collections import defaultdict\n",
    "\n",
    "\n",
    "class MCTS:\n",
    "    def __init__(self, p_and_v, c_ut=1., niterations=10, maxdepth=np.Inf, alpha=0.3, noise=0.2):\n",
    "        self.p_and_v = p_and_v\n",
    "        self.visited = set()\n",
    "        self.T = {}\n",
    "        self.v = {}\n",
    "        self.Ns = defaultdict(lambda: 0)\n",
    "        self.Nsa = defaultdict(lambda: 0)\n",
    "        self.Qsa = defaultdict(lambda: 0)\n",
    "        self.vsa = defaultdict(lambda: [])\n",
    "        self.p = {}\n",
    "        self.Vs = {}\n",
    "        \n",
    "        self.c_ut = c_ut\n",
    "        self.maxdepth = maxdepth\n",
    "        self.niterations = niterations\n",
    "        self.alpha = alpha # alpha parameter of dirichlet noise ()\n",
    "        self.noise = noise # noise amount (1 means pure noise, 0 means deterministic)\n",
    "        \n",
    "        \n",
    "    def run(self):\n",
    "        'Recursive variant of the mcts algorithm, parent function of the recursion'\n",
    "        s = np.zeros((bsize, bsize), dtype=int)\n",
    "        for i in range(self.niterations):\n",
    "            \n",
    "            global verbose, verbose_start\n",
    "            if i >= verbose_start: verbose = True\n",
    "            \n",
    "            print_(f'Starting iteration nr {i}!')\n",
    "            self.search_recursive(s)\n",
    "            print_('\\n\\n\\n\\n')\n",
    "        \n",
    "    \n",
    "    def search_iterative(self, s0):\n",
    "        'Recursive variant of the mcts algorithm, recursive subroutine'\n",
    "        \n",
    "        s_stack = []\n",
    "        a_stack = []\n",
    "        \n",
    "        s = s0\n",
    "        \n",
    "        for d in range(self.maxdepth):\n",
    "            \n",
    "            s = sym_representative(s)\n",
    "            s_ = tostring(s)\n",
    "        \n",
    "        \n",
    "            print_(f'Reached state s, id is {s_},')\n",
    "            print_(f'which was already visited {self.Ns[s_]} times:')\n",
    "            show_board_(s)\n",
    "            plt.show()\n",
    "        \n",
    "            # visited for first time?\n",
    "            if s_ not in self.visited:\n",
    "                self.visited.add(s_)\n",
    "                self.p[s_], self.v[s_] = self.p_and_v(s)\n",
    "                self.T[s_] = gamefinished(s)\n",
    "                self.Vs[s_] = validmoves(s)\n",
    "            \n",
    "            # is game finished?\n",
    "            if self.T[s_] != 0:\n",
    "                print_(f'Game has ended, going back with v = {self.T[s_]}')\n",
    "                v = -self.T[s_]\n",
    "                break\n",
    "\n",
    "            # maximal depth was reached -> terminate here and work with v instead of T\n",
    "            if depth >= self.maxdepth:\n",
    "                print_(f'Maximal deptch reached, going back with v = {self.v[s_]}')\n",
    "                v =  -self.v[s_]\n",
    "                break\n",
    "\n",
    "            # otherwise leaf node?\n",
    "            if self.Ns[s_] == 0:\n",
    "                self.Ns[s_] = 1\n",
    "                print_(f'Node visited for first time, going back with v = {self.v[s_]}')\n",
    "                v = -self.v[s_]\n",
    "                break\n",
    "                \n",
    "                ##################\n",
    "        \n",
    "            # make a decision\n",
    "            valid = self.Vs[s_]\n",
    "            assert len(valid) != 0\n",
    "            (f'There are {len(valid)} valid moves')\n",
    "            Umax = -np.Inf\n",
    "            abest = None\n",
    "            dirichlet = np.random.dirichlet(len(valid)*[self.alpha])\n",
    "            for k, a in enumerate(valid):\n",
    "                if self.Nsa[s_, a] > 0:\n",
    "                    U = self.Qsa[s_, a] + self.c_ut * self.p[s_][a] * np.sqrt(self.Ns[s_])/(self.Nsa[s_, a]+1)\n",
    "                    print_(f'Move {printmove(a)} chosen already {self.Nsa[s_, a]} times,')\n",
    "                    print_(f'has Q value of {self.Qsa[s_,a]} and U value of {U}.')\n",
    "                    U = (1-self.noise)*U + self.noise*dirichlet[k]\n",
    "                else:\n",
    "                    U = self.c_ut * self.p[s_][a] * np.sqrt(self.Ns[s_]+1e-6) # small epsilon in case Ns=0 -> well defined U guaranteed\n",
    "                    print_(f'Move {printmove(a)} chosen 0 times,')\n",
    "                    print_(f'has unknown Q value and U value of {U}.')\n",
    "                    U = (1-self.noise)*U + self.noise*dirichlet[k]\n",
    "                if U > Umax:\n",
    "                    Umax = U\n",
    "                    abest = a\n",
    "            a = abest\n",
    "            print_(f'Chose move {printmove(a)}.')\n",
    "            print_(f'\\n\\n')\n",
    "        \n",
    "        # Perform the best action which was just found\n",
    "        sprime = switchsides(performaction(s, a))\n",
    "        v = self.search_recursive(sprime, depth+1)\n",
    "        \n",
    "        self.vsa[s_,a].append(v)\n",
    "        self.Qsa[s_,a] = (self.Qsa[s_,a] * self.Nsa[s_,a] + v) / (self.Nsa[s_,a]+1)\n",
    "        self.Ns[s_] += 1\n",
    "        self.Nsa[s_,a] += 1\n",
    "        \n",
    "        return -v\n",
    "        \n",
    "    \n",
    "    def search_recursive(self, s, depth=0):\n",
    "        'Recursive variant of the mcts algorithm, recursive subroutine'\n",
    "        \n",
    "        s = sym_representative(s)\n",
    "        s_ = tostring(s)\n",
    "        \n",
    "        \n",
    "        print_(f'Reached state s, id is {s_},')\n",
    "        print_(f'which was already visited {self.Ns[s_]} times:')\n",
    "        show_board_(s)\n",
    "        plt.show()\n",
    "        \n",
    "        # visited for first time?\n",
    "        if s_ not in self.visited:\n",
    "            self.visited.add(s_)\n",
    "            self.p[s_], self.v[s_] = self.p_and_v(s)\n",
    "            self.T[s_] = gamefinished(s)\n",
    "            self.Vs[s_] = validmoves(s)\n",
    "            \n",
    "        # is game finished?\n",
    "        if self.T[s_] != 0:\n",
    "            print_(f'Game has ended, going back with v = {self.T[s_]}')\n",
    "            return -self.T[s_]\n",
    "        \n",
    "        # maximal depth was reached -> terminate here and work with v instead of T\n",
    "        if depth >= self.maxdepth:\n",
    "            print_(f'Maximal deptch reached, going back with v = {self.v[s_]}')\n",
    "            return -self.v[s_]\n",
    "        \n",
    "        # otherwise leaf node?\n",
    "        if self.Ns[s_] == 0:\n",
    "            self.Ns[s_] = 1\n",
    "            print_(f'Node visited for first time, going back with v = {self.v[s_]}')\n",
    "            return -self.v[s_]\n",
    "        \n",
    "        # Otherwise go deeper into tree\n",
    "        valid = self.Vs[s_]\n",
    "        assert len(valid) != 0, valid, board\n",
    "        (f'There are {len(valid)} valid moves')\n",
    "        Umax = -np.Inf\n",
    "        abest = None\n",
    "        dirichlet = np.random.dirichlet(len(valid)*[self.alpha])\n",
    "        for k, a in enumerate(valid):\n",
    "            if self.Nsa[s_, a] > 0:\n",
    "                U = self.Qsa[s_, a] + self.c_ut * self.p[s_][a] * np.sqrt(self.Ns[s_])/(self.Nsa[s_, a]+1)\n",
    "                print_(f'Move {printmove(a)} chosen already {self.Nsa[s_, a]} times,')\n",
    "                print_(f'has Q value of {self.Qsa[s_,a]} and U value of {U}.')\n",
    "                U = (1-self.noise)*U + self.noise*dirichlet[k]\n",
    "            else:\n",
    "                U = self.c_ut * self.p[s_][a] * np.sqrt(self.Ns[s_]+1e-6) # small epsilon in case Ns=0 -> well defined U guaranteed\n",
    "                print_(f'Move {printmove(a)} chosen 0 times,')\n",
    "                print_(f'has unknown Q value and U value of {U}.')\n",
    "                U = (1-self.noise)*U + self.noise*dirichlet[k]\n",
    "            if U > Umax:\n",
    "                Umax = U\n",
    "                abest = a\n",
    "        a = abest\n",
    "        print_(f'Chose move {printmove(a)}.')\n",
    "        print_(f'\\n\\n')\n",
    "        \n",
    "        # Perform the best action which was just found\n",
    "        sprime = switchsides(performaction(s, a))\n",
    "        v = self.search_recursive(sprime, depth+1)\n",
    "        \n",
    "        self.vsa[s_,a].append(v)\n",
    "        self.Qsa[s_,a] = (self.Qsa[s_,a] * self.Nsa[s_,a] + v) / (self.Nsa[s_,a]+1)\n",
    "        self.Ns[s_] += 1\n",
    "        self.Nsa[s_,a] += 1\n",
    "        \n",
    "        return -v"
   ]
  },
  {
   "cell_type": "code",
   "execution_count": 80,
   "metadata": {
    "ExecuteTime": {
     "end_time": "2020-08-07T13:30:04.276024Z",
     "start_time": "2020-08-07T13:29:56.441710Z"
    },
    "scrolled": false
   },
   "outputs": [
    {
     "ename": "AssertionError",
     "evalue": "[]",
     "output_type": "error",
     "traceback": [
      "\u001b[1;31m---------------------------------------------------------------------------\u001b[0m",
      "\u001b[1;31mAssertionError\u001b[0m                            Traceback (most recent call last)",
      "\u001b[1;32m<ipython-input-80-556d022a4f51>\u001b[0m in \u001b[0;36m<module>\u001b[1;34m()\u001b[0m\n\u001b[0;32m      3\u001b[0m \u001b[0mverbose_start\u001b[0m \u001b[1;33m=\u001b[0m \u001b[1;36m6000\u001b[0m\u001b[1;33m\u001b[0m\u001b[0m\n\u001b[0;32m      4\u001b[0m \u001b[0mmcts\u001b[0m \u001b[1;33m=\u001b[0m \u001b[0mMCTS\u001b[0m\u001b[1;33m(\u001b[0m\u001b[0mp_and_v_trivial\u001b[0m\u001b[1;33m,\u001b[0m \u001b[0mniterations\u001b[0m\u001b[1;33m=\u001b[0m\u001b[1;36m6010\u001b[0m\u001b[1;33m)\u001b[0m\u001b[1;33m\u001b[0m\u001b[0m\n\u001b[1;32m----> 5\u001b[1;33m \u001b[0mmcts\u001b[0m\u001b[1;33m.\u001b[0m\u001b[0mrun\u001b[0m\u001b[1;33m(\u001b[0m\u001b[1;33m)\u001b[0m\u001b[1;33m\u001b[0m\u001b[0m\n\u001b[0m",
      "\u001b[1;32m<ipython-input-79-ce0ee6e40623>\u001b[0m in \u001b[0;36mrun\u001b[1;34m(self)\u001b[0m\n\u001b[0;32m     68\u001b[0m \u001b[1;33m\u001b[0m\u001b[0m\n\u001b[0;32m     69\u001b[0m             \u001b[0mprint_\u001b[0m\u001b[1;33m(\u001b[0m\u001b[1;34mf'Starting iteration nr {i}!'\u001b[0m\u001b[1;33m)\u001b[0m\u001b[1;33m\u001b[0m\u001b[0m\n\u001b[1;32m---> 70\u001b[1;33m             \u001b[0mself\u001b[0m\u001b[1;33m.\u001b[0m\u001b[0msearch_recursive\u001b[0m\u001b[1;33m(\u001b[0m\u001b[0ms\u001b[0m\u001b[1;33m)\u001b[0m\u001b[1;33m\u001b[0m\u001b[0m\n\u001b[0m\u001b[0;32m     71\u001b[0m             \u001b[0mprint_\u001b[0m\u001b[1;33m(\u001b[0m\u001b[1;34m'\\n\\n\\n\\n'\u001b[0m\u001b[1;33m)\u001b[0m\u001b[1;33m\u001b[0m\u001b[0m\n\u001b[0;32m     72\u001b[0m \u001b[1;33m\u001b[0m\u001b[0m\n",
      "\u001b[1;32m<ipython-input-79-ce0ee6e40623>\u001b[0m in \u001b[0;36msearch_recursive\u001b[1;34m(self, s, depth)\u001b[0m\n\u001b[0;32m    218\u001b[0m         \u001b[1;31m# Perform the best action which was just found\u001b[0m\u001b[1;33m\u001b[0m\u001b[1;33m\u001b[0m\u001b[0m\n\u001b[0;32m    219\u001b[0m         \u001b[0msprime\u001b[0m \u001b[1;33m=\u001b[0m \u001b[0mswitchsides\u001b[0m\u001b[1;33m(\u001b[0m\u001b[0mperformaction\u001b[0m\u001b[1;33m(\u001b[0m\u001b[0ms\u001b[0m\u001b[1;33m,\u001b[0m \u001b[0ma\u001b[0m\u001b[1;33m)\u001b[0m\u001b[1;33m)\u001b[0m\u001b[1;33m\u001b[0m\u001b[0m\n\u001b[1;32m--> 220\u001b[1;33m         \u001b[0mv\u001b[0m \u001b[1;33m=\u001b[0m \u001b[0mself\u001b[0m\u001b[1;33m.\u001b[0m\u001b[0msearch_recursive\u001b[0m\u001b[1;33m(\u001b[0m\u001b[0msprime\u001b[0m\u001b[1;33m,\u001b[0m \u001b[0mdepth\u001b[0m\u001b[1;33m+\u001b[0m\u001b[1;36m1\u001b[0m\u001b[1;33m)\u001b[0m\u001b[1;33m\u001b[0m\u001b[0m\n\u001b[0m\u001b[0;32m    221\u001b[0m \u001b[1;33m\u001b[0m\u001b[0m\n\u001b[0;32m    222\u001b[0m         \u001b[0mself\u001b[0m\u001b[1;33m.\u001b[0m\u001b[0mvsa\u001b[0m\u001b[1;33m[\u001b[0m\u001b[0ms_\u001b[0m\u001b[1;33m,\u001b[0m\u001b[0ma\u001b[0m\u001b[1;33m]\u001b[0m\u001b[1;33m.\u001b[0m\u001b[0mappend\u001b[0m\u001b[1;33m(\u001b[0m\u001b[0mv\u001b[0m\u001b[1;33m)\u001b[0m\u001b[1;33m\u001b[0m\u001b[0m\n",
      "\u001b[1;32m<ipython-input-79-ce0ee6e40623>\u001b[0m in \u001b[0;36msearch_recursive\u001b[1;34m(self, s, depth)\u001b[0m\n\u001b[0;32m    218\u001b[0m         \u001b[1;31m# Perform the best action which was just found\u001b[0m\u001b[1;33m\u001b[0m\u001b[1;33m\u001b[0m\u001b[0m\n\u001b[0;32m    219\u001b[0m         \u001b[0msprime\u001b[0m \u001b[1;33m=\u001b[0m \u001b[0mswitchsides\u001b[0m\u001b[1;33m(\u001b[0m\u001b[0mperformaction\u001b[0m\u001b[1;33m(\u001b[0m\u001b[0ms\u001b[0m\u001b[1;33m,\u001b[0m \u001b[0ma\u001b[0m\u001b[1;33m)\u001b[0m\u001b[1;33m)\u001b[0m\u001b[1;33m\u001b[0m\u001b[0m\n\u001b[1;32m--> 220\u001b[1;33m         \u001b[0mv\u001b[0m \u001b[1;33m=\u001b[0m \u001b[0mself\u001b[0m\u001b[1;33m.\u001b[0m\u001b[0msearch_recursive\u001b[0m\u001b[1;33m(\u001b[0m\u001b[0msprime\u001b[0m\u001b[1;33m,\u001b[0m \u001b[0mdepth\u001b[0m\u001b[1;33m+\u001b[0m\u001b[1;36m1\u001b[0m\u001b[1;33m)\u001b[0m\u001b[1;33m\u001b[0m\u001b[0m\n\u001b[0m\u001b[0;32m    221\u001b[0m \u001b[1;33m\u001b[0m\u001b[0m\n\u001b[0;32m    222\u001b[0m         \u001b[0mself\u001b[0m\u001b[1;33m.\u001b[0m\u001b[0mvsa\u001b[0m\u001b[1;33m[\u001b[0m\u001b[0ms_\u001b[0m\u001b[1;33m,\u001b[0m\u001b[0ma\u001b[0m\u001b[1;33m]\u001b[0m\u001b[1;33m.\u001b[0m\u001b[0mappend\u001b[0m\u001b[1;33m(\u001b[0m\u001b[0mv\u001b[0m\u001b[1;33m)\u001b[0m\u001b[1;33m\u001b[0m\u001b[0m\n",
      "\u001b[1;32m<ipython-input-79-ce0ee6e40623>\u001b[0m in \u001b[0;36msearch_recursive\u001b[1;34m(self, s, depth)\u001b[0m\n\u001b[0;32m    218\u001b[0m         \u001b[1;31m# Perform the best action which was just found\u001b[0m\u001b[1;33m\u001b[0m\u001b[1;33m\u001b[0m\u001b[0m\n\u001b[0;32m    219\u001b[0m         \u001b[0msprime\u001b[0m \u001b[1;33m=\u001b[0m \u001b[0mswitchsides\u001b[0m\u001b[1;33m(\u001b[0m\u001b[0mperformaction\u001b[0m\u001b[1;33m(\u001b[0m\u001b[0ms\u001b[0m\u001b[1;33m,\u001b[0m \u001b[0ma\u001b[0m\u001b[1;33m)\u001b[0m\u001b[1;33m)\u001b[0m\u001b[1;33m\u001b[0m\u001b[0m\n\u001b[1;32m--> 220\u001b[1;33m         \u001b[0mv\u001b[0m \u001b[1;33m=\u001b[0m \u001b[0mself\u001b[0m\u001b[1;33m.\u001b[0m\u001b[0msearch_recursive\u001b[0m\u001b[1;33m(\u001b[0m\u001b[0msprime\u001b[0m\u001b[1;33m,\u001b[0m \u001b[0mdepth\u001b[0m\u001b[1;33m+\u001b[0m\u001b[1;36m1\u001b[0m\u001b[1;33m)\u001b[0m\u001b[1;33m\u001b[0m\u001b[0m\n\u001b[0m\u001b[0;32m    221\u001b[0m \u001b[1;33m\u001b[0m\u001b[0m\n\u001b[0;32m    222\u001b[0m         \u001b[0mself\u001b[0m\u001b[1;33m.\u001b[0m\u001b[0mvsa\u001b[0m\u001b[1;33m[\u001b[0m\u001b[0ms_\u001b[0m\u001b[1;33m,\u001b[0m\u001b[0ma\u001b[0m\u001b[1;33m]\u001b[0m\u001b[1;33m.\u001b[0m\u001b[0mappend\u001b[0m\u001b[1;33m(\u001b[0m\u001b[0mv\u001b[0m\u001b[1;33m)\u001b[0m\u001b[1;33m\u001b[0m\u001b[0m\n",
      "\u001b[1;32m<ipython-input-79-ce0ee6e40623>\u001b[0m in \u001b[0;36msearch_recursive\u001b[1;34m(self, s, depth)\u001b[0m\n\u001b[0;32m    218\u001b[0m         \u001b[1;31m# Perform the best action which was just found\u001b[0m\u001b[1;33m\u001b[0m\u001b[1;33m\u001b[0m\u001b[0m\n\u001b[0;32m    219\u001b[0m         \u001b[0msprime\u001b[0m \u001b[1;33m=\u001b[0m \u001b[0mswitchsides\u001b[0m\u001b[1;33m(\u001b[0m\u001b[0mperformaction\u001b[0m\u001b[1;33m(\u001b[0m\u001b[0ms\u001b[0m\u001b[1;33m,\u001b[0m \u001b[0ma\u001b[0m\u001b[1;33m)\u001b[0m\u001b[1;33m)\u001b[0m\u001b[1;33m\u001b[0m\u001b[0m\n\u001b[1;32m--> 220\u001b[1;33m         \u001b[0mv\u001b[0m \u001b[1;33m=\u001b[0m \u001b[0mself\u001b[0m\u001b[1;33m.\u001b[0m\u001b[0msearch_recursive\u001b[0m\u001b[1;33m(\u001b[0m\u001b[0msprime\u001b[0m\u001b[1;33m,\u001b[0m \u001b[0mdepth\u001b[0m\u001b[1;33m+\u001b[0m\u001b[1;36m1\u001b[0m\u001b[1;33m)\u001b[0m\u001b[1;33m\u001b[0m\u001b[0m\n\u001b[0m\u001b[0;32m    221\u001b[0m \u001b[1;33m\u001b[0m\u001b[0m\n\u001b[0;32m    222\u001b[0m         \u001b[0mself\u001b[0m\u001b[1;33m.\u001b[0m\u001b[0mvsa\u001b[0m\u001b[1;33m[\u001b[0m\u001b[0ms_\u001b[0m\u001b[1;33m,\u001b[0m\u001b[0ma\u001b[0m\u001b[1;33m]\u001b[0m\u001b[1;33m.\u001b[0m\u001b[0mappend\u001b[0m\u001b[1;33m(\u001b[0m\u001b[0mv\u001b[0m\u001b[1;33m)\u001b[0m\u001b[1;33m\u001b[0m\u001b[0m\n",
      "\u001b[1;32m<ipython-input-79-ce0ee6e40623>\u001b[0m in \u001b[0;36msearch_recursive\u001b[1;34m(self, s, depth)\u001b[0m\n\u001b[0;32m    218\u001b[0m         \u001b[1;31m# Perform the best action which was just found\u001b[0m\u001b[1;33m\u001b[0m\u001b[1;33m\u001b[0m\u001b[0m\n\u001b[0;32m    219\u001b[0m         \u001b[0msprime\u001b[0m \u001b[1;33m=\u001b[0m \u001b[0mswitchsides\u001b[0m\u001b[1;33m(\u001b[0m\u001b[0mperformaction\u001b[0m\u001b[1;33m(\u001b[0m\u001b[0ms\u001b[0m\u001b[1;33m,\u001b[0m \u001b[0ma\u001b[0m\u001b[1;33m)\u001b[0m\u001b[1;33m)\u001b[0m\u001b[1;33m\u001b[0m\u001b[0m\n\u001b[1;32m--> 220\u001b[1;33m         \u001b[0mv\u001b[0m \u001b[1;33m=\u001b[0m \u001b[0mself\u001b[0m\u001b[1;33m.\u001b[0m\u001b[0msearch_recursive\u001b[0m\u001b[1;33m(\u001b[0m\u001b[0msprime\u001b[0m\u001b[1;33m,\u001b[0m \u001b[0mdepth\u001b[0m\u001b[1;33m+\u001b[0m\u001b[1;36m1\u001b[0m\u001b[1;33m)\u001b[0m\u001b[1;33m\u001b[0m\u001b[0m\n\u001b[0m\u001b[0;32m    221\u001b[0m \u001b[1;33m\u001b[0m\u001b[0m\n\u001b[0;32m    222\u001b[0m         \u001b[0mself\u001b[0m\u001b[1;33m.\u001b[0m\u001b[0mvsa\u001b[0m\u001b[1;33m[\u001b[0m\u001b[0ms_\u001b[0m\u001b[1;33m,\u001b[0m\u001b[0ma\u001b[0m\u001b[1;33m]\u001b[0m\u001b[1;33m.\u001b[0m\u001b[0mappend\u001b[0m\u001b[1;33m(\u001b[0m\u001b[0mv\u001b[0m\u001b[1;33m)\u001b[0m\u001b[1;33m\u001b[0m\u001b[0m\n",
      "\u001b[1;32m<ipython-input-79-ce0ee6e40623>\u001b[0m in \u001b[0;36msearch_recursive\u001b[1;34m(self, s, depth)\u001b[0m\n\u001b[0;32m    218\u001b[0m         \u001b[1;31m# Perform the best action which was just found\u001b[0m\u001b[1;33m\u001b[0m\u001b[1;33m\u001b[0m\u001b[0m\n\u001b[0;32m    219\u001b[0m         \u001b[0msprime\u001b[0m \u001b[1;33m=\u001b[0m \u001b[0mswitchsides\u001b[0m\u001b[1;33m(\u001b[0m\u001b[0mperformaction\u001b[0m\u001b[1;33m(\u001b[0m\u001b[0ms\u001b[0m\u001b[1;33m,\u001b[0m \u001b[0ma\u001b[0m\u001b[1;33m)\u001b[0m\u001b[1;33m)\u001b[0m\u001b[1;33m\u001b[0m\u001b[0m\n\u001b[1;32m--> 220\u001b[1;33m         \u001b[0mv\u001b[0m \u001b[1;33m=\u001b[0m \u001b[0mself\u001b[0m\u001b[1;33m.\u001b[0m\u001b[0msearch_recursive\u001b[0m\u001b[1;33m(\u001b[0m\u001b[0msprime\u001b[0m\u001b[1;33m,\u001b[0m \u001b[0mdepth\u001b[0m\u001b[1;33m+\u001b[0m\u001b[1;36m1\u001b[0m\u001b[1;33m)\u001b[0m\u001b[1;33m\u001b[0m\u001b[0m\n\u001b[0m\u001b[0;32m    221\u001b[0m \u001b[1;33m\u001b[0m\u001b[0m\n\u001b[0;32m    222\u001b[0m         \u001b[0mself\u001b[0m\u001b[1;33m.\u001b[0m\u001b[0mvsa\u001b[0m\u001b[1;33m[\u001b[0m\u001b[0ms_\u001b[0m\u001b[1;33m,\u001b[0m\u001b[0ma\u001b[0m\u001b[1;33m]\u001b[0m\u001b[1;33m.\u001b[0m\u001b[0mappend\u001b[0m\u001b[1;33m(\u001b[0m\u001b[0mv\u001b[0m\u001b[1;33m)\u001b[0m\u001b[1;33m\u001b[0m\u001b[0m\n",
      "\u001b[1;32m<ipython-input-79-ce0ee6e40623>\u001b[0m in \u001b[0;36msearch_recursive\u001b[1;34m(self, s, depth)\u001b[0m\n\u001b[0;32m    218\u001b[0m         \u001b[1;31m# Perform the best action which was just found\u001b[0m\u001b[1;33m\u001b[0m\u001b[1;33m\u001b[0m\u001b[0m\n\u001b[0;32m    219\u001b[0m         \u001b[0msprime\u001b[0m \u001b[1;33m=\u001b[0m \u001b[0mswitchsides\u001b[0m\u001b[1;33m(\u001b[0m\u001b[0mperformaction\u001b[0m\u001b[1;33m(\u001b[0m\u001b[0ms\u001b[0m\u001b[1;33m,\u001b[0m \u001b[0ma\u001b[0m\u001b[1;33m)\u001b[0m\u001b[1;33m)\u001b[0m\u001b[1;33m\u001b[0m\u001b[0m\n\u001b[1;32m--> 220\u001b[1;33m         \u001b[0mv\u001b[0m \u001b[1;33m=\u001b[0m \u001b[0mself\u001b[0m\u001b[1;33m.\u001b[0m\u001b[0msearch_recursive\u001b[0m\u001b[1;33m(\u001b[0m\u001b[0msprime\u001b[0m\u001b[1;33m,\u001b[0m \u001b[0mdepth\u001b[0m\u001b[1;33m+\u001b[0m\u001b[1;36m1\u001b[0m\u001b[1;33m)\u001b[0m\u001b[1;33m\u001b[0m\u001b[0m\n\u001b[0m\u001b[0;32m    221\u001b[0m \u001b[1;33m\u001b[0m\u001b[0m\n\u001b[0;32m    222\u001b[0m         \u001b[0mself\u001b[0m\u001b[1;33m.\u001b[0m\u001b[0mvsa\u001b[0m\u001b[1;33m[\u001b[0m\u001b[0ms_\u001b[0m\u001b[1;33m,\u001b[0m\u001b[0ma\u001b[0m\u001b[1;33m]\u001b[0m\u001b[1;33m.\u001b[0m\u001b[0mappend\u001b[0m\u001b[1;33m(\u001b[0m\u001b[0mv\u001b[0m\u001b[1;33m)\u001b[0m\u001b[1;33m\u001b[0m\u001b[0m\n",
      "\u001b[1;32m<ipython-input-79-ce0ee6e40623>\u001b[0m in \u001b[0;36msearch_recursive\u001b[1;34m(self, s, depth)\u001b[0m\n\u001b[0;32m    218\u001b[0m         \u001b[1;31m# Perform the best action which was just found\u001b[0m\u001b[1;33m\u001b[0m\u001b[1;33m\u001b[0m\u001b[0m\n\u001b[0;32m    219\u001b[0m         \u001b[0msprime\u001b[0m \u001b[1;33m=\u001b[0m \u001b[0mswitchsides\u001b[0m\u001b[1;33m(\u001b[0m\u001b[0mperformaction\u001b[0m\u001b[1;33m(\u001b[0m\u001b[0ms\u001b[0m\u001b[1;33m,\u001b[0m \u001b[0ma\u001b[0m\u001b[1;33m)\u001b[0m\u001b[1;33m)\u001b[0m\u001b[1;33m\u001b[0m\u001b[0m\n\u001b[1;32m--> 220\u001b[1;33m         \u001b[0mv\u001b[0m \u001b[1;33m=\u001b[0m \u001b[0mself\u001b[0m\u001b[1;33m.\u001b[0m\u001b[0msearch_recursive\u001b[0m\u001b[1;33m(\u001b[0m\u001b[0msprime\u001b[0m\u001b[1;33m,\u001b[0m \u001b[0mdepth\u001b[0m\u001b[1;33m+\u001b[0m\u001b[1;36m1\u001b[0m\u001b[1;33m)\u001b[0m\u001b[1;33m\u001b[0m\u001b[0m\n\u001b[0m\u001b[0;32m    221\u001b[0m \u001b[1;33m\u001b[0m\u001b[0m\n\u001b[0;32m    222\u001b[0m         \u001b[0mself\u001b[0m\u001b[1;33m.\u001b[0m\u001b[0mvsa\u001b[0m\u001b[1;33m[\u001b[0m\u001b[0ms_\u001b[0m\u001b[1;33m,\u001b[0m\u001b[0ma\u001b[0m\u001b[1;33m]\u001b[0m\u001b[1;33m.\u001b[0m\u001b[0mappend\u001b[0m\u001b[1;33m(\u001b[0m\u001b[0mv\u001b[0m\u001b[1;33m)\u001b[0m\u001b[1;33m\u001b[0m\u001b[0m\n",
      "\u001b[1;32m<ipython-input-79-ce0ee6e40623>\u001b[0m in \u001b[0;36msearch_recursive\u001b[1;34m(self, s, depth)\u001b[0m\n\u001b[0;32m    218\u001b[0m         \u001b[1;31m# Perform the best action which was just found\u001b[0m\u001b[1;33m\u001b[0m\u001b[1;33m\u001b[0m\u001b[0m\n\u001b[0;32m    219\u001b[0m         \u001b[0msprime\u001b[0m \u001b[1;33m=\u001b[0m \u001b[0mswitchsides\u001b[0m\u001b[1;33m(\u001b[0m\u001b[0mperformaction\u001b[0m\u001b[1;33m(\u001b[0m\u001b[0ms\u001b[0m\u001b[1;33m,\u001b[0m \u001b[0ma\u001b[0m\u001b[1;33m)\u001b[0m\u001b[1;33m)\u001b[0m\u001b[1;33m\u001b[0m\u001b[0m\n\u001b[1;32m--> 220\u001b[1;33m         \u001b[0mv\u001b[0m \u001b[1;33m=\u001b[0m \u001b[0mself\u001b[0m\u001b[1;33m.\u001b[0m\u001b[0msearch_recursive\u001b[0m\u001b[1;33m(\u001b[0m\u001b[0msprime\u001b[0m\u001b[1;33m,\u001b[0m \u001b[0mdepth\u001b[0m\u001b[1;33m+\u001b[0m\u001b[1;36m1\u001b[0m\u001b[1;33m)\u001b[0m\u001b[1;33m\u001b[0m\u001b[0m\n\u001b[0m\u001b[0;32m    221\u001b[0m \u001b[1;33m\u001b[0m\u001b[0m\n\u001b[0;32m    222\u001b[0m         \u001b[0mself\u001b[0m\u001b[1;33m.\u001b[0m\u001b[0mvsa\u001b[0m\u001b[1;33m[\u001b[0m\u001b[0ms_\u001b[0m\u001b[1;33m,\u001b[0m\u001b[0ma\u001b[0m\u001b[1;33m]\u001b[0m\u001b[1;33m.\u001b[0m\u001b[0mappend\u001b[0m\u001b[1;33m(\u001b[0m\u001b[0mv\u001b[0m\u001b[1;33m)\u001b[0m\u001b[1;33m\u001b[0m\u001b[0m\n",
      "\u001b[1;32m<ipython-input-79-ce0ee6e40623>\u001b[0m in \u001b[0;36msearch_recursive\u001b[1;34m(self, s, depth)\u001b[0m\n\u001b[0;32m    218\u001b[0m         \u001b[1;31m# Perform the best action which was just found\u001b[0m\u001b[1;33m\u001b[0m\u001b[1;33m\u001b[0m\u001b[0m\n\u001b[0;32m    219\u001b[0m         \u001b[0msprime\u001b[0m \u001b[1;33m=\u001b[0m \u001b[0mswitchsides\u001b[0m\u001b[1;33m(\u001b[0m\u001b[0mperformaction\u001b[0m\u001b[1;33m(\u001b[0m\u001b[0ms\u001b[0m\u001b[1;33m,\u001b[0m \u001b[0ma\u001b[0m\u001b[1;33m)\u001b[0m\u001b[1;33m)\u001b[0m\u001b[1;33m\u001b[0m\u001b[0m\n\u001b[1;32m--> 220\u001b[1;33m         \u001b[0mv\u001b[0m \u001b[1;33m=\u001b[0m \u001b[0mself\u001b[0m\u001b[1;33m.\u001b[0m\u001b[0msearch_recursive\u001b[0m\u001b[1;33m(\u001b[0m\u001b[0msprime\u001b[0m\u001b[1;33m,\u001b[0m \u001b[0mdepth\u001b[0m\u001b[1;33m+\u001b[0m\u001b[1;36m1\u001b[0m\u001b[1;33m)\u001b[0m\u001b[1;33m\u001b[0m\u001b[0m\n\u001b[0m\u001b[0;32m    221\u001b[0m \u001b[1;33m\u001b[0m\u001b[0m\n\u001b[0;32m    222\u001b[0m         \u001b[0mself\u001b[0m\u001b[1;33m.\u001b[0m\u001b[0mvsa\u001b[0m\u001b[1;33m[\u001b[0m\u001b[0ms_\u001b[0m\u001b[1;33m,\u001b[0m\u001b[0ma\u001b[0m\u001b[1;33m]\u001b[0m\u001b[1;33m.\u001b[0m\u001b[0mappend\u001b[0m\u001b[1;33m(\u001b[0m\u001b[0mv\u001b[0m\u001b[1;33m)\u001b[0m\u001b[1;33m\u001b[0m\u001b[0m\n",
      "\u001b[1;32m<ipython-input-79-ce0ee6e40623>\u001b[0m in \u001b[0;36msearch_recursive\u001b[1;34m(self, s, depth)\u001b[0m\n\u001b[0;32m    193\u001b[0m         \u001b[1;31m# Otherwise go deeper into tree\u001b[0m\u001b[1;33m\u001b[0m\u001b[1;33m\u001b[0m\u001b[0m\n\u001b[0;32m    194\u001b[0m         \u001b[0mvalid\u001b[0m \u001b[1;33m=\u001b[0m \u001b[0mself\u001b[0m\u001b[1;33m.\u001b[0m\u001b[0mVs\u001b[0m\u001b[1;33m[\u001b[0m\u001b[0ms_\u001b[0m\u001b[1;33m]\u001b[0m\u001b[1;33m\u001b[0m\u001b[0m\n\u001b[1;32m--> 195\u001b[1;33m         \u001b[1;32massert\u001b[0m \u001b[0mlen\u001b[0m\u001b[1;33m(\u001b[0m\u001b[0mvalid\u001b[0m\u001b[1;33m)\u001b[0m \u001b[1;33m!=\u001b[0m \u001b[1;36m0\u001b[0m\u001b[1;33m,\u001b[0m \u001b[0mvalid\u001b[0m\u001b[1;33m\u001b[0m\u001b[0m\n\u001b[0m\u001b[0;32m    196\u001b[0m         \u001b[1;33m(\u001b[0m\u001b[1;34mf'There are {len(valid)} valid moves'\u001b[0m\u001b[1;33m)\u001b[0m\u001b[1;33m\u001b[0m\u001b[0m\n\u001b[0;32m    197\u001b[0m         \u001b[0mUmax\u001b[0m \u001b[1;33m=\u001b[0m \u001b[1;33m-\u001b[0m\u001b[0mnp\u001b[0m\u001b[1;33m.\u001b[0m\u001b[0mInf\u001b[0m\u001b[1;33m\u001b[0m\u001b[0m\n",
      "\u001b[1;31mAssertionError\u001b[0m: []"
     ]
    }
   ],
   "source": [
    "np.random.seed(0)\n",
    "verbose = False\n",
    "verbose_start = 6000\n",
    "mcts = MCTS(p_and_v_trivial, niterations=6010)\n",
    "mcts.run()"
   ]
  },
  {
   "cell_type": "code",
   "execution_count": 17,
   "metadata": {
    "ExecuteTime": {
     "end_time": "2020-08-06T21:40:42.228924Z",
     "start_time": "2020-08-06T21:40:41.270767Z"
    }
   },
   "outputs": [
    {
     "name": "stdout",
     "output_type": "stream",
     "text": [
      " "
     ]
    }
   ],
   "source": [
    "\n",
    "verbose = False\n",
    "verbose_start = 6000000\n",
    "mcts = MCTS(p_and_v_trivial, niterations=1000)\n",
    "\n",
    "%prun mcts.search_recursive()"
   ]
  },
  {
   "cell_type": "code",
   "execution_count": 30,
   "metadata": {
    "ExecuteTime": {
     "end_time": "2020-08-06T22:57:48.301265Z",
     "start_time": "2020-08-06T22:57:48.273125Z"
    }
   },
   "outputs": [
    {
     "data": {
      "text/plain": [
       "[5, 6, 7]"
      ]
     },
     "execution_count": 30,
     "metadata": {},
     "output_type": "execute_result"
    }
   ],
   "source": [
    "board = np.array([[-1, -1,  1],\n",
    " [ 1,  1,  0],\n",
    " [ 0,  0, -1]], dtype=int)\n",
    "\n",
    "validmoves(board)"
   ]
  },
  {
   "cell_type": "code",
   "execution_count": 31,
   "metadata": {
    "ExecuteTime": {
     "end_time": "2020-08-06T22:58:45.000898Z",
     "start_time": "2020-08-06T22:58:44.990840Z"
    }
   },
   "outputs": [
    {
     "data": {
      "text/plain": [
       "array([[-1, -1,  1],\n",
       "       [ 1,  1,  0],\n",
       "       [ 0,  0, -1]])"
      ]
     },
     "execution_count": 31,
     "metadata": {},
     "output_type": "execute_result"
    }
   ],
   "source": [
    "board"
   ]
  },
  {
   "cell_type": "code",
   "execution_count": null,
   "metadata": {},
   "outputs": [],
   "source": []
  }
 ],
 "metadata": {
  "kernelspec": {
   "display_name": "Python 3",
   "language": "python",
   "name": "python3"
  },
  "language_info": {
   "codemirror_mode": {
    "name": "ipython",
    "version": 3
   },
   "file_extension": ".py",
   "mimetype": "text/x-python",
   "name": "python",
   "nbconvert_exporter": "python",
   "pygments_lexer": "ipython3",
   "version": "3.6.6"
  },
  "varInspector": {
   "cols": {
    "lenName": 16,
    "lenType": 16,
    "lenVar": 40
   },
   "kernels_config": {
    "python": {
     "delete_cmd_postfix": "",
     "delete_cmd_prefix": "del ",
     "library": "var_list.py",
     "varRefreshCmd": "print(var_dic_list())"
    },
    "r": {
     "delete_cmd_postfix": ") ",
     "delete_cmd_prefix": "rm(",
     "library": "var_list.r",
     "varRefreshCmd": "cat(var_dic_list()) "
    }
   },
   "types_to_exclude": [
    "module",
    "function",
    "builtin_function_or_method",
    "instance",
    "_Feature"
   ],
   "window_display": false
  }
 },
 "nbformat": 4,
 "nbformat_minor": 4
}
