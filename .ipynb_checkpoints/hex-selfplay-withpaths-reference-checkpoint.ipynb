{
 "cells": [
  {
   "cell_type": "code",
   "execution_count": 2,
   "metadata": {
    "ExecuteTime": {
     "end_time": "2021-03-23T13:21:27.640052Z",
     "start_time": "2021-03-23T13:21:27.624431Z"
    }
   },
   "outputs": [],
   "source": [
    "import numpy as np\n",
    "import matplotlib.pyplot as plt\n",
    "import matplotlib.patches as patches\n",
    "%matplotlib inline\n",
    "from tqdm.notebook import tqdm, trange"
   ]
  },
  {
   "cell_type": "code",
   "execution_count": 3,
   "metadata": {
    "ExecuteTime": {
     "end_time": "2021-03-23T13:21:29.275064Z",
     "start_time": "2021-03-23T13:21:27.640052Z"
    }
   },
   "outputs": [],
   "source": [
    "%load_ext autoreload\n",
    "%autoreload 2\n",
    "\n",
    "from hex_show import *\n",
    "from hex_pathfinding import *\n",
    "from hex_helpers import *\n",
    "from hex_minmax import *\n",
    "from hex_train_helpers import *\n",
    "\n",
    "bsize=6"
   ]
  },
  {
   "cell_type": "markdown",
   "metadata": {},
   "source": [
    "## Initialisierung"
   ]
  },
  {
   "cell_type": "code",
   "execution_count": 4,
   "metadata": {
    "ExecuteTime": {
     "end_time": "2021-03-23T13:21:29.343836Z",
     "start_time": "2021-03-23T13:21:29.275064Z"
    }
   },
   "outputs": [],
   "source": [
    "\n",
    "class RandomPlayer:\n",
    "    @staticmethod\n",
    "    def findmove(board):\n",
    "        while True:\n",
    "            k = np.random.randint(N**2)\n",
    "            if board[divmod(k,N)]==0:\n",
    "                return divmod(k,N)"
   ]
  },
  {
   "cell_type": "markdown",
   "metadata": {},
   "source": [
    "## Pitting"
   ]
  },
  {
   "cell_type": "code",
   "execution_count": 5,
   "metadata": {
    "ExecuteTime": {
     "end_time": "2021-03-23T13:21:29.428467Z",
     "start_time": "2021-03-23T13:21:29.343836Z"
    }
   },
   "outputs": [],
   "source": [
    "# Funktion für das pitten zweier ai`s (Wettkampf mit n Runden)\n",
    "\n",
    "def pit(ai1, ai2, n=20, nrnd=0, verbose=0):\n",
    "    '''Pits two ai for n rounds. First nrnd moves are randomly chosen.\n",
    "    confidence: sigma interval in where you want to know one ai is better than the other\n",
    "    '''\n",
    "        \n",
    "    if type(n) is type(None) or n==np.Inf:\n",
    "        n = int(1e10)\n",
    "    \n",
    "    wins1 = 0\n",
    "    wins2 = 0\n",
    "    \n",
    "    for k in range(n):\n",
    "\n",
    "        if k%2 == 0:\n",
    "            ai_red  = ai1\n",
    "            ai_blue = ai2\n",
    "        else:\n",
    "            ai_red  = ai2\n",
    "            ai_blue = ai1\n",
    "            \n",
    "        if k%2 == 0:\n",
    "            board0 = filledboard(bsize, nrnd)\n",
    "            \n",
    "        board = board0.copy()\n",
    "        turn = (-1)**(board!=0).sum()\n",
    "\n",
    "        while True:\n",
    "\n",
    "            if turn>0:\n",
    "                #'Reds turn'\n",
    "\n",
    "                # Move by an AI\n",
    "                #x, y = ai_red.findmove(board, True, verbose=0)\n",
    "                x, y = ai_red.findmove(board)\n",
    "\n",
    "            else:\n",
    "                #'Blues turn'\n",
    "\n",
    "                # Move by an AI\n",
    "                #x, y = ai_blue.findmove(board, False, verbose=0)\n",
    "                x, y = ai_blue.findmove(board)\n",
    "\n",
    "\n",
    "            board[x,y] = turn\n",
    "            turn *= -1\n",
    "\n",
    "\n",
    "            # If someone has won\n",
    "            won = winner(board)\n",
    "            if won!=0:\n",
    "                break\n",
    "\n",
    "        if k%2==1:\n",
    "            won *= -1\n",
    "        wins1 += int(+won/2+1/2)\n",
    "        wins2 += int(-won/2+1/2)\n",
    "        sigma = np.sqrt(wins1*wins2/(wins1+wins2))\n",
    "        \n",
    "        if verbose:\n",
    "            print(wins1, k+1)\n",
    "        \n",
    "        \n",
    "    #return wins1, wins2\n",
    "    return wins1/n"
   ]
  },
  {
   "cell_type": "markdown",
   "metadata": {},
   "source": [
    "## Training"
   ]
  },
  {
   "cell_type": "code",
   "execution_count": 6,
   "metadata": {
    "ExecuteTime": {
     "end_time": "2021-03-23T13:21:29.513100Z",
     "start_time": "2021-03-23T13:21:29.428467Z"
    }
   },
   "outputs": [],
   "source": [
    "\n",
    "# Batch generator for neural network training\n",
    "\n",
    "def batchgen(gamerecords, size=50, istart=0, verbose=None):\n",
    "    '''size: minibatchsize\n",
    "    istart, iend: Start- und Endindex der herausgegebenen Samples\n",
    "    verbose: Wenn überschrieben, dann mit einem String des Batchgen Namens (z. B. Supervised)'''\n",
    "    ep = 0\n",
    "    iend = len(gamerecords)\n",
    "    while True:\n",
    "        ilist = range(istart, iend)\n",
    "        ilist = np.random.permutation(ilist)\n",
    "        minibatches = [ ilist[k*size:(k+1)*size] for k in range(len(ilist)//size) ]\n",
    "        for mb in minibatches:\n",
    "            xs = np.zeros((size, 3, N, N))\n",
    "            y1s = np.zeros((size, 1, N, N))\n",
    "            y2s = np.zeros((size, 1))\n",
    "            y3s = np.zeros((size, 1, N, N))\n",
    "            for i, k in enumerate(mb):\n",
    "                x, y1, y2, y3 = gamerecords[k]\n",
    "                xs[i] = encode_oh(x)\n",
    "                ii,jj = y1\n",
    "                y1s[i, 0, ii, jj] = 1\n",
    "                y2s[i] = y2\n",
    "                y3s[i, 0] = y3\n",
    "            yield xs, y1s, y2s, y3s\n",
    "        if verbose:\n",
    "            print(f'{verbose}: finished one epoch ({ep})!')\n",
    "        ep += 1\n",
    "    \n",
    "    \n",
    "\n",
    "def train(net, gamerecords, gamerecords_legacy, iterations=4000, aug_ds=True, cons_ds=True, verbose=0):\n",
    "    '''Trainiert das Netz\n",
    "    aug_ds: Augmentation durch Drehspiegelung (Flip in x und y)\n",
    "    cons_ds: Konsistenzbedingung unter Drehspiegelung auf dem unsupervised Set\n",
    "    teacher_function: Eine Funktion, nach der auf dem unsupervised Set das Netzwerk trainiert wird. Wenn None wird der MTeacher genutzt'''\n",
    "\n",
    "    #if net is None:\n",
    "    #    net = Net(n=64)\n",
    "    ##net.train()\n",
    "    optimizer = torch.optim.Adam(lr=1e-3, params=net.parameters(), weight_decay=1e-4)\n",
    "    bg_s = batchgen(gamerecords)                             #### istart erhöhen um valbatch zu haben? für early stopping?\n",
    "    bg_u = batchgen(gamerecords_legacy, size=150)\n",
    "    BCE = nn.BCELoss()\n",
    "    MSE = nn.MSELoss()\n",
    "    L1Loss = nn.L1Loss()\n",
    "    LogLoss = lambda yp, yt: torch.mean(-yt*torch.log(yp+1e-4))\n",
    "    losses = []\n",
    "    semlosses = []\n",
    "    mtlosses = []\n",
    "\n",
    "    # Validation batches\n",
    "    #...\n",
    "    \n",
    "    # Trainings loop\n",
    "    vloss_min = np.Inf\n",
    "    for k in trange(iterations):\n",
    "\n",
    "        # ==== Supervised step ====\n",
    "        b, tp, tv, tpath = next(bg_s)\n",
    "        b, tp, tv, tpath = batch2torch(b, tp, tv, tpath)\n",
    "        \n",
    "        if aug_ds:\n",
    "            if np.random.rand()<0.5:\n",
    "                b = torch.flip(b, [2, 3])\n",
    "                tp = torch.flip(tp, [2, 3])\n",
    "                tpath = torch.flip(tpath, [2, 3])\n",
    "            \n",
    "        pp, pv, ppath = net(b, withpath=True)\n",
    "        # For softmax LogLoss, for sigmoid BCE\n",
    "        loss = LogLoss(pp.view(-1), tp.view(-1)) + MSE(pv, tv)\n",
    "        ##loss += 0.1 * BCE(ppath.view(-1), tpath.view(-1))\n",
    "        loss.backward()\n",
    "        loss = loss.item() # torch to float\n",
    "\n",
    "        # ==== Unsupervised step ====\n",
    "        if cons_ds:\n",
    "            b1, _, _, _ = batch2torch(*next(bg_u))\n",
    "            b2 = b1   # Kopie von x für Rauschen oder Veränderung\n",
    "\n",
    "            # --> welche augmentation / noise ?\n",
    "            if cons_ds:\n",
    "                b2 = torch.flip(b2, [2, 3])\n",
    "\n",
    "            # --> welches Netzwerk ?\n",
    "            pp1, pv1, ppath1 = net(b1, withpath=True)\n",
    "            pp2, pv2, ppath2 = net(b2, withpath=True)\n",
    "                \n",
    "            if cons_ds:\n",
    "                pp2 = torch.flip(pp2, [2, 3]) ## flip back\n",
    "                ppath2 = torch.flip(ppath2, [2, 3])\n",
    "            semloss  = MSE(pp1.view(-1), pp2.view(-1)) + MSE(pv1, pv2)\n",
    "            ##semloss += 0.1 * MSE(ppath1, ppath2)\n",
    "            \n",
    "            semloss *= 2\n",
    "            semloss.backward()\n",
    "            semloss = semloss.item()\n",
    "        else:\n",
    "            semloss = 0\n",
    "            \n",
    "\n",
    "        # do the training step on the network\n",
    "        optimizer.step()\n",
    "        optimizer.zero_grad()\n",
    "            \n",
    "        # Statistic\n",
    "        losses += [loss]\n",
    "        semlosses += [semloss]\n",
    "        \n",
    "        # Verbose output, measure minimum val loss\n",
    "        if len(losses) == 100:\n",
    "            if verbose>=1:\n",
    "                print('Loss=%f, SSLoss=%f'% (np.mean(losses), np.mean(semlosses)))\n",
    "            losses = []\n",
    "\n",
    "        if k % 200 == 0 and verbose>=2:\n",
    "            board, value = collection[0]\n",
    "            v_est = net.predict(encode_oh(board))\n",
    "\n",
    "            show_board(v_est, cmap='cividis')\n",
    "            plt.show()\n",
    "            \n",
    "    return net"
   ]
  },
  {
   "cell_type": "markdown",
   "metadata": {},
   "source": [
    "### Selfplay"
   ]
  },
  {
   "cell_type": "code",
   "execution_count": 7,
   "metadata": {
    "ExecuteTime": {
     "end_time": "2021-03-23T13:21:29.605884Z",
     "start_time": "2021-03-23T13:21:29.513100Z"
    },
    "run_control": {
     "marked": false
    },
    "scrolled": true
   },
   "outputs": [],
   "source": [
    "from hex_minmax import *\n",
    "from hex_nnet import *\n",
    "from hex_mcts import *\n",
    "\n",
    "bsize = 6\n",
    "\n",
    "\n",
    "\n",
    "import pickle\n",
    "\n",
    "\n",
    "def selfplay(ai, ngames=1000, verbose=0):\n",
    "    \n",
    "    red_wins = 0\n",
    "    blue_wins = 0\n",
    "    games_record = []\n",
    "\n",
    "    # Iterator with tqdm??\n",
    "    iter = range(ngames)\n",
    "    if verbose>=1:\n",
    "        iter = tqdm(iter)\n",
    "        \n",
    "    # Play n games!\n",
    "    for k in iter:\n",
    "\n",
    "        ##ai = MultiMCTS(nparallel=5, nsearches=50, path='net_train_selfplay.dat')\n",
    "        ai.eta = 0.3\n",
    "        ai_red = ai\n",
    "        ai_blue = ai\n",
    "\n",
    "        #### #  Spiele aufzeichnen\n",
    "        boards_moves_record = []\n",
    "        ####\n",
    "\n",
    "        #board = np.zeros((bsize,bsize), int)\n",
    "        board = filledboard(bsize, 3)\n",
    "        turn = getturn(board)\n",
    "\n",
    "        while True:\n",
    "\n",
    "            #show_board(board)\n",
    "            #plt.show()\n",
    "\n",
    "\n",
    "            if turn>0:\n",
    "                #print('Reds turn')\n",
    "\n",
    "                # Move by an AI\n",
    "                x, y = ai_red.findmove(board)\n",
    "\n",
    "\n",
    "            else:\n",
    "                #print('Blues turn')\n",
    "\n",
    "                # Move by an AI\n",
    "                x, y = ai_blue.findmove(board)\n",
    "\n",
    "            if turn > 0:\n",
    "                boards_moves_record += [(board.copy(), (x,y), turn)]\n",
    "            else:\n",
    "                boards_moves_record += [(-board.T.copy(), (y,x), turn)]\n",
    "                \n",
    "\n",
    "            board[x,y] = turn\n",
    "            turn *= -1\n",
    "\n",
    "\n",
    "\n",
    "            # If someone has won\n",
    "            won = winner(board)\n",
    "            if won!=0:\n",
    "                if verbose >= 2:\n",
    "                    if won==+1:\n",
    "                        print('Red has won!')\n",
    "                    else:\n",
    "                        print('Blue has won!')\n",
    "                if verbose >= 3:\n",
    "                    show_board(board)\n",
    "                    show_path(path)\n",
    "                    plt.show()\n",
    "                break\n",
    "\n",
    "        red_wins  += int(+won/2+1/2)\n",
    "        blue_wins += int(-won/2+1/2)\n",
    "\n",
    "        winpath = winning_path(board)\n",
    "        path = np.zeros((N,N), dtype='uint8')\n",
    "        for i,j in winpath:\n",
    "            path[i,j] = 1\n",
    "\n",
    "        # Spiele aufzeichnen\n",
    "        boards_won_record = [ (b, m, t*won, path if t>0 else path.T) for b, m, t in boards_moves_record ]\n",
    "        ## irgendwann winning path hinzufügen?\n",
    "\n",
    "        games_record += boards_won_record\n",
    "        \n",
    "    return games_record"
   ]
  },
  {
   "cell_type": "code",
   "execution_count": 8,
   "metadata": {
    "ExecuteTime": {
     "end_time": "2021-03-23T13:21:29.685648Z",
     "start_time": "2021-03-23T13:21:29.606892Z"
    },
    "run_control": {
     "marked": false
    },
    "scrolled": true
   },
   "outputs": [],
   "source": [
    "from hex_minmax import *\n",
    "from hex_mcts import *\n",
    "\n",
    "bsize = 6\n",
    "\n",
    "\n",
    "\n",
    "import pickle\n",
    "\n",
    "\n",
    "def selfplay_batched(ai, ngames=1000, verbose=0):\n",
    "    \n",
    "    bnum = ai.nparallel\n",
    "    game_records = []\n",
    "    \n",
    "    ai.eta = 0.3\n",
    "\n",
    "    # Iterator with tqdm??\n",
    "    if verbose>=1:\n",
    "        pbar = tqdm(total=ngames)\n",
    "        \n",
    "    newboard = lambda: filledboard(bsize, count=3)\n",
    "    boards = [ newboard() for _ in range(bnum) ]\n",
    "    turns = [ getturn(brd) for brd in boards ]\n",
    "    records = [ [] for _ in range(bnum) ]\n",
    "    \n",
    "    \n",
    "    completedgames = 0\n",
    "    while completedgames < ngames:\n",
    "        \n",
    "        moves = ai.findmove(boards)\n",
    "        for b in range(bnum):\n",
    "            turn = turns[b]\n",
    "            x, y = moves[b]\n",
    "            records[b] += [(boards[b].copy(), (x, y), turn)] if turn > 0 else \\\n",
    "                          [(-boards[b].T.copy(), (y, x), turn)]\n",
    "            boards[b][x, y] = turns[b]\n",
    "            turns[b] *= -1\n",
    "            \n",
    "            won = winner(boards[b])\n",
    "            if won:\n",
    "                winpath = winning_path(boards[b])\n",
    "                path = np.zeros((N,N), dtype='uint8')\n",
    "                for i,j in winpath:\n",
    "                    path[i,j] = 1\n",
    "                game_records += [ (b, m, t*won, path if t>0 else path.T) for (b, m, t) in records[b] ]\n",
    "                completedgames += 1\n",
    "                records[b] = []\n",
    "                boards[b] = newboard()\n",
    "                turns[b] = getturn(boards[b])\n",
    "                if verbose>=1:\n",
    "                    pbar.update(1)\n",
    "    \n",
    "    if verbose>=1:\n",
    "        pbar.close()\n",
    "        \n",
    "    return game_records"
   ]
  },
  {
   "cell_type": "code",
   "execution_count": 128,
   "metadata": {
    "deletable": false,
    "editable": false,
    "run_control": {
     "frozen": true
    },
    "scrolled": false
   },
   "outputs": [
    {
     "data": {
      "application/vnd.jupyter.widget-view+json": {
       "model_id": "865a468c7b9842aaaf3ef09f0cee8ff9",
       "version_major": 2,
       "version_minor": 0
      },
      "text/plain": [
       "HBox(children=(FloatProgress(value=0.0, max=200.0), HTML(value='')))"
      ]
     },
     "metadata": {},
     "output_type": "display_data"
    },
    {
     "name": "stdout",
     "output_type": "stream",
     "text": [
      "\n"
     ]
    }
   ],
   "source": [
    "#newgames = selfplay(MultiMCTS(nparallel=1, nsearches=50, net=net), ngames=200, verbose=1)  # 25 min für 200 games!\n",
    "#newgames = selfplay(MultiMCTS(nparallel=10, nsearches=50, net=net), ngames=200, verbose=1)  #  5 min für 200 games! batching verschlechtert spielperformance ein wenig!\n",
    "#newgames = selfplay_batched(BatchMCTS(nparallel=20, nsearches=50, net=net), ngames=200, verbose=1) # 3 min für 200 games!"
   ]
  },
  {
   "cell_type": "code",
   "execution_count": 9,
   "metadata": {
    "ExecuteTime": {
     "end_time": "2021-03-23T13:21:29.779595Z",
     "start_time": "2021-03-23T13:21:29.688645Z"
    }
   },
   "outputs": [],
   "source": [
    "    \n",
    "class Net(nn.Module):\n",
    "    def __init__(self, n=64, ksize=3, bn=True, dropout_rate=0.2):\n",
    "        super().__init__()\n",
    "        \n",
    "        # Initiate all layers of this network\n",
    "        # shared layers\n",
    "        self.conv1 = nn.Conv2d(3, n, 3, padding=1)\n",
    "        self.resblock1 = ResBlock(n, sz=ksize, bn=bn)\n",
    "        self.resblock21 = ResBlock(2*n, sz=ksize, bn=bn)\n",
    "        self.resblock22 = ResBlock(2*n, sz=ksize, bn=bn)\n",
    "        self.resblock23 = ResBlock(2*n, sz=ksize, bn=bn)\n",
    "        self.down1 = ResBlockDown(n, 2*n)\n",
    "        \n",
    "        # policy head\n",
    "        self.p_resblock3 = ResBlock(n, sz=ksize, bn=bn)\n",
    "        self.p_up1 = ResBlockUp(2*n, n)\n",
    "        self.p_conv_m1 = nn.Conv2d(n, 1, 3, padding=1)\n",
    "        \n",
    "        # policy head\n",
    "        self.path_resblock3 = ResBlock(n, sz=ksize, bn=bn)\n",
    "        self.path_up1 = ResBlockUp(2*n, n)\n",
    "        self.path_conv_m1 = nn.Conv2d(n, 1, 3, padding=1)\n",
    "        \n",
    "        # value head\n",
    "        self.v_dense1 = nn.Linear((N//2)**2 * 2*n, 1024)\n",
    "        self.v_dense2 = nn.Linear(1024, 512)\n",
    "        self.v_dense3 = nn.Linear(512, 1)\n",
    "        self.v_dropout = nn.Dropout(p=dropout_rate)\n",
    "        \n",
    "        \n",
    "        # Move network to GPU\n",
    "        if GPU:\n",
    "            self.cuda()\n",
    "        \n",
    "    def forward(self, x, withpath=False):\n",
    "        x = relu(self.conv1(x))\n",
    "        x = self.resblock1(x)\n",
    "        \n",
    "        xskip_1 = x\n",
    "        \n",
    "        x = self.down1(x)\n",
    "        x = self.resblock21(x)\n",
    "        x = self.resblock22(x)\n",
    "        x = self.resblock23(x)\n",
    "        \n",
    "        # p-Block\n",
    "        y1 = self.p_up1(x)\n",
    "        y1 += xskip_1\n",
    "        y1 = self.p_resblock3(y1)\n",
    "        \n",
    "        y1 = self.p_conv_m1(y1)\n",
    "        b, c, h, w = y1.shape\n",
    "        y1 = y1.view(b, c*h*w)\n",
    "        y1 = softmax(y1)\n",
    "        y1 = y1.view(b, c, h, w)\n",
    "        \n",
    "        \n",
    "        # v-Block\n",
    "        n, c, h, w = x.shape\n",
    "        y2 = x.view(n, c*h*w)\n",
    "        y2 = relu(self.v_dense1(y2))\n",
    "        y2 = self.v_dropout(y2)\n",
    "        y2 = relu(self.v_dense2(y2))\n",
    "        y2 = self.v_dropout(y2)\n",
    "        y2 = tanh(self.v_dense3(y2))\n",
    "        \n",
    "        if withpath:\n",
    "            # path-Block\n",
    "            y3 = self.path_up1(x)\n",
    "            y3 += xskip_1\n",
    "            y3 = self.path_resblock3(y3)\n",
    "\n",
    "            y3 = self.path_conv_m1(y3)\n",
    "            y3 = sigmoid(y3)\n",
    "\n",
    "            return y1, y2, y3\n",
    "        \n",
    "        else:\n",
    "            return y1, y2\n",
    "    \n",
    "    @staticmethod\n",
    "    def encode_oh(x):\n",
    "        'Encodes the board in one hot format (blue stone, red stone, no stone)'\n",
    "        x_oh = np.zeros((3, N, N))\n",
    "        for n in range(3):\n",
    "            x_oh[n, :, :] = (x == n)\n",
    "        return x_oh\n",
    "    \n",
    "    \n",
    "    def predict(self, numpy_x):\n",
    "        'Takes a numpy array and give out v and a p array.'\n",
    "        numpy_x = self.encode_oh(numpy_x)\n",
    "        x = torch.from_numpy(numpy_x[None,:].astype('float32'))\n",
    "        if GPU:\n",
    "            x = x.cuda()\n",
    "        y1, y2 = self(x)\n",
    "        y1 = y1[0,0,:,:].detach().cpu().numpy()\n",
    "        y2 = y2.item()\n",
    "        return y1, y2\n",
    "    \n",
    "    \n",
    "    def predictStack(self, numpy_x):\n",
    "        'Does a prediction on a stack of states'\n",
    "        b = len(numpy_x)\n",
    "        xs = []\n",
    "        for nx in numpy_x:\n",
    "            xs += [self.encode_oh(nx)]\n",
    "        xs = np.asarray(xs)\n",
    "        xs = torch.from_numpy(xs.astype('float32'))\n",
    "        if GPU:\n",
    "            xs = xs.cuda()\n",
    "        y1, y2 = self(xs)\n",
    "        y1 = y1[:,0,:,:].detach().cpu().numpy()\n",
    "        y2 = y2[:,0].detach().cpu().numpy()\n",
    "        return y1, y2\n",
    "    "
   ]
  },
  {
   "cell_type": "code",
   "execution_count": 10,
   "metadata": {
    "ExecuteTime": {
     "end_time": "2021-03-23T13:21:42.498443Z",
     "start_time": "2021-03-23T13:21:29.781590Z"
    }
   },
   "outputs": [
    {
     "data": {
      "application/vnd.jupyter.widget-view+json": {
       "model_id": "0ff749e233f74d92b6ff6c5b24c49bb4",
       "version_major": 2,
       "version_minor": 0
      },
      "text/plain": [
       "HBox(children=(FloatProgress(value=0.0, max=400.0), HTML(value='')))"
      ]
     },
     "metadata": {},
     "output_type": "display_data"
    },
    {
     "name": "stdout",
     "output_type": "stream",
     "text": [
      "\n"
     ]
    },
    {
     "data": {
      "application/vnd.jupyter.widget-view+json": {
       "model_id": "71239ca7c26c457e9bf0f3137e4a2af1",
       "version_major": 2,
       "version_minor": 0
      },
      "text/plain": [
       "HBox(children=(FloatProgress(value=0.0, max=1200.0), HTML(value='')))"
      ]
     },
     "metadata": {},
     "output_type": "display_data"
    },
    {
     "name": "stdout",
     "output_type": "stream",
     "text": [
      "\n",
      "Game record / legacy has length 11122 / 33480\n"
     ]
    }
   ],
   "source": [
    "\n",
    "net = Net()\n",
    "game_rec = selfplay(RandomPlayer(), ngames=400, verbose=1)\n",
    "game_rec_leg = selfplay(RandomPlayer(), ngames=1200, verbose=1)\n",
    "print(f'Game record / legacy has length {len(game_rec)} / {len(game_rec_leg)}')\n",
    "net = train(net, game_rec, game_rec_leg, iterations=1000, verbose=1)\n",
    "winrates = []\n",
    "mmdepths = []\n",
    "depthminimax = 1\n",
    "stage = 0"
   ]
  },
  {
   "cell_type": "code",
   "execution_count": 11,
   "metadata": {
    "ExecuteTime": {
     "end_time": "2021-03-23T13:21:57.834666Z",
     "start_time": "2021-03-23T13:21:42.498443Z"
    },
    "run_control": {
     "marked": true
    },
    "scrolled": true
   },
   "outputs": [
    {
     "name": "stdout",
     "output_type": "stream",
     "text": [
      "Pitting\n",
      "0 1\n",
      "0 2\n",
      "0 3\n",
      "0 4\n"
     ]
    },
    {
     "ename": "KeyboardInterrupt",
     "evalue": "",
     "output_type": "error",
     "traceback": [
      "\u001b[1;31m---------------------------------------------------------------------------\u001b[0m",
      "\u001b[1;31mKeyboardInterrupt\u001b[0m                         Traceback (most recent call last)",
      "\u001b[1;32m<ipython-input-11-23192011636f>\u001b[0m in \u001b[0;36m<module>\u001b[1;34m\u001b[0m\n\u001b[0;32m     13\u001b[0m     \u001b[1;32mif\u001b[0m \u001b[0mstage\u001b[0m\u001b[1;33m==\u001b[0m\u001b[1;36m0\u001b[0m\u001b[1;33m:\u001b[0m\u001b[1;33m\u001b[0m\u001b[1;33m\u001b[0m\u001b[0m\n\u001b[0;32m     14\u001b[0m         \u001b[0mprint\u001b[0m\u001b[1;33m(\u001b[0m\u001b[1;34m'Pitting'\u001b[0m\u001b[1;33m)\u001b[0m\u001b[1;33m\u001b[0m\u001b[1;33m\u001b[0m\u001b[0m\n\u001b[1;32m---> 15\u001b[1;33m         \u001b[0mwinrate\u001b[0m \u001b[1;33m=\u001b[0m \u001b[0mpit\u001b[0m\u001b[1;33m(\u001b[0m\u001b[0mMultiMCTS\u001b[0m\u001b[1;33m(\u001b[0m\u001b[0mnparallel\u001b[0m\u001b[1;33m=\u001b[0m\u001b[1;36m5\u001b[0m\u001b[1;33m,\u001b[0m \u001b[0mnsearches\u001b[0m\u001b[1;33m=\u001b[0m\u001b[1;36m150\u001b[0m\u001b[1;33m,\u001b[0m \u001b[0mnet\u001b[0m\u001b[1;33m=\u001b[0m\u001b[0mnet\u001b[0m\u001b[1;33m)\u001b[0m\u001b[1;33m,\u001b[0m \u001b[0mMiniMax\u001b[0m\u001b[1;33m(\u001b[0m\u001b[0mmaxdepth\u001b[0m\u001b[1;33m=\u001b[0m\u001b[0mdepthminimax\u001b[0m\u001b[1;33m)\u001b[0m\u001b[1;33m,\u001b[0m \u001b[0mn\u001b[0m\u001b[1;33m=\u001b[0m\u001b[1;36m10\u001b[0m\u001b[1;33m,\u001b[0m \u001b[0mnrnd\u001b[0m\u001b[1;33m=\u001b[0m\u001b[1;36m1\u001b[0m\u001b[1;33m,\u001b[0m \u001b[0mverbose\u001b[0m\u001b[1;33m=\u001b[0m\u001b[1;36m1\u001b[0m\u001b[1;33m)\u001b[0m\u001b[1;33m\u001b[0m\u001b[1;33m\u001b[0m\u001b[0m\n\u001b[0m\u001b[0;32m     16\u001b[0m         \u001b[0mprint\u001b[0m\u001b[1;33m(\u001b[0m\u001b[0mwinrate\u001b[0m\u001b[1;33m)\u001b[0m\u001b[1;33m\u001b[0m\u001b[1;33m\u001b[0m\u001b[0m\n\u001b[0;32m     17\u001b[0m         \u001b[0mwinrates\u001b[0m\u001b[1;33m.\u001b[0m\u001b[0mappend\u001b[0m\u001b[1;33m(\u001b[0m\u001b[0mwinrate\u001b[0m\u001b[1;33m)\u001b[0m\u001b[1;33m\u001b[0m\u001b[1;33m\u001b[0m\u001b[0m\n",
      "\u001b[1;32m<ipython-input-5-1d6297f0969c>\u001b[0m in \u001b[0;36mpit\u001b[1;34m(ai1, ai2, n, nrnd, verbose)\u001b[0m\n\u001b[0;32m     34\u001b[0m                 \u001b[1;31m# Move by an AI\u001b[0m\u001b[1;33m\u001b[0m\u001b[1;33m\u001b[0m\u001b[1;33m\u001b[0m\u001b[0m\n\u001b[0;32m     35\u001b[0m                 \u001b[1;31m#x, y = ai_red.findmove(board, True, verbose=0)\u001b[0m\u001b[1;33m\u001b[0m\u001b[1;33m\u001b[0m\u001b[1;33m\u001b[0m\u001b[0m\n\u001b[1;32m---> 36\u001b[1;33m                 \u001b[0mx\u001b[0m\u001b[1;33m,\u001b[0m \u001b[0my\u001b[0m \u001b[1;33m=\u001b[0m \u001b[0mai_red\u001b[0m\u001b[1;33m.\u001b[0m\u001b[0mfindmove\u001b[0m\u001b[1;33m(\u001b[0m\u001b[0mboard\u001b[0m\u001b[1;33m)\u001b[0m\u001b[1;33m\u001b[0m\u001b[1;33m\u001b[0m\u001b[0m\n\u001b[0m\u001b[0;32m     37\u001b[0m \u001b[1;33m\u001b[0m\u001b[0m\n\u001b[0;32m     38\u001b[0m             \u001b[1;32melse\u001b[0m\u001b[1;33m:\u001b[0m\u001b[1;33m\u001b[0m\u001b[1;33m\u001b[0m\u001b[0m\n",
      "\u001b[1;32mD:\\Anaconda-Python-3.7\\hex\\hex_mcts.py\u001b[0m in \u001b[0;36mfindmove\u001b[1;34m(self, board, tau, verbose)\u001b[0m\n\u001b[0;32m    248\u001b[0m         '''\n\u001b[0;32m    249\u001b[0m         \u001b[1;31m# (1) Do the MC Tree Searches\u001b[0m\u001b[1;33m\u001b[0m\u001b[1;33m\u001b[0m\u001b[1;33m\u001b[0m\u001b[0m\n\u001b[1;32m--> 250\u001b[1;33m         \u001b[0mself\u001b[0m\u001b[1;33m.\u001b[0m\u001b[0mperform_rollouts\u001b[0m\u001b[1;33m(\u001b[0m\u001b[0mboard\u001b[0m\u001b[1;33m,\u001b[0m \u001b[0mverbose\u001b[0m\u001b[1;33m)\u001b[0m\u001b[1;33m\u001b[0m\u001b[1;33m\u001b[0m\u001b[0m\n\u001b[0m\u001b[0;32m    251\u001b[0m \u001b[1;33m\u001b[0m\u001b[0m\n\u001b[0;32m    252\u001b[0m         \u001b[1;31m# (2) Find the best move\u001b[0m\u001b[1;33m\u001b[0m\u001b[1;33m\u001b[0m\u001b[1;33m\u001b[0m\u001b[0m\n",
      "\u001b[1;32mD:\\Anaconda-Python-3.7\\hex\\hex_mcts.py\u001b[0m in \u001b[0;36mperform_rollouts\u001b[1;34m(self, board, verbose)\u001b[0m\n\u001b[0;32m    830\u001b[0m             \u001b[1;32mfor\u001b[0m \u001b[0mk\u001b[0m \u001b[1;32min\u001b[0m \u001b[0mrange\u001b[0m\u001b[1;33m(\u001b[0m\u001b[0mself\u001b[0m\u001b[1;33m.\u001b[0m\u001b[0mnparallel\u001b[0m\u001b[1;33m)\u001b[0m\u001b[1;33m:\u001b[0m\u001b[1;33m\u001b[0m\u001b[1;33m\u001b[0m\u001b[0m\n\u001b[0;32m    831\u001b[0m                 \u001b[0mself\u001b[0m\u001b[1;33m.\u001b[0m\u001b[0mactivate_worker\u001b[0m\u001b[1;33m(\u001b[0m\u001b[0mk\u001b[0m\u001b[1;33m)\u001b[0m\u001b[1;33m\u001b[0m\u001b[1;33m\u001b[0m\u001b[0m\n\u001b[1;32m--> 832\u001b[1;33m                 \u001b[0mself\u001b[0m\u001b[1;33m.\u001b[0m\u001b[0msearch_leaf\u001b[0m\u001b[1;33m(\u001b[0m\u001b[1;33m)\u001b[0m\u001b[1;33m\u001b[0m\u001b[1;33m\u001b[0m\u001b[0m\n\u001b[0m\u001b[0;32m    833\u001b[0m                 \u001b[0mself\u001b[0m\u001b[1;33m.\u001b[0m\u001b[0mdeactivate_worker\u001b[0m\u001b[1;33m(\u001b[0m\u001b[0mk\u001b[0m\u001b[1;33m)\u001b[0m\u001b[1;33m\u001b[0m\u001b[1;33m\u001b[0m\u001b[0m\n\u001b[0;32m    834\u001b[0m \u001b[1;33m\u001b[0m\u001b[0m\n",
      "\u001b[1;32mD:\\Anaconda-Python-3.7\\hex\\hex_mcts.py\u001b[0m in \u001b[0;36msearch_leaf\u001b[1;34m(self)\u001b[0m\n\u001b[0;32m    728\u001b[0m \u001b[1;33m\u001b[0m\u001b[0m\n\u001b[0;32m    729\u001b[0m         \u001b[1;32mif\u001b[0m \u001b[0mtype\u001b[0m\u001b[1;33m(\u001b[0m\u001b[0mself\u001b[0m\u001b[1;33m.\u001b[0m\u001b[0mid\u001b[0m\u001b[1;33m)\u001b[0m \u001b[1;32mis\u001b[0m \u001b[1;32mnot\u001b[0m \u001b[0mtype\u001b[0m\u001b[1;33m(\u001b[0m\u001b[1;32mNone\u001b[0m\u001b[1;33m)\u001b[0m\u001b[1;33m:\u001b[0m\u001b[1;33m\u001b[0m\u001b[1;33m\u001b[0m\u001b[0m\n\u001b[1;32m--> 730\u001b[1;33m             \u001b[0mself\u001b[0m\u001b[1;33m.\u001b[0m\u001b[0mPV\u001b[0m\u001b[1;33m.\u001b[0m\u001b[0mpredictStack\u001b[0m\u001b[1;33m(\u001b[0m\u001b[1;33m)\u001b[0m\u001b[1;33m\u001b[0m\u001b[1;33m\u001b[0m\u001b[0m\n\u001b[0m\u001b[0;32m    731\u001b[0m             \u001b[0mp\u001b[0m\u001b[1;33m,\u001b[0m \u001b[0mv\u001b[0m \u001b[1;33m=\u001b[0m \u001b[0mself\u001b[0m\u001b[1;33m.\u001b[0m\u001b[0mPV\u001b[0m\u001b[1;33m.\u001b[0m\u001b[0mpop\u001b[0m\u001b[1;33m(\u001b[0m\u001b[0mself\u001b[0m\u001b[1;33m.\u001b[0m\u001b[0mid\u001b[0m\u001b[1;33m)\u001b[0m\u001b[1;33m\u001b[0m\u001b[1;33m\u001b[0m\u001b[0m\n\u001b[0;32m    732\u001b[0m \u001b[1;33m\u001b[0m\u001b[0m\n",
      "\u001b[1;32mD:\\Anaconda-Python-3.7\\hex\\hex_mcts.py\u001b[0m in \u001b[0;36mpredictStack\u001b[1;34m(self)\u001b[0m\n\u001b[0;32m    131\u001b[0m         \u001b[1;31m# do the prediction\u001b[0m\u001b[1;33m\u001b[0m\u001b[1;33m\u001b[0m\u001b[1;33m\u001b[0m\u001b[0m\n\u001b[0;32m    132\u001b[0m         \u001b[0mxs\u001b[0m \u001b[1;33m=\u001b[0m \u001b[0mnp\u001b[0m\u001b[1;33m.\u001b[0m\u001b[0masarray\u001b[0m\u001b[1;33m(\u001b[0m\u001b[0mself\u001b[0m\u001b[1;33m.\u001b[0m\u001b[0mstate_list\u001b[0m\u001b[1;33m)\u001b[0m\u001b[1;33m\u001b[0m\u001b[1;33m\u001b[0m\u001b[0m\n\u001b[1;32m--> 133\u001b[1;33m         \u001b[0mys1\u001b[0m\u001b[1;33m,\u001b[0m \u001b[0mys2\u001b[0m \u001b[1;33m=\u001b[0m \u001b[0mself\u001b[0m\u001b[1;33m.\u001b[0m\u001b[0mnnet\u001b[0m\u001b[1;33m.\u001b[0m\u001b[0mpredictStack\u001b[0m\u001b[1;33m(\u001b[0m\u001b[0mxs\u001b[0m\u001b[1;33m)\u001b[0m\u001b[1;33m\u001b[0m\u001b[1;33m\u001b[0m\u001b[0m\n\u001b[0m\u001b[0;32m    134\u001b[0m \u001b[1;33m\u001b[0m\u001b[0m\n\u001b[0;32m    135\u001b[0m         \u001b[1;31m# prepare output lists\u001b[0m\u001b[1;33m\u001b[0m\u001b[1;33m\u001b[0m\u001b[1;33m\u001b[0m\u001b[0m\n",
      "\u001b[1;32m<ipython-input-9-3fb3580ba961>\u001b[0m in \u001b[0;36mpredictStack\u001b[1;34m(self, numpy_x)\u001b[0m\n\u001b[0;32m    110\u001b[0m         \u001b[1;32mif\u001b[0m \u001b[0mGPU\u001b[0m\u001b[1;33m:\u001b[0m\u001b[1;33m\u001b[0m\u001b[1;33m\u001b[0m\u001b[0m\n\u001b[0;32m    111\u001b[0m             \u001b[0mxs\u001b[0m \u001b[1;33m=\u001b[0m \u001b[0mxs\u001b[0m\u001b[1;33m.\u001b[0m\u001b[0mcuda\u001b[0m\u001b[1;33m(\u001b[0m\u001b[1;33m)\u001b[0m\u001b[1;33m\u001b[0m\u001b[1;33m\u001b[0m\u001b[0m\n\u001b[1;32m--> 112\u001b[1;33m         \u001b[0my1\u001b[0m\u001b[1;33m,\u001b[0m \u001b[0my2\u001b[0m \u001b[1;33m=\u001b[0m \u001b[0mself\u001b[0m\u001b[1;33m(\u001b[0m\u001b[0mxs\u001b[0m\u001b[1;33m)\u001b[0m\u001b[1;33m\u001b[0m\u001b[1;33m\u001b[0m\u001b[0m\n\u001b[0m\u001b[0;32m    113\u001b[0m         \u001b[0my1\u001b[0m \u001b[1;33m=\u001b[0m \u001b[0my1\u001b[0m\u001b[1;33m[\u001b[0m\u001b[1;33m:\u001b[0m\u001b[1;33m,\u001b[0m\u001b[1;36m0\u001b[0m\u001b[1;33m,\u001b[0m\u001b[1;33m:\u001b[0m\u001b[1;33m,\u001b[0m\u001b[1;33m:\u001b[0m\u001b[1;33m]\u001b[0m\u001b[1;33m.\u001b[0m\u001b[0mdetach\u001b[0m\u001b[1;33m(\u001b[0m\u001b[1;33m)\u001b[0m\u001b[1;33m.\u001b[0m\u001b[0mcpu\u001b[0m\u001b[1;33m(\u001b[0m\u001b[1;33m)\u001b[0m\u001b[1;33m.\u001b[0m\u001b[0mnumpy\u001b[0m\u001b[1;33m(\u001b[0m\u001b[1;33m)\u001b[0m\u001b[1;33m\u001b[0m\u001b[1;33m\u001b[0m\u001b[0m\n\u001b[0;32m    114\u001b[0m         \u001b[0my2\u001b[0m \u001b[1;33m=\u001b[0m \u001b[0my2\u001b[0m\u001b[1;33m[\u001b[0m\u001b[1;33m:\u001b[0m\u001b[1;33m,\u001b[0m\u001b[1;36m0\u001b[0m\u001b[1;33m]\u001b[0m\u001b[1;33m.\u001b[0m\u001b[0mdetach\u001b[0m\u001b[1;33m(\u001b[0m\u001b[1;33m)\u001b[0m\u001b[1;33m.\u001b[0m\u001b[0mcpu\u001b[0m\u001b[1;33m(\u001b[0m\u001b[1;33m)\u001b[0m\u001b[1;33m.\u001b[0m\u001b[0mnumpy\u001b[0m\u001b[1;33m(\u001b[0m\u001b[1;33m)\u001b[0m\u001b[1;33m\u001b[0m\u001b[1;33m\u001b[0m\u001b[0m\n",
      "\u001b[1;32mC:\\ProgramData\\Anaconda3\\lib\\site-packages\\torch\\nn\\modules\\module.py\u001b[0m in \u001b[0;36m__call__\u001b[1;34m(self, *input, **kwargs)\u001b[0m\n\u001b[0;32m    548\u001b[0m             \u001b[0mresult\u001b[0m \u001b[1;33m=\u001b[0m \u001b[0mself\u001b[0m\u001b[1;33m.\u001b[0m\u001b[0m_slow_forward\u001b[0m\u001b[1;33m(\u001b[0m\u001b[1;33m*\u001b[0m\u001b[0minput\u001b[0m\u001b[1;33m,\u001b[0m \u001b[1;33m**\u001b[0m\u001b[0mkwargs\u001b[0m\u001b[1;33m)\u001b[0m\u001b[1;33m\u001b[0m\u001b[1;33m\u001b[0m\u001b[0m\n\u001b[0;32m    549\u001b[0m         \u001b[1;32melse\u001b[0m\u001b[1;33m:\u001b[0m\u001b[1;33m\u001b[0m\u001b[1;33m\u001b[0m\u001b[0m\n\u001b[1;32m--> 550\u001b[1;33m             \u001b[0mresult\u001b[0m \u001b[1;33m=\u001b[0m \u001b[0mself\u001b[0m\u001b[1;33m.\u001b[0m\u001b[0mforward\u001b[0m\u001b[1;33m(\u001b[0m\u001b[1;33m*\u001b[0m\u001b[0minput\u001b[0m\u001b[1;33m,\u001b[0m \u001b[1;33m**\u001b[0m\u001b[0mkwargs\u001b[0m\u001b[1;33m)\u001b[0m\u001b[1;33m\u001b[0m\u001b[1;33m\u001b[0m\u001b[0m\n\u001b[0m\u001b[0;32m    551\u001b[0m         \u001b[1;32mfor\u001b[0m \u001b[0mhook\u001b[0m \u001b[1;32min\u001b[0m \u001b[0mself\u001b[0m\u001b[1;33m.\u001b[0m\u001b[0m_forward_hooks\u001b[0m\u001b[1;33m.\u001b[0m\u001b[0mvalues\u001b[0m\u001b[1;33m(\u001b[0m\u001b[1;33m)\u001b[0m\u001b[1;33m:\u001b[0m\u001b[1;33m\u001b[0m\u001b[1;33m\u001b[0m\u001b[0m\n\u001b[0;32m    552\u001b[0m             \u001b[0mhook_result\u001b[0m \u001b[1;33m=\u001b[0m \u001b[0mhook\u001b[0m\u001b[1;33m(\u001b[0m\u001b[0mself\u001b[0m\u001b[1;33m,\u001b[0m \u001b[0minput\u001b[0m\u001b[1;33m,\u001b[0m \u001b[0mresult\u001b[0m\u001b[1;33m)\u001b[0m\u001b[1;33m\u001b[0m\u001b[1;33m\u001b[0m\u001b[0m\n",
      "\u001b[1;32m<ipython-input-9-3fb3580ba961>\u001b[0m in \u001b[0;36mforward\u001b[1;34m(self, x, withpath)\u001b[0m\n\u001b[0;32m     41\u001b[0m         \u001b[0mx\u001b[0m \u001b[1;33m=\u001b[0m \u001b[0mself\u001b[0m\u001b[1;33m.\u001b[0m\u001b[0mdown1\u001b[0m\u001b[1;33m(\u001b[0m\u001b[0mx\u001b[0m\u001b[1;33m)\u001b[0m\u001b[1;33m\u001b[0m\u001b[1;33m\u001b[0m\u001b[0m\n\u001b[0;32m     42\u001b[0m         \u001b[0mx\u001b[0m \u001b[1;33m=\u001b[0m \u001b[0mself\u001b[0m\u001b[1;33m.\u001b[0m\u001b[0mresblock21\u001b[0m\u001b[1;33m(\u001b[0m\u001b[0mx\u001b[0m\u001b[1;33m)\u001b[0m\u001b[1;33m\u001b[0m\u001b[1;33m\u001b[0m\u001b[0m\n\u001b[1;32m---> 43\u001b[1;33m         \u001b[0mx\u001b[0m \u001b[1;33m=\u001b[0m \u001b[0mself\u001b[0m\u001b[1;33m.\u001b[0m\u001b[0mresblock22\u001b[0m\u001b[1;33m(\u001b[0m\u001b[0mx\u001b[0m\u001b[1;33m)\u001b[0m\u001b[1;33m\u001b[0m\u001b[1;33m\u001b[0m\u001b[0m\n\u001b[0m\u001b[0;32m     44\u001b[0m         \u001b[0mx\u001b[0m \u001b[1;33m=\u001b[0m \u001b[0mself\u001b[0m\u001b[1;33m.\u001b[0m\u001b[0mresblock23\u001b[0m\u001b[1;33m(\u001b[0m\u001b[0mx\u001b[0m\u001b[1;33m)\u001b[0m\u001b[1;33m\u001b[0m\u001b[1;33m\u001b[0m\u001b[0m\n\u001b[0;32m     45\u001b[0m \u001b[1;33m\u001b[0m\u001b[0m\n",
      "\u001b[1;32mC:\\ProgramData\\Anaconda3\\lib\\site-packages\\torch\\nn\\modules\\module.py\u001b[0m in \u001b[0;36m__call__\u001b[1;34m(self, *input, **kwargs)\u001b[0m\n\u001b[0;32m    548\u001b[0m             \u001b[0mresult\u001b[0m \u001b[1;33m=\u001b[0m \u001b[0mself\u001b[0m\u001b[1;33m.\u001b[0m\u001b[0m_slow_forward\u001b[0m\u001b[1;33m(\u001b[0m\u001b[1;33m*\u001b[0m\u001b[0minput\u001b[0m\u001b[1;33m,\u001b[0m \u001b[1;33m**\u001b[0m\u001b[0mkwargs\u001b[0m\u001b[1;33m)\u001b[0m\u001b[1;33m\u001b[0m\u001b[1;33m\u001b[0m\u001b[0m\n\u001b[0;32m    549\u001b[0m         \u001b[1;32melse\u001b[0m\u001b[1;33m:\u001b[0m\u001b[1;33m\u001b[0m\u001b[1;33m\u001b[0m\u001b[0m\n\u001b[1;32m--> 550\u001b[1;33m             \u001b[0mresult\u001b[0m \u001b[1;33m=\u001b[0m \u001b[0mself\u001b[0m\u001b[1;33m.\u001b[0m\u001b[0mforward\u001b[0m\u001b[1;33m(\u001b[0m\u001b[1;33m*\u001b[0m\u001b[0minput\u001b[0m\u001b[1;33m,\u001b[0m \u001b[1;33m**\u001b[0m\u001b[0mkwargs\u001b[0m\u001b[1;33m)\u001b[0m\u001b[1;33m\u001b[0m\u001b[1;33m\u001b[0m\u001b[0m\n\u001b[0m\u001b[0;32m    551\u001b[0m         \u001b[1;32mfor\u001b[0m \u001b[0mhook\u001b[0m \u001b[1;32min\u001b[0m \u001b[0mself\u001b[0m\u001b[1;33m.\u001b[0m\u001b[0m_forward_hooks\u001b[0m\u001b[1;33m.\u001b[0m\u001b[0mvalues\u001b[0m\u001b[1;33m(\u001b[0m\u001b[1;33m)\u001b[0m\u001b[1;33m:\u001b[0m\u001b[1;33m\u001b[0m\u001b[1;33m\u001b[0m\u001b[0m\n\u001b[0;32m    552\u001b[0m             \u001b[0mhook_result\u001b[0m \u001b[1;33m=\u001b[0m \u001b[0mhook\u001b[0m\u001b[1;33m(\u001b[0m\u001b[0mself\u001b[0m\u001b[1;33m,\u001b[0m \u001b[0minput\u001b[0m\u001b[1;33m,\u001b[0m \u001b[0mresult\u001b[0m\u001b[1;33m)\u001b[0m\u001b[1;33m\u001b[0m\u001b[1;33m\u001b[0m\u001b[0m\n",
      "\u001b[1;32mD:\\Anaconda-Python-3.7\\hex\\hex_nnet.py\u001b[0m in \u001b[0;36mforward\u001b[1;34m(self, x)\u001b[0m\n\u001b[0;32m     65\u001b[0m             \u001b[0mx\u001b[0m \u001b[1;33m=\u001b[0m \u001b[0mself\u001b[0m\u001b[1;33m.\u001b[0m\u001b[0mconv1\u001b[0m\u001b[1;33m(\u001b[0m\u001b[0mx\u001b[0m\u001b[1;33m)\u001b[0m\u001b[1;33m\u001b[0m\u001b[1;33m\u001b[0m\u001b[0m\n\u001b[0;32m     66\u001b[0m             \u001b[0mx\u001b[0m \u001b[1;33m=\u001b[0m \u001b[0mself\u001b[0m\u001b[1;33m.\u001b[0m\u001b[0mbn\u001b[0m\u001b[1;33m(\u001b[0m\u001b[0mx\u001b[0m\u001b[1;33m)\u001b[0m\u001b[1;33m\u001b[0m\u001b[1;33m\u001b[0m\u001b[0m\n\u001b[1;32m---> 67\u001b[1;33m             \u001b[0mx\u001b[0m \u001b[1;33m=\u001b[0m \u001b[0mrelu\u001b[0m\u001b[1;33m(\u001b[0m\u001b[0mx\u001b[0m\u001b[1;33m)\u001b[0m\u001b[1;33m\u001b[0m\u001b[1;33m\u001b[0m\u001b[0m\n\u001b[0m\u001b[0;32m     68\u001b[0m             \u001b[0mx\u001b[0m \u001b[1;33m=\u001b[0m \u001b[0mself\u001b[0m\u001b[1;33m.\u001b[0m\u001b[0mconv2\u001b[0m\u001b[1;33m(\u001b[0m\u001b[0mx\u001b[0m\u001b[1;33m)\u001b[0m\u001b[1;33m\u001b[0m\u001b[1;33m\u001b[0m\u001b[0m\n\u001b[0;32m     69\u001b[0m             \u001b[0mx\u001b[0m \u001b[1;33m=\u001b[0m \u001b[0mxr\u001b[0m \u001b[1;33m+\u001b[0m \u001b[0mx\u001b[0m\u001b[1;33m\u001b[0m\u001b[1;33m\u001b[0m\u001b[0m\n",
      "\u001b[1;32mC:\\ProgramData\\Anaconda3\\lib\\site-packages\\torch\\nn\\modules\\module.py\u001b[0m in \u001b[0;36m__call__\u001b[1;34m(self, *input, **kwargs)\u001b[0m\n\u001b[0;32m    548\u001b[0m             \u001b[0mresult\u001b[0m \u001b[1;33m=\u001b[0m \u001b[0mself\u001b[0m\u001b[1;33m.\u001b[0m\u001b[0m_slow_forward\u001b[0m\u001b[1;33m(\u001b[0m\u001b[1;33m*\u001b[0m\u001b[0minput\u001b[0m\u001b[1;33m,\u001b[0m \u001b[1;33m**\u001b[0m\u001b[0mkwargs\u001b[0m\u001b[1;33m)\u001b[0m\u001b[1;33m\u001b[0m\u001b[1;33m\u001b[0m\u001b[0m\n\u001b[0;32m    549\u001b[0m         \u001b[1;32melse\u001b[0m\u001b[1;33m:\u001b[0m\u001b[1;33m\u001b[0m\u001b[1;33m\u001b[0m\u001b[0m\n\u001b[1;32m--> 550\u001b[1;33m             \u001b[0mresult\u001b[0m \u001b[1;33m=\u001b[0m \u001b[0mself\u001b[0m\u001b[1;33m.\u001b[0m\u001b[0mforward\u001b[0m\u001b[1;33m(\u001b[0m\u001b[1;33m*\u001b[0m\u001b[0minput\u001b[0m\u001b[1;33m,\u001b[0m \u001b[1;33m**\u001b[0m\u001b[0mkwargs\u001b[0m\u001b[1;33m)\u001b[0m\u001b[1;33m\u001b[0m\u001b[1;33m\u001b[0m\u001b[0m\n\u001b[0m\u001b[0;32m    551\u001b[0m         \u001b[1;32mfor\u001b[0m \u001b[0mhook\u001b[0m \u001b[1;32min\u001b[0m \u001b[0mself\u001b[0m\u001b[1;33m.\u001b[0m\u001b[0m_forward_hooks\u001b[0m\u001b[1;33m.\u001b[0m\u001b[0mvalues\u001b[0m\u001b[1;33m(\u001b[0m\u001b[1;33m)\u001b[0m\u001b[1;33m:\u001b[0m\u001b[1;33m\u001b[0m\u001b[1;33m\u001b[0m\u001b[0m\n\u001b[0;32m    552\u001b[0m             \u001b[0mhook_result\u001b[0m \u001b[1;33m=\u001b[0m \u001b[0mhook\u001b[0m\u001b[1;33m(\u001b[0m\u001b[0mself\u001b[0m\u001b[1;33m,\u001b[0m \u001b[0minput\u001b[0m\u001b[1;33m,\u001b[0m \u001b[0mresult\u001b[0m\u001b[1;33m)\u001b[0m\u001b[1;33m\u001b[0m\u001b[1;33m\u001b[0m\u001b[0m\n",
      "\u001b[1;32mC:\\ProgramData\\Anaconda3\\lib\\site-packages\\torch\\nn\\modules\\activation.py\u001b[0m in \u001b[0;36mforward\u001b[1;34m(self, input)\u001b[0m\n\u001b[0;32m     92\u001b[0m \u001b[1;33m\u001b[0m\u001b[0m\n\u001b[0;32m     93\u001b[0m     \u001b[1;32mdef\u001b[0m \u001b[0mforward\u001b[0m\u001b[1;33m(\u001b[0m\u001b[0mself\u001b[0m\u001b[1;33m,\u001b[0m \u001b[0minput\u001b[0m\u001b[1;33m)\u001b[0m\u001b[1;33m:\u001b[0m\u001b[1;33m\u001b[0m\u001b[1;33m\u001b[0m\u001b[0m\n\u001b[1;32m---> 94\u001b[1;33m         \u001b[1;32mreturn\u001b[0m \u001b[0mF\u001b[0m\u001b[1;33m.\u001b[0m\u001b[0mrelu\u001b[0m\u001b[1;33m(\u001b[0m\u001b[0minput\u001b[0m\u001b[1;33m,\u001b[0m \u001b[0minplace\u001b[0m\u001b[1;33m=\u001b[0m\u001b[0mself\u001b[0m\u001b[1;33m.\u001b[0m\u001b[0minplace\u001b[0m\u001b[1;33m)\u001b[0m\u001b[1;33m\u001b[0m\u001b[1;33m\u001b[0m\u001b[0m\n\u001b[0m\u001b[0;32m     95\u001b[0m \u001b[1;33m\u001b[0m\u001b[0m\n\u001b[0;32m     96\u001b[0m     \u001b[1;32mdef\u001b[0m \u001b[0mextra_repr\u001b[0m\u001b[1;33m(\u001b[0m\u001b[0mself\u001b[0m\u001b[1;33m)\u001b[0m\u001b[1;33m:\u001b[0m\u001b[1;33m\u001b[0m\u001b[1;33m\u001b[0m\u001b[0m\n",
      "\u001b[1;32mC:\\ProgramData\\Anaconda3\\lib\\site-packages\\torch\\nn\\functional.py\u001b[0m in \u001b[0;36mrelu\u001b[1;34m(input, inplace)\u001b[0m\n\u001b[0;32m   1061\u001b[0m         \u001b[0mresult\u001b[0m \u001b[1;33m=\u001b[0m \u001b[0mtorch\u001b[0m\u001b[1;33m.\u001b[0m\u001b[0mrelu_\u001b[0m\u001b[1;33m(\u001b[0m\u001b[0minput\u001b[0m\u001b[1;33m)\u001b[0m\u001b[1;33m\u001b[0m\u001b[1;33m\u001b[0m\u001b[0m\n\u001b[0;32m   1062\u001b[0m     \u001b[1;32melse\u001b[0m\u001b[1;33m:\u001b[0m\u001b[1;33m\u001b[0m\u001b[1;33m\u001b[0m\u001b[0m\n\u001b[1;32m-> 1063\u001b[1;33m         \u001b[0mresult\u001b[0m \u001b[1;33m=\u001b[0m \u001b[0mtorch\u001b[0m\u001b[1;33m.\u001b[0m\u001b[0mrelu\u001b[0m\u001b[1;33m(\u001b[0m\u001b[0minput\u001b[0m\u001b[1;33m)\u001b[0m\u001b[1;33m\u001b[0m\u001b[1;33m\u001b[0m\u001b[0m\n\u001b[0m\u001b[0;32m   1064\u001b[0m     \u001b[1;32mreturn\u001b[0m \u001b[0mresult\u001b[0m\u001b[1;33m\u001b[0m\u001b[1;33m\u001b[0m\u001b[0m\n\u001b[0;32m   1065\u001b[0m \u001b[1;33m\u001b[0m\u001b[0m\n",
      "\u001b[1;31mKeyboardInterrupt\u001b[0m: "
     ]
    }
   ],
   "source": [
    "## game_rec = []\n",
    "\n",
    "#net = Net()\n",
    "##net.load_state_dict(torch.load('net_train_selfplay.dat'))\n",
    "\n",
    "\n",
    "#stage = 0\n",
    "\n",
    "while True:\n",
    "\n",
    "    \n",
    "    # Evaluate/Pit\n",
    "    if stage==0:\n",
    "        print('Pitting')\n",
    "        winrate = pit(MultiMCTS(nparallel=5, nsearches=150, net=net), MiniMax(maxdepth=depthminimax), n=10, nrnd=1, verbose=1)\n",
    "        print(winrate)\n",
    "        winrates.append(winrate)\n",
    "        mmdepths.append(depthminimax)\n",
    "        plt.plot(winrates, 'C2')\n",
    "        plt.plot(np.array(mmdepths)/10, 'C0o-', lw=0.5)\n",
    "        plt.show()\n",
    "        if winrate>=0.7 and depthminimax<4:\n",
    "            depthminimax += 1\n",
    "            print(f'Changing minimax depth to {depthminimax}')\n",
    "        stage = 1\n",
    "    \n",
    "    \n",
    "    # Train\n",
    "    if stage==1:\n",
    "        print('Training')\n",
    "        net = train(net, game_rec, game_rec_leg, iterations=300, verbose=1)\n",
    "        torch.save(net.state_dict(), 'net_temp.dat')\n",
    "        stage = 2\n",
    "    \n",
    "    \n",
    "    # Selfplay\n",
    "    if stage==2:\n",
    "        print('Selfplay')\n",
    "        #newgames = selfplay(MultiMCTS(nparallel=5, nsearches=50, net=net), ngames=200, verbose=1)\n",
    "        newgames = selfplay_batched(BatchMCTS(nparallel=20, nsearches=50, net=net), ngames=200, verbose=1)\n",
    "        game_rec = newgames + game_rec\n",
    "        game_rec_leg = game_rec[30000:] + game_rec_leg\n",
    "        game_rec_leg = game_rec_leg[:150000]\n",
    "        game_rec = game_rec[:30000]\n",
    "        print('number of new states:', len(newgames))\n",
    "        print('size of game rec / game rec legacy):', len(game_rec), len(game_rec_leg))\n",
    "        stage=0\n",
    "    "
   ]
  },
  {
   "cell_type": "code",
   "execution_count": 17,
   "metadata": {
    "deletable": false,
    "editable": false,
    "run_control": {
     "frozen": true
    }
   },
   "outputs": [],
   "source": [
    "import pickle as pkl\n",
    "pkl.dump(game_rec, open('selfplay50.dat', 'wb'))"
   ]
  },
  {
   "cell_type": "code",
   "execution_count": null,
   "metadata": {},
   "outputs": [],
   "source": []
  },
  {
   "cell_type": "code",
   "execution_count": null,
   "metadata": {
    "ExecuteTime": {
     "end_time": "2021-03-23T13:21:57.836701Z",
     "start_time": "2021-03-23T13:21:27.680Z"
    },
    "run_control": {
     "marked": true
    }
   },
   "outputs": [],
   "source": [
    "board = filledboard(6, .5)\n",
    "oh = encode_oh(board)\n",
    "_, _, path = net(np2t(oh[None,:]), withpath=True)\n",
    "path = t2np(path[0])[0]\n",
    "path"
   ]
  },
  {
   "cell_type": "code",
   "execution_count": null,
   "metadata": {
    "ExecuteTime": {
     "end_time": "2021-03-23T13:21:57.836701Z",
     "start_time": "2021-03-23T13:21:27.682Z"
    }
   },
   "outputs": [],
   "source": [
    "show_board(board)\n",
    "show_board(path, cmap='viridis')"
   ]
  },
  {
   "cell_type": "code",
   "execution_count": null,
   "metadata": {},
   "outputs": [],
   "source": []
  },
  {
   "cell_type": "code",
   "execution_count": null,
   "metadata": {
    "ExecuteTime": {
     "end_time": "2021-03-23T13:21:57.836701Z",
     "start_time": "2021-03-23T13:21:27.684Z"
    }
   },
   "outputs": [],
   "source": [
    "from hex_mcts import *\n",
    "from hex_mcts_rave import MultiMCTS as MultiMCTSRAVE"
   ]
  },
  {
   "cell_type": "code",
   "execution_count": null,
   "metadata": {
    "ExecuteTime": {
     "end_time": "2021-03-23T13:21:57.836701Z",
     "start_time": "2021-03-23T13:21:27.685Z"
    }
   },
   "outputs": [],
   "source": [
    "ai1 = MultiMCTSRAVE(net='net_selfplay150.dat', nparallel=10, timelimit=.5)\n",
    "ai1.n_rave = 2\n",
    "\n",
    "ai2 = MultiMCTS(net='net_selfplay150.dat', nparallel=10, timelimit=.5)"
   ]
  },
  {
   "cell_type": "code",
   "execution_count": null,
   "metadata": {
    "ExecuteTime": {
     "end_time": "2021-03-23T13:21:57.836701Z",
     "start_time": "2021-03-23T13:21:27.687Z"
    }
   },
   "outputs": [],
   "source": [
    "\n",
    "board = filledboard(6, 1/3)\n",
    "ai2.findmove(board, verbose=1)"
   ]
  },
  {
   "cell_type": "code",
   "execution_count": null,
   "metadata": {
    "ExecuteTime": {
     "end_time": "2021-03-23T13:21:57.844723Z",
     "start_time": "2021-03-23T13:21:27.689Z"
    }
   },
   "outputs": [],
   "source": [
    "pit(ai1, ai2, nrnd=2, verbose=1)"
   ]
  },
  {
   "cell_type": "code",
   "execution_count": null,
   "metadata": {
    "ExecuteTime": {
     "end_time": "2021-03-23T13:21:57.844723Z",
     "start_time": "2021-03-23T13:21:27.689Z"
    }
   },
   "outputs": [],
   "source": [
    "ai1 = MiniMax(maxdepth=3)\n",
    "ai2 = MiniMax(maxdepth=3)\n",
    "\n",
    "ai1.bridges=True\n",
    "\n",
    "pit(ai1, ai2, nrnd=2, verbose=1)"
   ]
  },
  {
   "cell_type": "code",
   "execution_count": null,
   "metadata": {},
   "outputs": [],
   "source": []
  }
 ],
 "metadata": {
  "kernelspec": {
   "display_name": "Python 3",
   "language": "python",
   "name": "python3"
  },
  "language_info": {
   "codemirror_mode": {
    "name": "ipython",
    "version": 3
   },
   "file_extension": ".py",
   "mimetype": "text/x-python",
   "name": "python",
   "nbconvert_exporter": "python",
   "pygments_lexer": "ipython3",
   "version": "3.7.7"
  },
  "varInspector": {
   "cols": {
    "lenName": 16,
    "lenType": 16,
    "lenVar": 40
   },
   "kernels_config": {
    "python": {
     "delete_cmd_postfix": "",
     "delete_cmd_prefix": "del ",
     "library": "var_list.py",
     "varRefreshCmd": "print(var_dic_list())"
    },
    "r": {
     "delete_cmd_postfix": ") ",
     "delete_cmd_prefix": "rm(",
     "library": "var_list.r",
     "varRefreshCmd": "cat(var_dic_list()) "
    }
   },
   "types_to_exclude": [
    "module",
    "function",
    "builtin_function_or_method",
    "instance",
    "_Feature"
   ],
   "window_display": false
  }
 },
 "nbformat": 4,
 "nbformat_minor": 4
}
