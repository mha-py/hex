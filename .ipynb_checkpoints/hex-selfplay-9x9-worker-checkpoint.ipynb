{
 "cells": [
  {
   "cell_type": "code",
   "execution_count": 1,
   "metadata": {
    "ExecuteTime": {
     "end_time": "2021-04-17T21:53:12.094226Z",
     "start_time": "2021-04-17T21:53:11.726492Z"
    }
   },
   "outputs": [],
   "source": [
    "import numpy as np\n",
    "import matplotlib.pyplot as plt\n",
    "import matplotlib.patches as patches\n",
    "%matplotlib inline\n",
    "from tqdm.notebook import tqdm, trange"
   ]
  },
  {
   "cell_type": "code",
   "execution_count": 11,
   "metadata": {
    "ExecuteTime": {
     "end_time": "2021-04-17T21:54:33.852411Z",
     "start_time": "2021-04-17T21:54:33.753750Z"
    }
   },
   "outputs": [
    {
     "name": "stdout",
     "output_type": "stream",
     "text": [
      "The autoreload extension is already loaded. To reload it, use:\n",
      "  %reload_ext autoreload\n"
     ]
    }
   ],
   "source": [
    "%load_ext autoreload\n",
    "%autoreload 2\n",
    "\n",
    "from hex_show import *\n",
    "from hex_pathfinding import *\n",
    "from hex_helpers import *\n",
    "from hex_minmax import *\n",
    "from hex_train_helpers import *\n",
    "from hex_transfer import *"
   ]
  },
  {
   "cell_type": "markdown",
   "metadata": {},
   "source": [
    "### Selfplay"
   ]
  },
  {
   "cell_type": "code",
   "execution_count": 24,
   "metadata": {
    "ExecuteTime": {
     "end_time": "2021-04-17T22:03:00.589960Z",
     "start_time": "2021-04-17T22:03:00.491500Z"
    },
    "run_control": {
     "marked": false
    },
    "scrolled": true
   },
   "outputs": [
    {
     "name": "stdout",
     "output_type": "stream",
     "text": [
      "\n"
     ]
    }
   ],
   "source": [
    "from hex_minmax import *\n",
    "from hex_nnet import *\n",
    "from hex_mcts import *\n",
    "\n",
    "bsize = 9\n",
    "N = 9\n",
    "\n",
    "\n",
    "import pickle\n",
    "\n",
    "boards = None\n",
    "def selfplay_batched(ai, ngames=1000, verbose=0):\n",
    "    \n",
    "    bnum = ai.nparallel\n",
    "    game_records = []\n",
    "    \n",
    "    ai.eta = 0.3\n",
    "\n",
    "    # Iterator with tqdm??\n",
    "    if verbose>=1:\n",
    "        pbar = tqdm(total=ngames)\n",
    "        \n",
    "    def newboard():\n",
    "        part = np.random.rand()*.5\n",
    "        frame = np.random.choice([2,1,1,0,0,0])\n",
    "        while True:\n",
    "            board = filledboard(bsize, part, frame=frame)\n",
    "            board = filledboard(bsize, 2, frame=frame)\n",
    "            if not winner(board):\n",
    "                return board\n",
    "            \n",
    "    global boards\n",
    "    if isinstance(boards, type(None)):\n",
    "        boards = [ newboard() for _ in range(bnum) ]\n",
    "    turns = [ getturn(brd) for brd in boards ]\n",
    "    records = [ [] for _ in range(bnum) ]\n",
    "    \n",
    "    \n",
    "    completedgames = 0\n",
    "    while completedgames < ngames:\n",
    "        \n",
    "        check_new_model(net, 'net_temp.dat')\n",
    "        ai.clear()\n",
    "        moves = ai.findmove(boards)\n",
    "        for b in range(bnum):\n",
    "            turn = turns[b]\n",
    "            x, y = moves[b]\n",
    "            records[b] += [(boards[b].copy(), (x, y), turn)] if turn > 0 else \\\n",
    "                          [(-boards[b].T.copy(), (y, x), turn)]\n",
    "            boards[b][x, y] = turns[b]\n",
    "            turns[b] *= -1\n",
    "            \n",
    "            won = winner(boards[b])\n",
    "            if won:\n",
    "                game_records += [ (b, m, t*won) for (b, m, t) in records[b] ]\n",
    "                completedgames += 1\n",
    "                records[b] = []\n",
    "                boards[b] = newboard()\n",
    "                turns[b] = getturn(boards[b])\n",
    "                if verbose>=1:\n",
    "                    pbar.update(1)\n",
    "    \n",
    "    if verbose>=1:\n",
    "        pbar.close()\n",
    "        \n",
    "    return game_records"
   ]
  },
  {
   "cell_type": "code",
   "execution_count": 128,
   "metadata": {
    "deletable": false,
    "editable": false,
    "run_control": {
     "frozen": true
    },
    "scrolled": false
   },
   "outputs": [
    {
     "data": {
      "application/vnd.jupyter.widget-view+json": {
       "model_id": "865a468c7b9842aaaf3ef09f0cee8ff9",
       "version_major": 2,
       "version_minor": 0
      },
      "text/plain": [
       "HBox(children=(FloatProgress(value=0.0, max=200.0), HTML(value='')))"
      ]
     },
     "metadata": {},
     "output_type": "display_data"
    },
    {
     "name": "stdout",
     "output_type": "stream",
     "text": [
      "\n"
     ]
    }
   ],
   "source": [
    "#newgames = selfplay(MultiMCTS(nparallel=1, nsearches=50, net=net), ngames=200, verbose=1)  # 25 min für 200 games!\n",
    "#newgames = selfplay(MultiMCTS(nparallel=10, nsearches=50, net=net), ngames=200, verbose=1)  #  5 min für 200 games! batching verschlechtert spielperformance ein wenig!\n",
    "#newgames = selfplay_batched(BatchMCTS(nparallel=20, nsearches=50, net=net), ngames=200, verbose=1) # 3 min für 200 games!"
   ]
  },
  {
   "cell_type": "code",
   "execution_count": 28,
   "metadata": {
    "ExecuteTime": {
     "end_time": "2021-04-18T02:22:15.534884Z",
     "start_time": "2021-04-18T02:22:15.074727Z"
    }
   },
   "outputs": [],
   "source": [
    "from hex_net9x9 import NetAdaptive as Net\n",
    "\n",
    "net = Net()"
   ]
  },
  {
   "cell_type": "code",
   "execution_count": null,
   "metadata": {
    "ExecuteTime": {
     "start_time": "2021-04-18T02:22:16.080Z"
    },
    "run_control": {
     "marked": true
    }
   },
   "outputs": [
    {
     "data": {
      "application/vnd.jupyter.widget-view+json": {
       "model_id": "5f3412672c224370adb021f952dcab4c",
       "version_major": 2,
       "version_minor": 0
      },
      "text/plain": [
       "HBox(children=(FloatProgress(value=0.0), HTML(value='')))"
      ]
     },
     "metadata": {},
     "output_type": "display_data"
    },
    {
     "name": "stdout",
     "output_type": "stream",
     "text": [
      "Loaded new model parameters at time 04:22:17!\n",
      "\n",
      "Loaded new model parameters at time 04:24:54!\n",
      "Loaded new model parameters at time 04:24:59!\n",
      "\n",
      "Saved 2710 boards to temp/selfplay1.dat.\n"
     ]
    },
    {
     "data": {
      "application/vnd.jupyter.widget-view+json": {
       "model_id": "7ae5988e97b54f1ea9cdf030cebad2c8",
       "version_major": 2,
       "version_minor": 0
      },
      "text/plain": [
       "HBox(children=(FloatProgress(value=0.0), HTML(value='')))"
      ]
     },
     "metadata": {},
     "output_type": "display_data"
    },
    {
     "name": "stdout",
     "output_type": "stream",
     "text": [
      "Loaded new model parameters at time 04:38:42!\n",
      "\n",
      "Saved 2923 boards to temp/selfplay1.dat.\n"
     ]
    },
    {
     "data": {
      "application/vnd.jupyter.widget-view+json": {
       "model_id": "603de8bbf7994dc9817aa9d3c8349507",
       "version_major": 2,
       "version_minor": 0
      },
      "text/plain": [
       "HBox(children=(FloatProgress(value=0.0), HTML(value='')))"
      ]
     },
     "metadata": {},
     "output_type": "display_data"
    },
    {
     "name": "stdout",
     "output_type": "stream",
     "text": [
      "Loaded new model parameters at time 04:48:02!\n",
      "Loaded new model parameters at time 04:48:54!\n",
      "Loaded new model parameters at time 04:50:09!\n",
      "Loaded new model parameters at time 04:50:59!\n",
      "Loaded new model parameters at time 04:51:47!\n",
      "Loaded new model parameters at time 04:52:38!\n",
      "Loaded new model parameters at time 04:53:30!\n",
      "Loaded new model parameters at time 04:56:29!\n",
      "\n",
      "Saved 2658 boards to temp/selfplay2.dat.\n"
     ]
    },
    {
     "data": {
      "application/vnd.jupyter.widget-view+json": {
       "model_id": "d4f41e81f44e465a911e025b9f974144",
       "version_major": 2,
       "version_minor": 0
      },
      "text/plain": [
       "HBox(children=(FloatProgress(value=0.0), HTML(value='')))"
      ]
     },
     "metadata": {},
     "output_type": "display_data"
    },
    {
     "name": "stdout",
     "output_type": "stream",
     "text": [
      "Loaded new model parameters at time 05:01:29!\n",
      "Loaded new model parameters at time 05:07:00!\n",
      "\n",
      "Saved 2783 boards to temp/selfplay0.dat.\n"
     ]
    },
    {
     "data": {
      "application/vnd.jupyter.widget-view+json": {
       "model_id": "2c8710b308b44d67976887e63c153c80",
       "version_major": 2,
       "version_minor": 0
      },
      "text/plain": [
       "HBox(children=(FloatProgress(value=0.0), HTML(value='')))"
      ]
     },
     "metadata": {},
     "output_type": "display_data"
    },
    {
     "name": "stdout",
     "output_type": "stream",
     "text": [
      "\n",
      "Saved 2811 boards to temp/selfplay1.dat.\n"
     ]
    },
    {
     "data": {
      "application/vnd.jupyter.widget-view+json": {
       "model_id": "53e7247b083f4d7a9bc29f4bbcc1005a",
       "version_major": 2,
       "version_minor": 0
      },
      "text/plain": [
       "HBox(children=(FloatProgress(value=0.0), HTML(value='')))"
      ]
     },
     "metadata": {},
     "output_type": "display_data"
    },
    {
     "name": "stdout",
     "output_type": "stream",
     "text": [
      "Loaded new model parameters at time 05:19:58!\n",
      "\n",
      "Saved 2820 boards to temp/selfplay3.dat.\n"
     ]
    },
    {
     "data": {
      "application/vnd.jupyter.widget-view+json": {
       "model_id": "7d762b0cfebe4b1e9547e937ed900026",
       "version_major": 2,
       "version_minor": 0
      },
      "text/plain": [
       "HBox(children=(FloatProgress(value=0.0), HTML(value='')))"
      ]
     },
     "metadata": {},
     "output_type": "display_data"
    },
    {
     "name": "stdout",
     "output_type": "stream",
     "text": [
      "Loaded new model parameters at time 05:32:33!\n",
      "\n",
      "Saved 2611 boards to temp/selfplay0.dat.\n"
     ]
    },
    {
     "data": {
      "application/vnd.jupyter.widget-view+json": {
       "model_id": "cd0224b2b0564af0a5d95a9fb713af65",
       "version_major": 2,
       "version_minor": 0
      },
      "text/plain": [
       "HBox(children=(FloatProgress(value=0.0), HTML(value='')))"
      ]
     },
     "metadata": {},
     "output_type": "display_data"
    },
    {
     "name": "stdout",
     "output_type": "stream",
     "text": [
      "Loaded new model parameters at time 05:44:35!\n",
      "\n",
      "Saved 2784 boards to temp/selfplay1.dat.\n"
     ]
    },
    {
     "data": {
      "application/vnd.jupyter.widget-view+json": {
       "model_id": "534a6f5436684c2d8d420d234e2f79a6",
       "version_major": 2,
       "version_minor": 0
      },
      "text/plain": [
       "HBox(children=(FloatProgress(value=0.0), HTML(value='')))"
      ]
     },
     "metadata": {},
     "output_type": "display_data"
    },
    {
     "name": "stdout",
     "output_type": "stream",
     "text": [
      "Loaded new model parameters at time 05:57:21!\n",
      "\n",
      "Saved 2622 boards to temp/selfplay1.dat.\n"
     ]
    },
    {
     "data": {
      "application/vnd.jupyter.widget-view+json": {
       "model_id": "7d8d76dc2ee94aecaa3725b465335bf6",
       "version_major": 2,
       "version_minor": 0
      },
      "text/plain": [
       "HBox(children=(FloatProgress(value=0.0), HTML(value='')))"
      ]
     },
     "metadata": {},
     "output_type": "display_data"
    },
    {
     "name": "stdout",
     "output_type": "stream",
     "text": [
      "Loaded new model parameters at time 06:09:07!\n",
      "\n",
      "Saved 2644 boards to temp/selfplay1.dat.\n"
     ]
    },
    {
     "data": {
      "application/vnd.jupyter.widget-view+json": {
       "model_id": "69debdea8dbf45a587dde3684d373481",
       "version_major": 2,
       "version_minor": 0
      },
      "text/plain": [
       "HBox(children=(FloatProgress(value=0.0), HTML(value='')))"
      ]
     },
     "metadata": {},
     "output_type": "display_data"
    },
    {
     "name": "stdout",
     "output_type": "stream",
     "text": [
      "Loaded new model parameters at time 06:20:41!\n",
      "\n",
      "Saved 2460 boards to temp/selfplay1.dat.\n"
     ]
    },
    {
     "data": {
      "application/vnd.jupyter.widget-view+json": {
       "model_id": "39faf59cdcce436db61694dec0156014",
       "version_major": 2,
       "version_minor": 0
      },
      "text/plain": [
       "HBox(children=(FloatProgress(value=0.0), HTML(value='')))"
      ]
     },
     "metadata": {},
     "output_type": "display_data"
    },
    {
     "name": "stdout",
     "output_type": "stream",
     "text": [
      "Loaded new model parameters at time 06:32:11!\n",
      "\n",
      "Saved 2681 boards to temp/selfplay1.dat.\n"
     ]
    },
    {
     "data": {
      "application/vnd.jupyter.widget-view+json": {
       "model_id": "fff5d74052434b9fb7c733372b8b7d99",
       "version_major": 2,
       "version_minor": 0
      },
      "text/plain": [
       "HBox(children=(FloatProgress(value=0.0), HTML(value='')))"
      ]
     },
     "metadata": {},
     "output_type": "display_data"
    },
    {
     "name": "stdout",
     "output_type": "stream",
     "text": [
      "Loaded new model parameters at time 06:43:29!\n",
      "\n",
      "Saved 2796 boards to temp/selfplay1.dat.\n"
     ]
    },
    {
     "data": {
      "application/vnd.jupyter.widget-view+json": {
       "model_id": "73e78107ad464e0082ed2c5505462689",
       "version_major": 2,
       "version_minor": 0
      },
      "text/plain": [
       "HBox(children=(FloatProgress(value=0.0), HTML(value='')))"
      ]
     },
     "metadata": {},
     "output_type": "display_data"
    },
    {
     "name": "stdout",
     "output_type": "stream",
     "text": [
      "\n",
      "Saved 2833 boards to temp/selfplay0.dat.\n"
     ]
    },
    {
     "data": {
      "application/vnd.jupyter.widget-view+json": {
       "model_id": "74c632f16c864bc5b1cdf7eea3676c34",
       "version_major": 2,
       "version_minor": 0
      },
      "text/plain": [
       "HBox(children=(FloatProgress(value=0.0), HTML(value='')))"
      ]
     },
     "metadata": {},
     "output_type": "display_data"
    },
    {
     "name": "stdout",
     "output_type": "stream",
     "text": [
      "Loaded new model parameters at time 06:55:31!\n",
      "\n",
      "Saved 2597 boards to temp/selfplay0.dat.\n"
     ]
    },
    {
     "data": {
      "application/vnd.jupyter.widget-view+json": {
       "model_id": "4ea74cf6cb86443a960873adf5b6743d",
       "version_major": 2,
       "version_minor": 0
      },
      "text/plain": [
       "HBox(children=(FloatProgress(value=0.0), HTML(value='')))"
      ]
     },
     "metadata": {},
     "output_type": "display_data"
    },
    {
     "name": "stdout",
     "output_type": "stream",
     "text": [
      "Loaded new model parameters at time 07:07:12!\n",
      "\n",
      "Saved 2633 boards to temp/selfplay2.dat.\n"
     ]
    },
    {
     "data": {
      "application/vnd.jupyter.widget-view+json": {
       "model_id": "7d3d2ab1b68e44bd914531e00559356a",
       "version_major": 2,
       "version_minor": 0
      },
      "text/plain": [
       "HBox(children=(FloatProgress(value=0.0), HTML(value='')))"
      ]
     },
     "metadata": {},
     "output_type": "display_data"
    },
    {
     "name": "stdout",
     "output_type": "stream",
     "text": [
      "Loaded new model parameters at time 07:19:06!\n",
      "\n",
      "Saved 2754 boards to temp/selfplay1.dat.\n"
     ]
    },
    {
     "data": {
      "application/vnd.jupyter.widget-view+json": {
       "model_id": "29704f22982d4287955278691ea77d78",
       "version_major": 2,
       "version_minor": 0
      },
      "text/plain": [
       "HBox(children=(FloatProgress(value=0.0), HTML(value='')))"
      ]
     },
     "metadata": {},
     "output_type": "display_data"
    },
    {
     "name": "stdout",
     "output_type": "stream",
     "text": [
      "Loaded new model parameters at time 07:29:59!\n",
      "\n",
      "Saved 2495 boards to temp/selfplay1.dat.\n"
     ]
    },
    {
     "data": {
      "application/vnd.jupyter.widget-view+json": {
       "model_id": "9d389ad93f994988bf2a2af37a73847c",
       "version_major": 2,
       "version_minor": 0
      },
      "text/plain": [
       "HBox(children=(FloatProgress(value=0.0), HTML(value='')))"
      ]
     },
     "metadata": {},
     "output_type": "display_data"
    },
    {
     "name": "stdout",
     "output_type": "stream",
     "text": [
      "Loaded new model parameters at time 07:42:42!\n",
      "\n",
      "Saved 2791 boards to temp/selfplay1.dat.\n"
     ]
    },
    {
     "data": {
      "application/vnd.jupyter.widget-view+json": {
       "model_id": "ac95a9ecb4744db6b1997bb4ad583fbc",
       "version_major": 2,
       "version_minor": 0
      },
      "text/plain": [
       "HBox(children=(FloatProgress(value=0.0), HTML(value='')))"
      ]
     },
     "metadata": {},
     "output_type": "display_data"
    },
    {
     "name": "stdout",
     "output_type": "stream",
     "text": [
      "Loaded new model parameters at time 07:52:30!\n",
      "\n",
      "Saved 2645 boards to temp/selfplay1.dat.\n"
     ]
    },
    {
     "data": {
      "application/vnd.jupyter.widget-view+json": {
       "model_id": "85615621a0ab43598424ccf1673f0ce5",
       "version_major": 2,
       "version_minor": 0
      },
      "text/plain": [
       "HBox(children=(FloatProgress(value=0.0), HTML(value='')))"
      ]
     },
     "metadata": {},
     "output_type": "display_data"
    },
    {
     "name": "stdout",
     "output_type": "stream",
     "text": [
      "Loaded new model parameters at time 08:04:21!\n",
      "\n",
      "Saved 2490 boards to temp/selfplay1.dat.\n"
     ]
    },
    {
     "data": {
      "application/vnd.jupyter.widget-view+json": {
       "model_id": "b1e00ac042084522ab2bc86a2c8c527c",
       "version_major": 2,
       "version_minor": 0
      },
      "text/plain": [
       "HBox(children=(FloatProgress(value=0.0), HTML(value='')))"
      ]
     },
     "metadata": {},
     "output_type": "display_data"
    },
    {
     "name": "stdout",
     "output_type": "stream",
     "text": [
      "Loaded new model parameters at time 08:15:55!\n",
      "\n",
      "Saved 2383 boards to temp/selfplay1.dat.\n"
     ]
    },
    {
     "data": {
      "application/vnd.jupyter.widget-view+json": {
       "model_id": "82f7583506404e26a7e432fed01314b2",
       "version_major": 2,
       "version_minor": 0
      },
      "text/plain": [
       "HBox(children=(FloatProgress(value=0.0), HTML(value='')))"
      ]
     },
     "metadata": {},
     "output_type": "display_data"
    },
    {
     "name": "stdout",
     "output_type": "stream",
     "text": [
      "Loaded new model parameters at time 08:25:37!\n",
      "\n",
      "Saved 2752 boards to temp/selfplay1.dat.\n"
     ]
    },
    {
     "data": {
      "application/vnd.jupyter.widget-view+json": {
       "model_id": "1a794d2446854ae5962f22b829da1828",
       "version_major": 2,
       "version_minor": 0
      },
      "text/plain": [
       "HBox(children=(FloatProgress(value=0.0), HTML(value='')))"
      ]
     },
     "metadata": {},
     "output_type": "display_data"
    },
    {
     "name": "stdout",
     "output_type": "stream",
     "text": [
      "Loaded new model parameters at time 08:36:44!\n",
      "\n",
      "Saved 2465 boards to temp/selfplay1.dat.\n"
     ]
    },
    {
     "data": {
      "application/vnd.jupyter.widget-view+json": {
       "model_id": "d2d6221afc8d461396524ecc6b74d03b",
       "version_major": 2,
       "version_minor": 0
      },
      "text/plain": [
       "HBox(children=(FloatProgress(value=0.0), HTML(value='')))"
      ]
     },
     "metadata": {},
     "output_type": "display_data"
    },
    {
     "name": "stdout",
     "output_type": "stream",
     "text": [
      "Loaded new model parameters at time 08:46:28!\n",
      "\n",
      "Saved 2423 boards to temp/selfplay1.dat.\n"
     ]
    },
    {
     "data": {
      "application/vnd.jupyter.widget-view+json": {
       "model_id": "f8e05d6c085f4b4dbfc1ac72ebe16487",
       "version_major": 2,
       "version_minor": 0
      },
      "text/plain": [
       "HBox(children=(FloatProgress(value=0.0), HTML(value='')))"
      ]
     },
     "metadata": {},
     "output_type": "display_data"
    },
    {
     "name": "stdout",
     "output_type": "stream",
     "text": [
      "Loaded new model parameters at time 08:57:10!\n",
      "\n",
      "Saved 2483 boards to temp/selfplay1.dat.\n"
     ]
    },
    {
     "data": {
      "application/vnd.jupyter.widget-view+json": {
       "model_id": "4e8c86d050a04310aa558d549e2a1725",
       "version_major": 2,
       "version_minor": 0
      },
      "text/plain": [
       "HBox(children=(FloatProgress(value=0.0), HTML(value='')))"
      ]
     },
     "metadata": {},
     "output_type": "display_data"
    },
    {
     "name": "stdout",
     "output_type": "stream",
     "text": [
      "Loaded new model parameters at time 09:07:17!\n",
      "\n",
      "Saved 2567 boards to temp/selfplay1.dat.\n"
     ]
    },
    {
     "data": {
      "application/vnd.jupyter.widget-view+json": {
       "model_id": "17792f98b00f4ec7a7c8fecc0b4f1983",
       "version_major": 2,
       "version_minor": 0
      },
      "text/plain": [
       "HBox(children=(FloatProgress(value=0.0), HTML(value='')))"
      ]
     },
     "metadata": {},
     "output_type": "display_data"
    },
    {
     "name": "stdout",
     "output_type": "stream",
     "text": [
      "Loaded new model parameters at time 09:19:02!\n",
      "\n",
      "Saved 2673 boards to temp/selfplay1.dat.\n"
     ]
    },
    {
     "data": {
      "application/vnd.jupyter.widget-view+json": {
       "model_id": "978ef95564b549288c7852eba87c59d2",
       "version_major": 2,
       "version_minor": 0
      },
      "text/plain": [
       "HBox(children=(FloatProgress(value=0.0), HTML(value='')))"
      ]
     },
     "metadata": {},
     "output_type": "display_data"
    },
    {
     "name": "stdout",
     "output_type": "stream",
     "text": [
      "Loaded new model parameters at time 09:30:16!\n",
      "\n",
      "Saved 2709 boards to temp/selfplay1.dat.\n"
     ]
    },
    {
     "data": {
      "application/vnd.jupyter.widget-view+json": {
       "model_id": "701cb7cef5734714ae8c7f50e8f30ec1",
       "version_major": 2,
       "version_minor": 0
      },
      "text/plain": [
       "HBox(children=(FloatProgress(value=0.0), HTML(value='')))"
      ]
     },
     "metadata": {},
     "output_type": "display_data"
    },
    {
     "name": "stdout",
     "output_type": "stream",
     "text": [
      "Loaded new model parameters at time 09:41:04!\n",
      "\n",
      "Saved 2488 boards to temp/selfplay1.dat.\n"
     ]
    },
    {
     "data": {
      "application/vnd.jupyter.widget-view+json": {
       "model_id": "430f594d1e9a45c994d699b4530ba494",
       "version_major": 2,
       "version_minor": 0
      },
      "text/plain": [
       "HBox(children=(FloatProgress(value=0.0), HTML(value='')))"
      ]
     },
     "metadata": {},
     "output_type": "display_data"
    },
    {
     "name": "stdout",
     "output_type": "stream",
     "text": [
      "Loaded new model parameters at time 09:52:56!\n",
      "\n",
      "Saved 2256 boards to temp/selfplay1.dat.\n"
     ]
    },
    {
     "data": {
      "application/vnd.jupyter.widget-view+json": {
       "model_id": "f58bb33bdf0246f5ba3e43b4fca26286",
       "version_major": 2,
       "version_minor": 0
      },
      "text/plain": [
       "HBox(children=(FloatProgress(value=0.0), HTML(value='')))"
      ]
     },
     "metadata": {},
     "output_type": "display_data"
    },
    {
     "name": "stdout",
     "output_type": "stream",
     "text": [
      "\n",
      "Saved 2435 boards to temp/selfplay0.dat.\n"
     ]
    },
    {
     "data": {
      "application/vnd.jupyter.widget-view+json": {
       "model_id": "153f8c6325fb4466aa5d45bf003f20a9",
       "version_major": 2,
       "version_minor": 0
      },
      "text/plain": [
       "HBox(children=(FloatProgress(value=0.0), HTML(value='')))"
      ]
     },
     "metadata": {},
     "output_type": "display_data"
    },
    {
     "name": "stdout",
     "output_type": "stream",
     "text": [
      "Loaded new model parameters at time 10:05:26!\n",
      "\n",
      "Saved 2516 boards to temp/selfplay2.dat.\n"
     ]
    },
    {
     "data": {
      "application/vnd.jupyter.widget-view+json": {
       "model_id": "7fa639e487434d2f9f1e741684e161db",
       "version_major": 2,
       "version_minor": 0
      },
      "text/plain": [
       "HBox(children=(FloatProgress(value=0.0), HTML(value='')))"
      ]
     },
     "metadata": {},
     "output_type": "display_data"
    },
    {
     "name": "stdout",
     "output_type": "stream",
     "text": [
      "Couldnt load new model parameters at time 10:17:18!\n",
      "Loaded new model parameters at time 10:17:22!\n",
      "\n",
      "Saved 2542 boards to temp/selfplay1.dat.\n"
     ]
    },
    {
     "data": {
      "application/vnd.jupyter.widget-view+json": {
       "model_id": "4483e854e9574ee0a9715390a8825c7f",
       "version_major": 2,
       "version_minor": 0
      },
      "text/plain": [
       "HBox(children=(FloatProgress(value=0.0), HTML(value='')))"
      ]
     },
     "metadata": {},
     "output_type": "display_data"
    },
    {
     "name": "stdout",
     "output_type": "stream",
     "text": [
      "Loaded new model parameters at time 10:29:14!\n",
      "\n",
      "Saved 2277 boards to temp/selfplay1.dat.\n"
     ]
    },
    {
     "data": {
      "application/vnd.jupyter.widget-view+json": {
       "model_id": "f6c81e5ea8b54186bf5726b5159d320c",
       "version_major": 2,
       "version_minor": 0
      },
      "text/plain": [
       "HBox(children=(FloatProgress(value=0.0), HTML(value='')))"
      ]
     },
     "metadata": {},
     "output_type": "display_data"
    },
    {
     "name": "stdout",
     "output_type": "stream",
     "text": [
      "Loaded new model parameters at time 10:41:11!\n",
      "\n",
      "Saved 2521 boards to temp/selfplay0.dat.\n"
     ]
    },
    {
     "data": {
      "application/vnd.jupyter.widget-view+json": {
       "model_id": "50e7713911f4414d91b1975d90053de2",
       "version_major": 2,
       "version_minor": 0
      },
      "text/plain": [
       "HBox(children=(FloatProgress(value=0.0), HTML(value='')))"
      ]
     },
     "metadata": {},
     "output_type": "display_data"
    },
    {
     "name": "stdout",
     "output_type": "stream",
     "text": [
      "\n",
      "Saved 2337 boards to temp/selfplay0.dat.\n"
     ]
    },
    {
     "data": {
      "application/vnd.jupyter.widget-view+json": {
       "model_id": "2542272b5a4e4a13b0324371cd093608",
       "version_major": 2,
       "version_minor": 0
      },
      "text/plain": [
       "HBox(children=(FloatProgress(value=0.0), HTML(value='')))"
      ]
     },
     "metadata": {},
     "output_type": "display_data"
    },
    {
     "name": "stdout",
     "output_type": "stream",
     "text": [
      "Loaded new model parameters at time 10:52:20!\n",
      "\n",
      "Saved 2493 boards to temp/selfplay0.dat.\n"
     ]
    },
    {
     "data": {
      "application/vnd.jupyter.widget-view+json": {
       "model_id": "dd77c9b8b4274848821eb0b5b4ed4f09",
       "version_major": 2,
       "version_minor": 0
      },
      "text/plain": [
       "HBox(children=(FloatProgress(value=0.0), HTML(value='')))"
      ]
     },
     "metadata": {},
     "output_type": "display_data"
    },
    {
     "name": "stdout",
     "output_type": "stream",
     "text": [
      "Loaded new model parameters at time 11:04:25!\n",
      "\n",
      "Saved 2663 boards to temp/selfplay2.dat.\n"
     ]
    },
    {
     "data": {
      "application/vnd.jupyter.widget-view+json": {
       "model_id": "1ea4c8143857427eb288309ffb7771c3",
       "version_major": 2,
       "version_minor": 0
      },
      "text/plain": [
       "HBox(children=(FloatProgress(value=0.0), HTML(value='')))"
      ]
     },
     "metadata": {},
     "output_type": "display_data"
    },
    {
     "name": "stdout",
     "output_type": "stream",
     "text": [
      "Loaded new model parameters at time 11:16:44!\n",
      "\n",
      "Saved 2246 boards to temp/selfplay1.dat.\n"
     ]
    },
    {
     "data": {
      "application/vnd.jupyter.widget-view+json": {
       "model_id": "0aa8181300c74575836228d10d591c4c",
       "version_major": 2,
       "version_minor": 0
      },
      "text/plain": [
       "HBox(children=(FloatProgress(value=0.0), HTML(value='')))"
      ]
     },
     "metadata": {},
     "output_type": "display_data"
    },
    {
     "name": "stdout",
     "output_type": "stream",
     "text": [
      "Loaded new model parameters at time 11:29:16!\n",
      "\n",
      "Saved 2288 boards to temp/selfplay1.dat.\n"
     ]
    },
    {
     "data": {
      "application/vnd.jupyter.widget-view+json": {
       "model_id": "b28e248528394958bda7a1c26a9864ae",
       "version_major": 2,
       "version_minor": 0
      },
      "text/plain": [
       "HBox(children=(FloatProgress(value=0.0), HTML(value='')))"
      ]
     },
     "metadata": {},
     "output_type": "display_data"
    },
    {
     "name": "stdout",
     "output_type": "stream",
     "text": [
      "\n",
      "Saved 2193 boards to temp/selfplay1.dat.\n"
     ]
    },
    {
     "data": {
      "application/vnd.jupyter.widget-view+json": {
       "model_id": "8ca1490676514ec1a3fafaf580b56d31",
       "version_major": 2,
       "version_minor": 0
      },
      "text/plain": [
       "HBox(children=(FloatProgress(value=0.0), HTML(value='')))"
      ]
     },
     "metadata": {},
     "output_type": "display_data"
    },
    {
     "name": "stdout",
     "output_type": "stream",
     "text": [
      "Loaded new model parameters at time 11:41:05!\n",
      "\n",
      "Saved 2374 boards to temp/selfplay3.dat.\n"
     ]
    },
    {
     "data": {
      "application/vnd.jupyter.widget-view+json": {
       "model_id": "ad0758a99e344f52a3eca6b2f1adc1b9",
       "version_major": 2,
       "version_minor": 0
      },
      "text/plain": [
       "HBox(children=(FloatProgress(value=0.0), HTML(value='')))"
      ]
     },
     "metadata": {},
     "output_type": "display_data"
    },
    {
     "name": "stdout",
     "output_type": "stream",
     "text": [
      "Loaded new model parameters at time 11:52:46!\n"
     ]
    }
   ],
   "source": [
    "\n",
    "while True:\n",
    "\n",
    "    game_records = selfplay_batched(BatchMCTS(nparallel=20, nsearches=150, net=net), ngames=100, verbose=1)\n",
    "    save_selfplay(game_records)"
   ]
  },
  {
   "cell_type": "code",
   "execution_count": null,
   "metadata": {},
   "outputs": [],
   "source": []
  }
 ],
 "metadata": {
  "kernelspec": {
   "display_name": "Python 3",
   "language": "python",
   "name": "python3"
  },
  "language_info": {
   "codemirror_mode": {
    "name": "ipython",
    "version": 3
   },
   "file_extension": ".py",
   "mimetype": "text/x-python",
   "name": "python",
   "nbconvert_exporter": "python",
   "pygments_lexer": "ipython3",
   "version": "3.7.7"
  },
  "varInspector": {
   "cols": {
    "lenName": 16,
    "lenType": 16,
    "lenVar": 40
   },
   "kernels_config": {
    "python": {
     "delete_cmd_postfix": "",
     "delete_cmd_prefix": "del ",
     "library": "var_list.py",
     "varRefreshCmd": "print(var_dic_list())"
    },
    "r": {
     "delete_cmd_postfix": ") ",
     "delete_cmd_prefix": "rm(",
     "library": "var_list.r",
     "varRefreshCmd": "cat(var_dic_list()) "
    }
   },
   "types_to_exclude": [
    "module",
    "function",
    "builtin_function_or_method",
    "instance",
    "_Feature"
   ],
   "window_display": false
  }
 },
 "nbformat": 4,
 "nbformat_minor": 4
}
