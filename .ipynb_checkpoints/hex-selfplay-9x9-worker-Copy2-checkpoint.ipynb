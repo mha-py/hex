{
 "cells": [
  {
   "cell_type": "code",
   "execution_count": 1,
   "metadata": {
    "ExecuteTime": {
     "end_time": "2021-04-19T22:24:14.268542Z",
     "start_time": "2021-04-19T22:24:13.895260Z"
    }
   },
   "outputs": [],
   "source": [
    "import numpy as np\n",
    "import matplotlib.pyplot as plt\n",
    "import matplotlib.patches as patches\n",
    "%matplotlib inline\n",
    "from tqdm.notebook import tqdm, trange"
   ]
  },
  {
   "cell_type": "code",
   "execution_count": 2,
   "metadata": {
    "ExecuteTime": {
     "end_time": "2021-04-19T22:24:16.087817Z",
     "start_time": "2021-04-19T22:24:14.268542Z"
    }
   },
   "outputs": [],
   "source": [
    "%load_ext autoreload\n",
    "%autoreload 2\n",
    "\n",
    "from hex_show import *\n",
    "from hex_pathfinding import *\n",
    "from hex_helpers import *\n",
    "from hex_minmax import *\n",
    "from hex_train_helpers import *\n",
    "from hex_transfer import *"
   ]
  },
  {
   "cell_type": "markdown",
   "metadata": {},
   "source": [
    "### Selfplay"
   ]
  },
  {
   "cell_type": "code",
   "execution_count": 3,
   "metadata": {
    "ExecuteTime": {
     "end_time": "2021-04-19T22:24:16.225837Z",
     "start_time": "2021-04-19T22:24:16.087817Z"
    },
    "run_control": {
     "marked": false
    },
    "scrolled": true
   },
   "outputs": [],
   "source": [
    "from hex_minmax import *\n",
    "from hex_nnet import *\n",
    "from hex_mcts import *\n",
    "\n",
    "bsize = 9\n",
    "N = 9\n",
    "\n",
    "\n",
    "import pickle\n",
    "\n",
    "boards = None\n",
    "def selfplay_batched(ai, ngames=1000, verbose=0):\n",
    "    \n",
    "    bnum = ai.nparallel\n",
    "    game_records = []\n",
    "    \n",
    "    ai.eta = 0.3\n",
    "\n",
    "    # Iterator with tqdm??\n",
    "    if verbose>=1:\n",
    "        pbar = tqdm(total=ngames)\n",
    "        \n",
    "    def newboard():\n",
    "        part = np.random.rand()*.5\n",
    "        frame = 0\n",
    "        while True:\n",
    "            board = filledboard(bsize, part, frame=frame)\n",
    "            board = filledboard(bsize, 2, frame=frame)\n",
    "            if not winner(board):\n",
    "                return board\n",
    "            \n",
    "    global boards\n",
    "    if isinstance(boards, type(None)):\n",
    "        boards = [ newboard() for _ in range(bnum) ]\n",
    "    turns = [ getturn(brd) for brd in boards ]\n",
    "    records = [ [] for _ in range(bnum) ]\n",
    "    \n",
    "    \n",
    "    completedgames = 0\n",
    "    while completedgames < ngames:\n",
    "        \n",
    "        check_new_model(net, 'net_temp.dat')\n",
    "        ai.clear()\n",
    "        moves = ai.findmove(boards, tau=None)\n",
    "        for b in range(bnum):\n",
    "            turn = turns[b]\n",
    "            x, y = moves[b]\n",
    "            records[b] += [(boards[b].copy(), (x, y), turn)] if turn > 0 else \\\n",
    "                          [(-boards[b].T.copy(), (y, x), turn)]\n",
    "            boards[b][x, y] = turns[b]\n",
    "            turns[b] *= -1\n",
    "            \n",
    "            won = winner(boards[b])\n",
    "            if won:\n",
    "                game_records += [ (b, m, t*won) for (b, m, t) in records[b] ]\n",
    "                completedgames += 1\n",
    "                records[b] = []\n",
    "                boards[b] = newboard()\n",
    "                turns[b] = getturn(boards[b])\n",
    "                if verbose>=1:\n",
    "                    pbar.update(1)\n",
    "    \n",
    "    if verbose>=1:\n",
    "        pbar.close()\n",
    "        \n",
    "    return game_records"
   ]
  },
  {
   "cell_type": "code",
   "execution_count": 128,
   "metadata": {
    "deletable": false,
    "editable": false,
    "run_control": {
     "frozen": true
    },
    "scrolled": false
   },
   "outputs": [
    {
     "data": {
      "application/vnd.jupyter.widget-view+json": {
       "model_id": "865a468c7b9842aaaf3ef09f0cee8ff9",
       "version_major": 2,
       "version_minor": 0
      },
      "text/plain": [
       "HBox(children=(FloatProgress(value=0.0, max=200.0), HTML(value='')))"
      ]
     },
     "metadata": {},
     "output_type": "display_data"
    },
    {
     "name": "stdout",
     "output_type": "stream",
     "text": [
      "\n"
     ]
    }
   ],
   "source": [
    "#newgames = selfplay(MultiMCTS(nparallel=1, nsearches=50, net=net), ngames=200, verbose=1)  # 25 min für 200 games!\n",
    "#newgames = selfplay(MultiMCTS(nparallel=10, nsearches=50, net=net), ngames=200, verbose=1)  #  5 min für 200 games! batching verschlechtert spielperformance ein wenig!\n",
    "#newgames = selfplay_batched(BatchMCTS(nparallel=20, nsearches=50, net=net), ngames=200, verbose=1) # 3 min für 200 games!"
   ]
  },
  {
   "cell_type": "code",
   "execution_count": 4,
   "metadata": {
    "ExecuteTime": {
     "end_time": "2021-04-19T22:24:18.130787Z",
     "start_time": "2021-04-19T22:24:16.225837Z"
    }
   },
   "outputs": [],
   "source": [
    "from hex_net9x9 import NetAdaptive as Net\n",
    "\n",
    "net = Net()"
   ]
  },
  {
   "cell_type": "code",
   "execution_count": null,
   "metadata": {
    "ExecuteTime": {
     "start_time": "2021-04-19T22:24:13.915Z"
    },
    "run_control": {
     "marked": true
    }
   },
   "outputs": [
    {
     "data": {
      "application/vnd.jupyter.widget-view+json": {
       "model_id": "88f0957590c24b5da5e54172ca689bdc",
       "version_major": 2,
       "version_minor": 0
      },
      "text/plain": [
       "HBox(children=(FloatProgress(value=0.0), HTML(value='')))"
      ]
     },
     "metadata": {},
     "output_type": "display_data"
    },
    {
     "name": "stdout",
     "output_type": "stream",
     "text": [
      "Loaded new model parameters at time 00:24:18!\n"
     ]
    }
   ],
   "source": [
    "\n",
    "while True:\n",
    "\n",
    "    game_records = selfplay_batched(BatchMCTS(nparallel=50, nsearches=300, net=net, params={'useQ':True,'cpuct':1}), ngames=100, verbose=1)\n",
    "    save_selfplay(game_records)"
   ]
  },
  {
   "cell_type": "code",
   "execution_count": null,
   "metadata": {},
   "outputs": [],
   "source": []
  }
 ],
 "metadata": {
  "kernelspec": {
   "display_name": "Python 3",
   "language": "python",
   "name": "python3"
  },
  "language_info": {
   "codemirror_mode": {
    "name": "ipython",
    "version": 3
   },
   "file_extension": ".py",
   "mimetype": "text/x-python",
   "name": "python",
   "nbconvert_exporter": "python",
   "pygments_lexer": "ipython3",
   "version": "3.7.7"
  },
  "varInspector": {
   "cols": {
    "lenName": 16,
    "lenType": 16,
    "lenVar": 40
   },
   "kernels_config": {
    "python": {
     "delete_cmd_postfix": "",
     "delete_cmd_prefix": "del ",
     "library": "var_list.py",
     "varRefreshCmd": "print(var_dic_list())"
    },
    "r": {
     "delete_cmd_postfix": ") ",
     "delete_cmd_prefix": "rm(",
     "library": "var_list.r",
     "varRefreshCmd": "cat(var_dic_list()) "
    }
   },
   "types_to_exclude": [
    "module",
    "function",
    "builtin_function_or_method",
    "instance",
    "_Feature"
   ],
   "window_display": false
  }
 },
 "nbformat": 4,
 "nbformat_minor": 4
}
