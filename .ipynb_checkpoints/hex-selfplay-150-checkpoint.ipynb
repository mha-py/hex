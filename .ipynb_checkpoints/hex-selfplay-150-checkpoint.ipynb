{
 "cells": [
  {
   "cell_type": "code",
   "execution_count": 2,
   "metadata": {
    "ExecuteTime": {
     "end_time": "2021-03-19T13:24:38.038228Z",
     "start_time": "2021-03-19T13:24:37.684065Z"
    }
   },
   "outputs": [],
   "source": [
    "import numpy as np\n",
    "import matplotlib.pyplot as plt\n",
    "import matplotlib.patches as patches\n",
    "%matplotlib inline\n",
    "from tqdm.notebook import tqdm, trange"
   ]
  },
  {
   "cell_type": "code",
   "execution_count": 3,
   "metadata": {
    "ExecuteTime": {
     "end_time": "2021-03-19T13:24:40.185900Z",
     "start_time": "2021-03-19T13:24:38.038228Z"
    }
   },
   "outputs": [
    {
     "name": "stdout",
     "output_type": "stream",
     "text": [
      "Assuming N=6, num=160149, nval=1500\n",
      "GPU=True\n"
     ]
    }
   ],
   "source": [
    "%load_ext autoreload\n",
    "%autoreload 2\n",
    "\n",
    "from hex_show import *\n",
    "from hex_pathfinding import *\n",
    "from hex_helpers import *\n",
    "from hex_minmax import *\n",
    "from hex_train_helpers import *"
   ]
  },
  {
   "cell_type": "markdown",
   "metadata": {},
   "source": [
    "## Initialisierung"
   ]
  },
  {
   "cell_type": "code",
   "execution_count": 4,
   "metadata": {
    "ExecuteTime": {
     "end_time": "2021-03-19T13:24:40.270534Z",
     "start_time": "2021-03-19T13:24:40.185900Z"
    }
   },
   "outputs": [],
   "source": [
    "\n",
    "class RandomPlayer:\n",
    "    @staticmethod\n",
    "    def findmove(board):\n",
    "        while True:\n",
    "            k = np.random.randint(N**2)\n",
    "            if board[divmod(k,N)]==0:\n",
    "                return divmod(k,N)"
   ]
  },
  {
   "cell_type": "markdown",
   "metadata": {},
   "source": [
    "## Pitting"
   ]
  },
  {
   "cell_type": "code",
   "execution_count": 5,
   "metadata": {
    "ExecuteTime": {
     "end_time": "2021-03-19T13:24:40.370795Z",
     "start_time": "2021-03-19T13:24:40.270534Z"
    }
   },
   "outputs": [],
   "source": [
    "# Funktion für das pitten zweier ai`s (Wettkampf mit n Runden)\n",
    "\n",
    "def pit(ai1, ai2, n=20, nrnd=0, verbose=0):\n",
    "    '''Pits two ai for n rounds. First nrnd moves are randomly chosen.\n",
    "    confidence: sigma interval in where you want to know one ai is better than the other\n",
    "    '''\n",
    "        \n",
    "    if type(n) is type(None) or n==np.Inf:\n",
    "        n = int(1e10)\n",
    "    \n",
    "    wins1 = 0\n",
    "    wins2 = 0\n",
    "    \n",
    "    for k in range(n):\n",
    "\n",
    "        if k%2 == 0:\n",
    "            ai_red  = ai1\n",
    "            ai_blue = ai2\n",
    "        else:\n",
    "            ai_red  = ai2\n",
    "            ai_blue = ai1\n",
    "            \n",
    "        if k%2 == 0:\n",
    "            board0 = filledboard(bsize, nrnd)\n",
    "            \n",
    "        board = board0.copy()\n",
    "        turn = (-1)**(board!=0).sum()\n",
    "\n",
    "        while True:\n",
    "\n",
    "            if turn>0:\n",
    "                #'Reds turn'\n",
    "\n",
    "                # Move by an AI\n",
    "                #x, y = ai_red.findmove(board, True, verbose=0)\n",
    "                x, y = ai_red.findmove(board)\n",
    "\n",
    "            else:\n",
    "                #'Blues turn'\n",
    "\n",
    "                # Move by an AI\n",
    "                #x, y = ai_blue.findmove(board, False, verbose=0)\n",
    "                x, y = ai_blue.findmove(board)\n",
    "\n",
    "\n",
    "            board[x,y] = turn\n",
    "            turn *= -1\n",
    "\n",
    "\n",
    "            # If someone has won\n",
    "            won = winner(board)\n",
    "            if won!=0:\n",
    "                break\n",
    "\n",
    "        if k%2==1:\n",
    "            won *= -1\n",
    "        wins1 += int(+won/2+1/2)\n",
    "        wins2 += int(-won/2+1/2)\n",
    "        sigma = np.sqrt(wins1*wins2/(wins1+wins2))\n",
    "        \n",
    "        if verbose:\n",
    "            print(wins1, k+1)\n",
    "        \n",
    "        \n",
    "    #return wins1, wins2\n",
    "    return wins1/n"
   ]
  },
  {
   "cell_type": "markdown",
   "metadata": {},
   "source": [
    "## Training"
   ]
  },
  {
   "cell_type": "code",
   "execution_count": 6,
   "metadata": {
    "ExecuteTime": {
     "end_time": "2021-03-19T13:24:40.486677Z",
     "start_time": "2021-03-19T13:24:40.370795Z"
    }
   },
   "outputs": [],
   "source": [
    "\n",
    "# Batch generator for neural network training\n",
    "\n",
    "def batchgen(gamerecords, size=50, istart=0, verbose=None):\n",
    "    '''size: minibatchsize\n",
    "    istart, iend: Start- und Endindex der herausgegebenen Samples\n",
    "    verbose: Wenn überschrieben, dann mit einem String des Batchgen Namens (z. B. Supervised)'''\n",
    "    ep = 0\n",
    "    iend = len(gamerecords)\n",
    "    while True:\n",
    "        ilist = range(istart, iend)\n",
    "        ilist = np.random.permutation(ilist)\n",
    "        minibatches = [ ilist[k*size:(k+1)*size] for k in range(len(ilist)//size) ]\n",
    "        for mb in minibatches:\n",
    "            xs = np.zeros((size, 3, N, N))\n",
    "            y1s = np.zeros((size, 1, N, N))\n",
    "            y2s = np.zeros((size, 1))\n",
    "            for i, k in enumerate(mb):\n",
    "                x, y1, y2 = gamerecords[k]\n",
    "                xs[i] = encode_oh(x)\n",
    "                ii,jj = y1\n",
    "                y1s[i, 0, ii, jj] = 1\n",
    "                y2s[i] = y2\n",
    "            yield xs, y1s, y2s\n",
    "        if verbose:\n",
    "            print(f'{verbose}: finished one epoch ({ep})!')\n",
    "        ep += 1\n",
    "        \n",
    "        \n",
    "\n",
    "def train(net, gamerecords, gamerecords_legacy, iterations=4000, aug_ds=True, cons_ds=True, verbose=0):\n",
    "    '''Trainiert das Netz\n",
    "    aug_ds: Augmentation durch Drehspiegelung (Flip in x und y)\n",
    "    cons_ds: Konsistenzbedingung unter Drehspiegelung auf dem unsupervised Set\n",
    "    teacher_function: Eine Funktion, nach der auf dem unsupervised Set das Netzwerk trainiert wird. Wenn None wird der MTeacher genutzt'''\n",
    "\n",
    "    #if net is None:\n",
    "    #    net = Net(n=64)\n",
    "    optimizer = torch.optim.Adam(lr=1e-3, params=net.parameters(), weight_decay=1e-4)\n",
    "    bg_s = batchgen(gamerecords)                             #### istart erhöhen um valbatch zu haben? für early stopping?\n",
    "    bg_u = batchgen(gamerecords_legacy, size=150)\n",
    "    BCE = nn.BCELoss()\n",
    "    MSE = nn.MSELoss()\n",
    "    L1Loss = nn.L1Loss()\n",
    "    LogLoss = lambda yp, yt: torch.mean(-yt*torch.log(yp+1e-4))\n",
    "    losses = []\n",
    "    semlosses = []\n",
    "    mtlosses = []\n",
    "\n",
    "    # Validation batches\n",
    "    #val = [ batch2torch(*getValbatch(i)) for i in range(3) ]\n",
    "    #b_val, p_val, v_val = zip(*val)\n",
    "\n",
    "    \n",
    "    # Trainings loop\n",
    "    vloss_min = np.Inf\n",
    "    for k in trange(iterations):\n",
    "\n",
    "        # ==== Supervised step ====\n",
    "        b, tp, tv = next(bg_s)\n",
    "        b, tp, tv = batch2torch(b, tp, tv)\n",
    "        \n",
    "        if aug_ds:\n",
    "            if np.random.rand()<0.5:\n",
    "                b = torch.flip(b, [2, 3])\n",
    "                tp = torch.flip(tp, [2, 3])\n",
    "            \n",
    "        pp, pv = net(b)\n",
    "        # For softmax LogLoss, for sigmoid BCE\n",
    "        loss = LogLoss(pp.view(-1), tp.view(-1)) + MSE(pv, tv)\n",
    "        loss.backward()\n",
    "        loss = loss.item() # torch to float\n",
    "\n",
    "        # ==== Unsupervised step ====\n",
    "        if cons_ds:\n",
    "            b1, _, _ = batch2torch(*next(bg_u))\n",
    "            b2 = b1   # Kopie von x für Rauschen oder Veränderung\n",
    "\n",
    "            # --> welche augmentation / noise ?\n",
    "            if cons_ds:\n",
    "                b2 = torch.flip(b2, [2, 3])\n",
    "\n",
    "            # --> welches Netzwerk ?\n",
    "            pp1, pv1 = net(b1)\n",
    "            pp2, pv2 = net(b2)\n",
    "                \n",
    "            if cons_ds:\n",
    "                pp2 = torch.flip(pp2, [2, 3]) ## flip back\n",
    "            semloss  = MSE(pp1.view(-1), pp2.view(-1)) + MSE(pv1, pv2)\n",
    "            \n",
    "            semloss *= 4\n",
    "            semloss.backward()\n",
    "            semloss = semloss.item()\n",
    "        else:\n",
    "            semloss = 0\n",
    "            \n",
    "\n",
    "        # do the training step on the network\n",
    "        optimizer.step()\n",
    "        optimizer.zero_grad()\n",
    "            \n",
    "        # Statistic\n",
    "        losses += [loss]\n",
    "        semlosses += [semloss]\n",
    "        \n",
    "        # Verbose output, measure minimum val loss\n",
    "        if len(losses) == 100:\n",
    "            if verbose>=1:\n",
    "                print('Loss=%f, SSLoss=%f'% (np.mean(losses), np.mean(semlosses)))\n",
    "            losses = []\n",
    "\n",
    "        if k % 200 == 0 and verbose>=2:\n",
    "            board, value = collection[0]\n",
    "            v_est = net.predict(encode_oh(board))\n",
    "\n",
    "            show_board(v_est, cmap='cividis')\n",
    "            plt.show()\n",
    "            \n",
    "    return net"
   ]
  },
  {
   "cell_type": "markdown",
   "metadata": {},
   "source": [
    "### Selfplay"
   ]
  },
  {
   "cell_type": "code",
   "execution_count": 7,
   "metadata": {
    "ExecuteTime": {
     "end_time": "2021-03-19T13:24:40.586848Z",
     "start_time": "2021-03-19T13:24:40.486677Z"
    },
    "run_control": {
     "marked": false
    },
    "scrolled": true
   },
   "outputs": [],
   "source": [
    "from hex_minmax import *\n",
    "from hex_nnet import *\n",
    "from hex_mcts import *\n",
    "\n",
    "bsize = 6\n",
    "\n",
    "\n",
    "\n",
    "import pickle\n",
    "\n",
    "\n",
    "def selfplay(ai, ngames=1000, verbose=0):\n",
    "    \n",
    "    red_wins = 0\n",
    "    blue_wins = 0\n",
    "    games_record = []\n",
    "\n",
    "    # Iterator with tqdm??\n",
    "    iter = range(ngames)\n",
    "    if verbose>=1:\n",
    "        iter = tqdm(iter)\n",
    "        \n",
    "    # Play n games!\n",
    "    for k in iter:\n",
    "\n",
    "        ##ai = MultiMCTS(nparallel=5, nsearches=50, path='net_train_selfplay.dat')\n",
    "        ai.eta = 0.3\n",
    "        ai_red = ai\n",
    "        ai_blue = ai\n",
    "\n",
    "        #### #  Spiele aufzeichnen\n",
    "        boards_moves_record = []\n",
    "        ####\n",
    "\n",
    "        #board = np.zeros((bsize,bsize), int)\n",
    "        board = filledboard(bsize, 3)\n",
    "        turn = getturn(board)\n",
    "\n",
    "        while True:\n",
    "\n",
    "            #show_board(board)\n",
    "            #plt.show()\n",
    "\n",
    "\n",
    "            if turn>0:\n",
    "                #print('Reds turn')\n",
    "\n",
    "                # Move by an AI\n",
    "                x, y = ai_red.findmove(board)\n",
    "\n",
    "\n",
    "            else:\n",
    "                #print('Blues turn')\n",
    "\n",
    "                # Move by an AI\n",
    "                x, y = ai_blue.findmove(board)\n",
    "\n",
    "            if turn > 0:\n",
    "                boards_moves_record += [(board.copy(), (x,y), turn)]\n",
    "            else:\n",
    "                boards_moves_record += [(-board.T.copy(), (y,x), turn)]\n",
    "                \n",
    "\n",
    "            board[x,y] = turn\n",
    "            turn *= -1\n",
    "\n",
    "\n",
    "\n",
    "            # If someone has won\n",
    "            won = winner(board)\n",
    "            if won!=0:\n",
    "                #path = winning_path(board)\n",
    "                if verbose >= 2:\n",
    "                    if won==+1:\n",
    "                        print('Red has won!')\n",
    "                    else:\n",
    "                        print('Blue has won!')\n",
    "                if verbose >= 3:\n",
    "                    show_board(board)\n",
    "                    show_path(path)\n",
    "                    plt.show()\n",
    "                break\n",
    "\n",
    "        red_wins  += int(+won/2+1/2)\n",
    "        blue_wins += int(-won/2+1/2)\n",
    "\n",
    "        winpath = winning_path(board)\n",
    "\n",
    "        # Spiele aufzeichnen\n",
    "        boards_won_record = [ (b, m, t*won) for b, m, t in boards_moves_record ]\n",
    "        ## irgendwann winning path hinzufügen?\n",
    "\n",
    "        games_record += boards_won_record\n",
    "        \n",
    "    return games_record"
   ]
  },
  {
   "cell_type": "code",
   "execution_count": 8,
   "metadata": {
    "ExecuteTime": {
     "end_time": "2021-03-19T13:24:40.681791Z",
     "start_time": "2021-03-19T13:24:40.588848Z"
    },
    "run_control": {
     "marked": false
    },
    "scrolled": true
   },
   "outputs": [],
   "source": [
    "from hex_minmax import *\n",
    "from hex_nnet import *\n",
    "from hex_mcts import *\n",
    "\n",
    "bsize = 6\n",
    "\n",
    "\n",
    "\n",
    "import pickle\n",
    "\n",
    "\n",
    "def selfplay_batched(ai, ngames=1000, verbose=0):\n",
    "    \n",
    "    bnum = ai.nparallel\n",
    "    game_records = []\n",
    "    \n",
    "    ai.eta = 0.3\n",
    "\n",
    "    # Iterator with tqdm??\n",
    "    if verbose>=1:\n",
    "        pbar = tqdm(total=ngames)\n",
    "        \n",
    "    newboard = lambda: filledboard(bsize, count=3)\n",
    "    boards = [ newboard() for _ in range(bnum) ]\n",
    "    turns = [ getturn(brd) for brd in boards ]\n",
    "    records = [ [] for _ in range(bnum) ]\n",
    "    \n",
    "    \n",
    "    completedgames = 0\n",
    "    while completedgames < ngames:\n",
    "        \n",
    "        moves = ai.findmove(boards)\n",
    "        for b in range(bnum):\n",
    "            turn = turns[b]\n",
    "            x, y = moves[b]\n",
    "            records[b] += [(boards[b].copy(), (x, y), turn)] if turn > 0 else \\\n",
    "                          [(-boards[b].T.copy(), (y, x), turn)]\n",
    "            boards[b][x, y] = turns[b]\n",
    "            turns[b] *= -1\n",
    "            \n",
    "            won = winner(boards[b])\n",
    "            if won:\n",
    "                game_records += [ (b, m, t*won) for (b, m, t) in records[b] ]\n",
    "                completedgames += 1\n",
    "                records[b] = []\n",
    "                boards[b] = newboard()\n",
    "                turns[b] = getturn(boards[b])\n",
    "                if verbose>=1:\n",
    "                    pbar.update(1)\n",
    "    \n",
    "    if verbose>=1:\n",
    "        pbar.close()\n",
    "        \n",
    "    return game_records"
   ]
  },
  {
   "cell_type": "code",
   "execution_count": 128,
   "metadata": {
    "deletable": false,
    "editable": false,
    "run_control": {
     "frozen": true
    },
    "scrolled": false
   },
   "outputs": [
    {
     "data": {
      "application/vnd.jupyter.widget-view+json": {
       "model_id": "865a468c7b9842aaaf3ef09f0cee8ff9",
       "version_major": 2,
       "version_minor": 0
      },
      "text/plain": [
       "HBox(children=(FloatProgress(value=0.0, max=200.0), HTML(value='')))"
      ]
     },
     "metadata": {},
     "output_type": "display_data"
    },
    {
     "name": "stdout",
     "output_type": "stream",
     "text": [
      "\n"
     ]
    }
   ],
   "source": [
    "#newgames = selfplay(MultiMCTS(nparallel=1, nsearches=50, net=net), ngames=200, verbose=1)  # 25 min für 200 games!\n",
    "#newgames = selfplay(MultiMCTS(nparallel=10, nsearches=50, net=net), ngames=200, verbose=1)  #  5 min für 200 games! batching verschlechtert spielperformance ein wenig!\n",
    "#newgames = selfplay_batched(BatchMCTS(nparallel=20, nsearches=50, net=net), ngames=200, verbose=1) # 3 min für 200 games!"
   ]
  },
  {
   "cell_type": "code",
   "execution_count": 9,
   "metadata": {
    "ExecuteTime": {
     "end_time": "2021-03-19T13:24:53.512595Z",
     "start_time": "2021-03-19T13:24:40.684788Z"
    }
   },
   "outputs": [
    {
     "data": {
      "application/vnd.jupyter.widget-view+json": {
       "model_id": "13776c5d7a3f47d2bb0a89023f43f406",
       "version_major": 2,
       "version_minor": 0
      },
      "text/plain": [
       "HBox(children=(FloatProgress(value=0.0, max=400.0), HTML(value='')))"
      ]
     },
     "metadata": {},
     "output_type": "display_data"
    },
    {
     "name": "stdout",
     "output_type": "stream",
     "text": [
      "\n"
     ]
    },
    {
     "data": {
      "application/vnd.jupyter.widget-view+json": {
       "model_id": "565fe4f55aba415abefab76e76e20cb8",
       "version_major": 2,
       "version_minor": 0
      },
      "text/plain": [
       "HBox(children=(FloatProgress(value=0.0, max=1200.0), HTML(value='')))"
      ]
     },
     "metadata": {},
     "output_type": "display_data"
    },
    {
     "name": "stdout",
     "output_type": "stream",
     "text": [
      "\n",
      "Game record / legacy has length 11146 / 33477\n"
     ]
    }
   ],
   "source": [
    "\n",
    "net = Net()\n",
    "game_rec = selfplay(RandomPlayer(), ngames=400, verbose=1)\n",
    "game_rec_leg = selfplay(RandomPlayer(), ngames=1200, verbose=1)\n",
    "print(f'Game record / legacy has length {len(game_rec)} / {len(game_rec_leg)}')\n",
    "winrates = []\n",
    "depthminimax = 1\n",
    "stage = 0"
   ]
  },
  {
   "cell_type": "code",
   "execution_count": 11,
   "metadata": {
    "ExecuteTime": {
     "end_time": "2021-03-19T20:31:24.745668Z",
     "start_time": "2021-03-19T14:15:57.984256Z"
    },
    "run_control": {
     "marked": true
    }
   },
   "outputs": [
    {
     "name": "stdout",
     "output_type": "stream",
     "text": [
      "Selfplay\n"
     ]
    },
    {
     "data": {
      "application/vnd.jupyter.widget-view+json": {
       "model_id": "6a90b1c8a551433bae9ecdc18d3b4683",
       "version_major": 2,
       "version_minor": 0
      },
      "text/plain": [
       "HBox(children=(FloatProgress(value=0.0, max=200.0), HTML(value='')))"
      ]
     },
     "metadata": {},
     "output_type": "display_data"
    },
    {
     "name": "stdout",
     "output_type": "stream",
     "text": [
      "\n",
      "number of new states: 3183\n",
      "size of game rec / game rec legacy): 29954 33477\n",
      "Pitting\n",
      "0 1\n",
      "1 2\n",
      "1 3\n",
      "1 4\n",
      "2 5\n",
      "2 6\n",
      "2 7\n",
      "2 8\n",
      "2 9\n",
      "2 10\n",
      "0.2\n"
     ]
    },
    {
     "data": {
      "image/png": "[encoded data removed]",
      "text/plain": [
       "<Figure size 432x288 with 1 Axes>"
      ]
     },
     "metadata": {
      "needs_background": "light"
     },
     "output_type": "display_data"
    },
    {
     "name": "stdout",
     "output_type": "stream",
     "text": [
      "Training\n"
     ]
    },
    {
     "data": {
      "application/vnd.jupyter.widget-view+json": {
       "model_id": "8ecd99a6077d479d9ddd830f457860ba",
       "version_major": 2,
       "version_minor": 0
      },
      "text/plain": [
       "HBox(children=(FloatProgress(value=0.0, max=300.0), HTML(value='')))"
      ]
     },
     "metadata": {},
     "output_type": "display_data"
    },
    {
     "name": "stdout",
     "output_type": "stream",
     "text": [
      "Loss=0.812227, SSLoss=0.054968\n",
      "Loss=0.809754, SSLoss=0.052488\n",
      "Loss=0.814419, SSLoss=0.051117\n",
      "\n",
      "Selfplay\n"
     ]
    },
    {
     "data": {
      "application/vnd.jupyter.widget-view+json": {
       "model_id": "76d6edd85b7344ed882d6e5c5ea005b8",
       "version_major": 2,
       "version_minor": 0
      },
      "text/plain": [
       "HBox(children=(FloatProgress(value=0.0, max=200.0), HTML(value='')))"
      ]
     },
     "metadata": {},
     "output_type": "display_data"
    },
    {
     "name": "stdout",
     "output_type": "stream",
     "text": [
      "\n",
      "number of new states: 2913\n",
      "size of game rec / game rec legacy): 30000 36344\n",
      "Pitting\n",
      "1 1\n",
      "2 2\n",
      "2 3\n",
      "3 4\n",
      "3 5\n",
      "4 6\n",
      "5 7\n",
      "6 8\n",
      "6 9\n",
      "7 10\n",
      "0.7\n"
     ]
    },
    {
     "data": {
      "image/png": "[encoded data removed]",
      "text/plain": [
       "<Figure size 432x288 with 1 Axes>"
      ]
     },
     "metadata": {
      "needs_background": "light"
     },
     "output_type": "display_data"
    },
    {
     "name": "stdout",
     "output_type": "stream",
     "text": [
      "Training\n"
     ]
    },
    {
     "data": {
      "application/vnd.jupyter.widget-view+json": {
       "model_id": "643581af94b940fa9bbe5894cbabe2a2",
       "version_major": 2,
       "version_minor": 0
      },
      "text/plain": [
       "HBox(children=(FloatProgress(value=0.0, max=300.0), HTML(value='')))"
      ]
     },
     "metadata": {},
     "output_type": "display_data"
    },
    {
     "name": "stdout",
     "output_type": "stream",
     "text": [
      "Loss=0.787940, SSLoss=0.056590\n",
      "Loss=0.804079, SSLoss=0.050807\n",
      "Loss=0.778395, SSLoss=0.050478\n",
      "\n",
      "Selfplay\n"
     ]
    },
    {
     "data": {
      "application/vnd.jupyter.widget-view+json": {
       "model_id": "ae24d3692a284c37b63dbed483d74108",
       "version_major": 2,
       "version_minor": 0
      },
      "text/plain": [
       "HBox(children=(FloatProgress(value=0.0, max=200.0), HTML(value='')))"
      ]
     },
     "metadata": {},
     "output_type": "display_data"
    },
    {
     "name": "stdout",
     "output_type": "stream",
     "text": [
      "\n",
      "number of new states: 2742\n",
      "size of game rec / game rec legacy): 30000 39086\n",
      "Pitting\n",
      "0 1\n",
      "1 2\n",
      "1 3\n",
      "2 4\n",
      "2 5\n",
      "2 6\n",
      "3 7\n",
      "4 8\n",
      "4 9\n",
      "5 10\n",
      "0.5\n"
     ]
    },
    {
     "data": {
      "image/png": "[encoded data removed]",
      "text/plain": [
       "<Figure size 432x288 with 1 Axes>"
      ]
     },
     "metadata": {
      "needs_background": "light"
     },
     "output_type": "display_data"
    },
    {
     "name": "stdout",
     "output_type": "stream",
     "text": [
      "Training\n"
     ]
    },
    {
     "data": {
      "application/vnd.jupyter.widget-view+json": {
       "model_id": "802eb896868e4de69e7e3b3fac18e9bd",
       "version_major": 2,
       "version_minor": 0
      },
      "text/plain": [
       "HBox(children=(FloatProgress(value=0.0, max=300.0), HTML(value='')))"
      ]
     },
     "metadata": {},
     "output_type": "display_data"
    },
    {
     "name": "stdout",
     "output_type": "stream",
     "text": [
      "Loss=0.792305, SSLoss=0.042534\n",
      "Loss=0.767639, SSLoss=0.045246\n",
      "Loss=0.762319, SSLoss=0.045522\n",
      "\n",
      "Selfplay\n"
     ]
    },
    {
     "data": {
      "application/vnd.jupyter.widget-view+json": {
       "model_id": "151dd1070e0c4c44aa7ab6a1065ea69a",
       "version_major": 2,
       "version_minor": 0
      },
      "text/plain": [
       "HBox(children=(FloatProgress(value=0.0, max=200.0), HTML(value='')))"
      ]
     },
     "metadata": {},
     "output_type": "display_data"
    },
    {
     "name": "stdout",
     "output_type": "stream",
     "text": [
      "\n",
      "number of new states: 2753\n",
      "size of game rec / game rec legacy): 30000 41839\n",
      "Pitting\n",
      "0 1\n",
      "1 2\n",
      "2 3\n",
      "2 4\n",
      "3 5\n",
      "4 6\n",
      "5 7\n",
      "6 8\n",
      "7 9\n",
      "8 10\n",
      "0.8\n"
     ]
    },
    {
     "data": {
      "image/png": "[encoded data removed]",
      "text/plain": [
       "<Figure size 432x288 with 1 Axes>"
      ]
     },
     "metadata": {
      "needs_background": "light"
     },
     "output_type": "display_data"
    },
    {
     "name": "stdout",
     "output_type": "stream",
     "text": [
      "Changing minimax depth to 2\n",
      "Training\n"
     ]
    },
    {
     "data": {
      "application/vnd.jupyter.widget-view+json": {
       "model_id": "94624f3fb69d4c878181af3494d0ef22",
       "version_major": 2,
       "version_minor": 0
      },
      "text/plain": [
       "HBox(children=(FloatProgress(value=0.0, max=300.0), HTML(value='')))"
      ]
     },
     "metadata": {},
     "output_type": "display_data"
    },
    {
     "name": "stdout",
     "output_type": "stream",
     "text": [
      "Loss=0.757615, SSLoss=0.040731\n",
      "Loss=0.738878, SSLoss=0.041756\n",
      "Loss=0.752258, SSLoss=0.040329\n",
      "\n",
      "Selfplay\n"
     ]
    },
    {
     "data": {
      "application/vnd.jupyter.widget-view+json": {
       "model_id": "1524b92c768241ff8211d80056a53f59",
       "version_major": 2,
       "version_minor": 0
      },
      "text/plain": [
       "HBox(children=(FloatProgress(value=0.0, max=200.0), HTML(value='')))"
      ]
     },
     "metadata": {},
     "output_type": "display_data"
    },
    {
     "name": "stdout",
     "output_type": "stream",
     "text": [
      "\n",
      "number of new states: 2810\n",
      "size of game rec / game rec legacy): 30000 44649\n",
      "Pitting\n",
      "1 1\n",
      "1 2\n",
      "1 3\n",
      "1 4\n",
      "2 5\n",
      "2 6\n",
      "2 7\n",
      "2 8\n",
      "3 9\n",
      "4 10\n",
      "0.4\n"
     ]
    },
    {
     "data": {
      "image/png": "[encoded data removed]",
      "text/plain": [
       "<Figure size 432x288 with 1 Axes>"
      ]
     },
     "metadata": {
      "needs_background": "light"
     },
     "output_type": "display_data"
    },
    {
     "name": "stdout",
     "output_type": "stream",
     "text": [
      "Training\n"
     ]
    },
    {
     "data": {
      "application/vnd.jupyter.widget-view+json": {
       "model_id": "1095c020967947969b17eb6aac07c1b3",
       "version_major": 2,
       "version_minor": 0
      },
      "text/plain": [
       "HBox(children=(FloatProgress(value=0.0, max=300.0), HTML(value='')))"
      ]
     },
     "metadata": {},
     "output_type": "display_data"
    },
    {
     "name": "stdout",
     "output_type": "stream",
     "text": [
      "Loss=0.707719, SSLoss=0.034410\n",
      "Loss=0.719520, SSLoss=0.032338\n",
      "Loss=0.704229, SSLoss=0.031244\n",
      "\n",
      "Selfplay\n"
     ]
    },
    {
     "data": {
      "application/vnd.jupyter.widget-view+json": {
       "model_id": "0c77d3f64e6e4c4e81c0cd1f5bd0e835",
       "version_major": 2,
       "version_minor": 0
      },
      "text/plain": [
       "HBox(children=(FloatProgress(value=0.0, max=200.0), HTML(value='')))"
      ]
     },
     "metadata": {},
     "output_type": "display_data"
    },
    {
     "name": "stdout",
     "output_type": "stream",
     "text": [
      "\n",
      "number of new states: 2798\n",
      "size of game rec / game rec legacy): 30000 47447\n",
      "Pitting\n",
      "0 1\n",
      "1 2\n",
      "2 3\n",
      "3 4\n",
      "4 5\n",
      "4 6\n",
      "4 7\n",
      "5 8\n",
      "5 9\n",
      "6 10\n",
      "0.6\n"
     ]
    },
    {
     "data": {
      "image/png": "[encoded data removed]",
      "text/plain": [
       "<Figure size 432x288 with 1 Axes>"
      ]
     },
     "metadata": {
      "needs_background": "light"
     },
     "output_type": "display_data"
    },
    {
     "name": "stdout",
     "output_type": "stream",
     "text": [
      "Training\n"
     ]
    },
    {
     "data": {
      "application/vnd.jupyter.widget-view+json": {
       "model_id": "73aa49327e9d47a48c51f308850a9239",
       "version_major": 2,
       "version_minor": 0
      },
      "text/plain": [
       "HBox(children=(FloatProgress(value=0.0, max=300.0), HTML(value='')))"
      ]
     },
     "metadata": {},
     "output_type": "display_data"
    },
    {
     "name": "stdout",
     "output_type": "stream",
     "text": [
      "Loss=0.684979, SSLoss=0.023805\n",
      "Loss=0.686802, SSLoss=0.023339\n",
      "Loss=0.692644, SSLoss=0.022640\n",
      "\n",
      "Selfplay\n"
     ]
    },
    {
     "data": {
      "application/vnd.jupyter.widget-view+json": {
       "model_id": "88ee068d4e2e48ca878df9a73dc74e80",
       "version_major": 2,
       "version_minor": 0
      },
      "text/plain": [
       "HBox(children=(FloatProgress(value=0.0, max=200.0), HTML(value='')))"
      ]
     },
     "metadata": {},
     "output_type": "display_data"
    },
    {
     "name": "stdout",
     "output_type": "stream",
     "text": [
      "\n",
      "number of new states: 2665\n",
      "size of game rec / game rec legacy): 30000 50112\n",
      "Pitting\n",
      "1 1\n",
      "2 2\n",
      "2 3\n",
      "3 4\n",
      "3 5\n",
      "4 6\n",
      "4 7\n",
      "5 8\n",
      "5 9\n",
      "6 10\n",
      "0.6\n"
     ]
    },
    {
     "data": {
      "image/png": "[encoded data removed]",
      "text/plain": [
       "<Figure size 432x288 with 1 Axes>"
      ]
     },
     "metadata": {
      "needs_background": "light"
     },
     "output_type": "display_data"
    },
    {
     "name": "stdout",
     "output_type": "stream",
     "text": [
      "Training\n"
     ]
    },
    {
     "data": {
      "application/vnd.jupyter.widget-view+json": {
       "model_id": "53a86bb9d956409ebdf83d2c4b34cb37",
       "version_major": 2,
       "version_minor": 0
      },
      "text/plain": [
       "HBox(children=(FloatProgress(value=0.0, max=300.0), HTML(value='')))"
      ]
     },
     "metadata": {},
     "output_type": "display_data"
    },
    {
     "name": "stdout",
     "output_type": "stream",
     "text": [
      "Loss=0.649838, SSLoss=0.030096\n",
      "Loss=0.653054, SSLoss=0.026998\n",
      "Loss=0.641182, SSLoss=0.027739\n",
      "\n",
      "Selfplay\n"
     ]
    },
    {
     "data": {
      "application/vnd.jupyter.widget-view+json": {
       "model_id": "93191e9fcb3e44e4a358f79730304d9a",
       "version_major": 2,
       "version_minor": 0
      },
      "text/plain": [
       "HBox(children=(FloatProgress(value=0.0, max=200.0), HTML(value='')))"
      ]
     },
     "metadata": {},
     "output_type": "display_data"
    },
    {
     "name": "stdout",
     "output_type": "stream",
     "text": [
      "\n",
      "number of new states: 2857\n",
      "size of game rec / game rec legacy): 30000 52969\n",
      "Pitting\n",
      "1 1\n",
      "1 2\n",
      "2 3\n",
      "3 4\n",
      "4 5\n",
      "5 6\n",
      "5 7\n",
      "6 8\n",
      "6 9\n",
      "6 10\n",
      "0.6\n"
     ]
    },
    {
     "data": {
      "image/png": "[encoded data removed]",
      "text/plain": [
       "<Figure size 432x288 with 1 Axes>"
      ]
     },
     "metadata": {
      "needs_background": "light"
     },
     "output_type": "display_data"
    },
    {
     "name": "stdout",
     "output_type": "stream",
     "text": [
      "Training\n"
     ]
    },
    {
     "data": {
      "application/vnd.jupyter.widget-view+json": {
       "model_id": "96bb5350cd4b4c7d83e6559497675493",
       "version_major": 2,
       "version_minor": 0
      },
      "text/plain": [
       "HBox(children=(FloatProgress(value=0.0, max=300.0), HTML(value='')))"
      ]
     },
     "metadata": {},
     "output_type": "display_data"
    },
    {
     "name": "stdout",
     "output_type": "stream",
     "text": [
      "Loss=0.624884, SSLoss=0.041195\n",
      "Loss=0.617841, SSLoss=0.036148\n",
      "Loss=0.593571, SSLoss=0.035845\n",
      "\n",
      "Selfplay\n"
     ]
    },
    {
     "data": {
      "application/vnd.jupyter.widget-view+json": {
       "model_id": "8f8a12b7784b43a397ca03e198225c54",
       "version_major": 2,
       "version_minor": 0
      },
      "text/plain": [
       "HBox(children=(FloatProgress(value=0.0, max=200.0), HTML(value='')))"
      ]
     },
     "metadata": {},
     "output_type": "display_data"
    },
    {
     "name": "stdout",
     "output_type": "stream",
     "text": [
      "\n",
      "number of new states: 2762\n",
      "size of game rec / game rec legacy): 30000 55731\n",
      "Pitting\n",
      "1 1\n",
      "2 2\n",
      "3 3\n",
      "4 4\n",
      "4 5\n",
      "5 6\n",
      "5 7\n",
      "6 8\n",
      "7 9\n",
      "8 10\n",
      "0.8\n"
     ]
    },
    {
     "data": {
      "image/png": "[encoded data removed]",
      "text/plain": [
       "<Figure size 432x288 with 1 Axes>"
      ]
     },
     "metadata": {
      "needs_background": "light"
     },
     "output_type": "display_data"
    },
    {
     "name": "stdout",
     "output_type": "stream",
     "text": [
      "Changing minimax depth to 3\n",
      "Training\n"
     ]
    },
    {
     "data": {
      "application/vnd.jupyter.widget-view+json": {
       "model_id": "16c20b789b974d3ab4255e93fbf07678",
       "version_major": 2,
       "version_minor": 0
      },
      "text/plain": [
       "HBox(children=(FloatProgress(value=0.0, max=300.0), HTML(value='')))"
      ]
     },
     "metadata": {},
     "output_type": "display_data"
    },
    {
     "name": "stdout",
     "output_type": "stream",
     "text": [
      "Loss=0.599199, SSLoss=0.040107\n",
      "Loss=0.583323, SSLoss=0.038739\n",
      "Loss=0.604830, SSLoss=0.037467\n",
      "\n",
      "Selfplay\n"
     ]
    },
    {
     "data": {
      "application/vnd.jupyter.widget-view+json": {
       "model_id": "39808f9bfdb94222b06533c8175c8de4",
       "version_major": 2,
       "version_minor": 0
      },
      "text/plain": [
       "HBox(children=(FloatProgress(value=0.0, max=200.0), HTML(value='')))"
      ]
     },
     "metadata": {},
     "output_type": "display_data"
    },
    {
     "name": "stdout",
     "output_type": "stream",
     "text": [
      "\n",
      "number of new states: 2943\n",
      "size of game rec / game rec legacy): 30000 58674\n",
      "Pitting\n",
      "1 1\n",
      "2 2\n",
      "2 3\n",
      "2 4\n",
      "3 5\n",
      "4 6\n",
      "5 7\n",
      "6 8\n",
      "7 9\n",
      "8 10\n",
      "0.8\n"
     ]
    },
    {
     "data": {
      "image/png": "[encoded data removed]",
      "text/plain": [
       "<Figure size 432x288 with 1 Axes>"
      ]
     },
     "metadata": {
      "needs_background": "light"
     },
     "output_type": "display_data"
    },
    {
     "name": "stdout",
     "output_type": "stream",
     "text": [
      "Changing minimax depth to 4\n",
      "Training\n"
     ]
    },
    {
     "data": {
      "application/vnd.jupyter.widget-view+json": {
       "model_id": "1a9dc7ffc2164216a0d74f9742ae7b1a",
       "version_major": 2,
       "version_minor": 0
      },
      "text/plain": [
       "HBox(children=(FloatProgress(value=0.0, max=300.0), HTML(value='')))"
      ]
     },
     "metadata": {},
     "output_type": "display_data"
    },
    {
     "name": "stdout",
     "output_type": "stream",
     "text": [
      "Loss=0.596030, SSLoss=0.044495\n",
      "Loss=0.590080, SSLoss=0.043369\n",
      "Loss=0.565859, SSLoss=0.041632\n",
      "\n",
      "Selfplay\n"
     ]
    },
    {
     "data": {
      "application/vnd.jupyter.widget-view+json": {
       "model_id": "fca773c4ba3f44acb30d2ccba01933ee",
       "version_major": 2,
       "version_minor": 0
      },
      "text/plain": [
       "HBox(children=(FloatProgress(value=0.0, max=200.0), HTML(value='')))"
      ]
     },
     "metadata": {},
     "output_type": "display_data"
    },
    {
     "name": "stdout",
     "output_type": "stream",
     "text": [
      "\n",
      "number of new states: 2994\n",
      "size of game rec / game rec legacy): 30000 61668\n",
      "Pitting\n",
      "1 1\n",
      "2 2\n",
      "3 3\n",
      "4 4\n",
      "5 5\n",
      "5 6\n",
      "6 7\n",
      "7 8\n",
      "8 9\n",
      "9 10\n",
      "0.9\n"
     ]
    },
    {
     "data": {
      "image/png": "[encoded data removed]",
      "text/plain": [
       "<Figure size 432x288 with 1 Axes>"
      ]
     },
     "metadata": {
      "needs_background": "light"
     },
     "output_type": "display_data"
    },
    {
     "name": "stdout",
     "output_type": "stream",
     "text": [
      "Training\n"
     ]
    },
    {
     "data": {
      "application/vnd.jupyter.widget-view+json": {
       "model_id": "a276cd739d4046b783eafdf180a778a2",
       "version_major": 2,
       "version_minor": 0
      },
      "text/plain": [
       "HBox(children=(FloatProgress(value=0.0, max=300.0), HTML(value='')))"
      ]
     },
     "metadata": {},
     "output_type": "display_data"
    },
    {
     "name": "stdout",
     "output_type": "stream",
     "text": [
      "Loss=0.566249, SSLoss=0.046754\n",
      "Loss=0.555254, SSLoss=0.044108\n",
      "Loss=0.546171, SSLoss=0.044068\n",
      "\n",
      "Selfplay\n"
     ]
    },
    {
     "data": {
      "application/vnd.jupyter.widget-view+json": {
       "model_id": "f44306ba31ff4d18b7c238e50119a1f8",
       "version_major": 2,
       "version_minor": 0
      },
      "text/plain": [
       "HBox(children=(FloatProgress(value=0.0, max=200.0), HTML(value='')))"
      ]
     },
     "metadata": {},
     "output_type": "display_data"
    },
    {
     "name": "stdout",
     "output_type": "stream",
     "text": [
      "\n",
      "number of new states: 2953\n",
      "size of game rec / game rec legacy): 30000 64621\n",
      "Pitting\n",
      "1 1\n",
      "1 2\n",
      "1 3\n",
      "2 4\n",
      "3 5\n",
      "4 6\n",
      "4 7\n",
      "4 8\n",
      "5 9\n",
      "6 10\n",
      "0.6\n"
     ]
    },
    {
     "data": {
      "image/png": "[encoded data removed]",
      "text/plain": [
       "<Figure size 432x288 with 1 Axes>"
      ]
     },
     "metadata": {
      "needs_background": "light"
     },
     "output_type": "display_data"
    },
    {
     "name": "stdout",
     "output_type": "stream",
     "text": [
      "Training\n"
     ]
    },
    {
     "data": {
      "application/vnd.jupyter.widget-view+json": {
       "model_id": "88231bbed5094139ade8c3686f70ff89",
       "version_major": 2,
       "version_minor": 0
      },
      "text/plain": [
       "HBox(children=(FloatProgress(value=0.0, max=300.0), HTML(value='')))"
      ]
     },
     "metadata": {},
     "output_type": "display_data"
    },
    {
     "name": "stdout",
     "output_type": "stream",
     "text": [
      "Loss=0.532709, SSLoss=0.052470\n",
      "Loss=0.541117, SSLoss=0.048394\n",
      "Loss=0.522468, SSLoss=0.047141\n",
      "\n",
      "Selfplay\n"
     ]
    },
    {
     "data": {
      "application/vnd.jupyter.widget-view+json": {
       "model_id": "49d5657a4c8e459b83e12d8ef32e5b2b",
       "version_major": 2,
       "version_minor": 0
      },
      "text/plain": [
       "HBox(children=(FloatProgress(value=0.0, max=200.0), HTML(value='')))"
      ]
     },
     "metadata": {},
     "output_type": "display_data"
    },
    {
     "name": "stdout",
     "output_type": "stream",
     "text": [
      "\n",
      "number of new states: 2933\n",
      "size of game rec / game rec legacy): 30000 67554\n",
      "Pitting\n",
      "1 1\n",
      "2 2\n",
      "3 3\n",
      "3 4\n",
      "3 5\n",
      "4 6\n",
      "5 7\n",
      "6 8\n",
      "7 9\n",
      "8 10\n",
      "0.8\n"
     ]
    },
    {
     "data": {
      "image/png": "[encoded data removed]",
      "text/plain": [
       "<Figure size 432x288 with 1 Axes>"
      ]
     },
     "metadata": {
      "needs_background": "light"
     },
     "output_type": "display_data"
    },
    {
     "name": "stdout",
     "output_type": "stream",
     "text": [
      "Training\n"
     ]
    },
    {
     "data": {
      "application/vnd.jupyter.widget-view+json": {
       "model_id": "c6d8cb2925c740dbb88b74cf4984911a",
       "version_major": 2,
       "version_minor": 0
      },
      "text/plain": [
       "HBox(children=(FloatProgress(value=0.0, max=300.0), HTML(value='')))"
      ]
     },
     "metadata": {},
     "output_type": "display_data"
    },
    {
     "name": "stdout",
     "output_type": "stream",
     "text": [
      "Loss=0.500250, SSLoss=0.052558\n",
      "Loss=0.495034, SSLoss=0.050269\n",
      "Loss=0.508369, SSLoss=0.049394\n",
      "\n",
      "Selfplay\n"
     ]
    },
    {
     "data": {
      "application/vnd.jupyter.widget-view+json": {
       "model_id": "bddfe3d5f7ac424cadd9516fab367847",
       "version_major": 2,
       "version_minor": 0
      },
      "text/plain": [
       "HBox(children=(FloatProgress(value=0.0, max=200.0), HTML(value='')))"
      ]
     },
     "metadata": {},
     "output_type": "display_data"
    },
    {
     "name": "stdout",
     "output_type": "stream",
     "text": [
      "\n",
      "number of new states: 2928\n",
      "size of game rec / game rec legacy): 30000 70482\n",
      "Pitting\n",
      "1 1\n",
      "2 2\n",
      "3 3\n",
      "3 4\n",
      "4 5\n",
      "5 6\n",
      "6 7\n",
      "6 8\n",
      "7 9\n",
      "8 10\n",
      "0.8\n"
     ]
    },
    {
     "data": {
      "image/png": "[encoded data removed]",
      "text/plain": [
       "<Figure size 432x288 with 1 Axes>"
      ]
     },
     "metadata": {
      "needs_background": "light"
     },
     "output_type": "display_data"
    },
    {
     "name": "stdout",
     "output_type": "stream",
     "text": [
      "Training\n"
     ]
    },
    {
     "data": {
      "application/vnd.jupyter.widget-view+json": {
       "model_id": "e5d85082cb1043829e9684a6b325cca7",
       "version_major": 2,
       "version_minor": 0
      },
      "text/plain": [
       "HBox(children=(FloatProgress(value=0.0, max=300.0), HTML(value='')))"
      ]
     },
     "metadata": {},
     "output_type": "display_data"
    },
    {
     "name": "stdout",
     "output_type": "stream",
     "text": [
      "Loss=0.490993, SSLoss=0.054279\n",
      "Loss=0.498797, SSLoss=0.052671\n",
      "Loss=0.479076, SSLoss=0.051779\n",
      "\n",
      "Selfplay\n"
     ]
    },
    {
     "data": {
      "application/vnd.jupyter.widget-view+json": {
       "model_id": "0ac4c797f1184348bde49611761f174d",
       "version_major": 2,
       "version_minor": 0
      },
      "text/plain": [
       "HBox(children=(FloatProgress(value=0.0, max=200.0), HTML(value='')))"
      ]
     },
     "metadata": {},
     "output_type": "display_data"
    },
    {
     "name": "stdout",
     "output_type": "stream",
     "text": [
      "\n",
      "number of new states: 2967\n",
      "size of game rec / game rec legacy): 30000 73449\n",
      "Pitting\n",
      "1 1\n",
      "2 2\n",
      "3 3\n",
      "4 4\n",
      "5 5\n",
      "6 6\n",
      "7 7\n",
      "8 8\n",
      "9 9\n",
      "9 10\n",
      "0.9\n"
     ]
    },
    {
     "data": {
      "image/png": "[encoded data removed]",
      "text/plain": [
       "<Figure size 432x288 with 1 Axes>"
      ]
     },
     "metadata": {
      "needs_background": "light"
     },
     "output_type": "display_data"
    },
    {
     "name": "stdout",
     "output_type": "stream",
     "text": [
      "Training\n"
     ]
    },
    {
     "data": {
      "application/vnd.jupyter.widget-view+json": {
       "model_id": "8bd0a8ad00bf488daaf876b6a4b72ce6",
       "version_major": 2,
       "version_minor": 0
      },
      "text/plain": [
       "HBox(children=(FloatProgress(value=0.0, max=300.0), HTML(value='')))"
      ]
     },
     "metadata": {},
     "output_type": "display_data"
    },
    {
     "name": "stdout",
     "output_type": "stream",
     "text": [
      "Loss=0.462715, SSLoss=0.055453\n",
      "Loss=0.451473, SSLoss=0.053764\n",
      "Loss=0.474276, SSLoss=0.052970\n",
      "\n",
      "Selfplay\n"
     ]
    },
    {
     "data": {
      "application/vnd.jupyter.widget-view+json": {
       "model_id": "b25f12aa9a4145449e62b86163d8797e",
       "version_major": 2,
       "version_minor": 0
      },
      "text/plain": [
       "HBox(children=(FloatProgress(value=0.0, max=200.0), HTML(value='')))"
      ]
     },
     "metadata": {},
     "output_type": "display_data"
    },
    {
     "name": "stdout",
     "output_type": "stream",
     "text": [
      "\n",
      "number of new states: 2966\n",
      "size of game rec / game rec legacy): 30000 76415\n",
      "Pitting\n",
      "1 1\n",
      "2 2\n",
      "2 3\n",
      "3 4\n",
      "4 5\n",
      "5 6\n",
      "6 7\n",
      "7 8\n",
      "8 9\n",
      "9 10\n",
      "0.9\n"
     ]
    },
    {
     "data": {
      "image/png": "[encoded data removed]",
      "text/plain": [
       "<Figure size 432x288 with 1 Axes>"
      ]
     },
     "metadata": {
      "needs_background": "light"
     },
     "output_type": "display_data"
    },
    {
     "name": "stdout",
     "output_type": "stream",
     "text": [
      "Training\n"
     ]
    },
    {
     "data": {
      "application/vnd.jupyter.widget-view+json": {
       "model_id": "708121ec2ac64ce7a3ffeaa5a83b935c",
       "version_major": 2,
       "version_minor": 0
      },
      "text/plain": [
       "HBox(children=(FloatProgress(value=0.0, max=300.0), HTML(value='')))"
      ]
     },
     "metadata": {},
     "output_type": "display_data"
    },
    {
     "name": "stdout",
     "output_type": "stream",
     "text": [
      "Loss=0.478318, SSLoss=0.056869\n",
      "Loss=0.451430, SSLoss=0.054257\n",
      "Loss=0.445283, SSLoss=0.055357\n",
      "\n",
      "Selfplay\n"
     ]
    },
    {
     "data": {
      "application/vnd.jupyter.widget-view+json": {
       "model_id": "e52adc4b69e640e5acd1c8d1cb871106",
       "version_major": 2,
       "version_minor": 0
      },
      "text/plain": [
       "HBox(children=(FloatProgress(value=0.0, max=200.0), HTML(value='')))"
      ]
     },
     "metadata": {},
     "output_type": "display_data"
    },
    {
     "name": "stdout",
     "output_type": "stream",
     "text": [
      "\n",
      "number of new states: 3033\n",
      "size of game rec / game rec legacy): 30000 79448\n",
      "Pitting\n",
      "0 1\n",
      "1 2\n",
      "2 3\n",
      "3 4\n",
      "4 5\n",
      "5 6\n",
      "6 7\n",
      "7 8\n",
      "7 9\n",
      "8 10\n",
      "0.8\n"
     ]
    },
    {
     "data": {
      "image/png": "[encoded data removed]",
      "text/plain": [
       "<Figure size 432x288 with 1 Axes>"
      ]
     },
     "metadata": {
      "needs_background": "light"
     },
     "output_type": "display_data"
    },
    {
     "name": "stdout",
     "output_type": "stream",
     "text": [
      "Training\n"
     ]
    },
    {
     "data": {
      "application/vnd.jupyter.widget-view+json": {
       "model_id": "e8d629ed59e84cceac8c2f5a14cc7001",
       "version_major": 2,
       "version_minor": 0
      },
      "text/plain": [
       "HBox(children=(FloatProgress(value=0.0, max=300.0), HTML(value='')))"
      ]
     },
     "metadata": {},
     "output_type": "display_data"
    },
    {
     "name": "stdout",
     "output_type": "stream",
     "text": [
      "Loss=0.448172, SSLoss=0.057196\n",
      "Loss=0.433867, SSLoss=0.056344\n",
      "Loss=0.440150, SSLoss=0.057011\n",
      "\n",
      "Selfplay\n"
     ]
    },
    {
     "data": {
      "application/vnd.jupyter.widget-view+json": {
       "model_id": "b1d1ed474373432d8493dba8eea9b5e6",
       "version_major": 2,
       "version_minor": 0
      },
      "text/plain": [
       "HBox(children=(FloatProgress(value=0.0, max=200.0), HTML(value='')))"
      ]
     },
     "metadata": {},
     "output_type": "display_data"
    },
    {
     "name": "stdout",
     "output_type": "stream",
     "text": [
      "\n",
      "number of new states: 2920\n",
      "size of game rec / game rec legacy): 30000 82368\n",
      "Pitting\n",
      "1 1\n",
      "2 2\n",
      "2 3\n",
      "3 4\n",
      "4 5\n",
      "4 6\n",
      "5 7\n",
      "5 8\n",
      "6 9\n",
      "6 10\n",
      "0.6\n"
     ]
    },
    {
     "data": {
      "image/png": "[encoded data removed]",
      "text/plain": [
       "<Figure size 432x288 with 1 Axes>"
      ]
     },
     "metadata": {
      "needs_background": "light"
     },
     "output_type": "display_data"
    },
    {
     "name": "stdout",
     "output_type": "stream",
     "text": [
      "Training\n"
     ]
    },
    {
     "data": {
      "application/vnd.jupyter.widget-view+json": {
       "model_id": "8c31ff1b25af41689471989497b8de0b",
       "version_major": 2,
       "version_minor": 0
      },
      "text/plain": [
       "HBox(children=(FloatProgress(value=0.0, max=300.0), HTML(value='')))"
      ]
     },
     "metadata": {},
     "output_type": "display_data"
    },
    {
     "name": "stdout",
     "output_type": "stream",
     "text": [
      "Loss=0.435478, SSLoss=0.059735\n",
      "Loss=0.419021, SSLoss=0.058037\n",
      "Loss=0.405721, SSLoss=0.058486\n",
      "\n",
      "Selfplay\n"
     ]
    },
    {
     "data": {
      "application/vnd.jupyter.widget-view+json": {
       "model_id": "d549dd4f922449c4a02f9b6f222635a4",
       "version_major": 2,
       "version_minor": 0
      },
      "text/plain": [
       "HBox(children=(FloatProgress(value=0.0, max=200.0), HTML(value='')))"
      ]
     },
     "metadata": {},
     "output_type": "display_data"
    },
    {
     "name": "stdout",
     "output_type": "stream",
     "text": [
      "\n",
      "number of new states: 3165\n",
      "size of game rec / game rec legacy): 30000 85533\n",
      "Pitting\n",
      "1 1\n",
      "1 2\n",
      "2 3\n",
      "2 4\n",
      "3 5\n",
      "4 6\n",
      "5 7\n",
      "5 8\n",
      "6 9\n",
      "7 10\n",
      "0.7\n"
     ]
    },
    {
     "data": {
      "image/png": "[encoded data removed]",
      "text/plain": [
       "<Figure size 432x288 with 1 Axes>"
      ]
     },
     "metadata": {
      "needs_background": "light"
     },
     "output_type": "display_data"
    },
    {
     "name": "stdout",
     "output_type": "stream",
     "text": [
      "Training\n"
     ]
    },
    {
     "data": {
      "application/vnd.jupyter.widget-view+json": {
       "model_id": "296c1d4ef9584a3e8429f058069c54ac",
       "version_major": 2,
       "version_minor": 0
      },
      "text/plain": [
       "HBox(children=(FloatProgress(value=0.0, max=300.0), HTML(value='')))"
      ]
     },
     "metadata": {},
     "output_type": "display_data"
    },
    {
     "name": "stdout",
     "output_type": "stream",
     "text": [
      "Loss=0.414457, SSLoss=0.064862\n",
      "Loss=0.405764, SSLoss=0.065181\n",
      "Loss=0.409869, SSLoss=0.063731\n",
      "\n",
      "Selfplay\n"
     ]
    },
    {
     "data": {
      "application/vnd.jupyter.widget-view+json": {
       "model_id": "215ae826a1234ce1b6a5dd333686cae0",
       "version_major": 2,
       "version_minor": 0
      },
      "text/plain": [
       "HBox(children=(FloatProgress(value=0.0, max=200.0), HTML(value='')))"
      ]
     },
     "metadata": {},
     "output_type": "display_data"
    },
    {
     "name": "stdout",
     "output_type": "stream",
     "text": [
      "\n",
      "number of new states: 3198\n",
      "size of game rec / game rec legacy): 30000 88731\n",
      "Pitting\n",
      "1 1\n",
      "2 2\n",
      "3 3\n",
      "4 4\n",
      "5 5\n",
      "5 6\n",
      "6 7\n",
      "7 8\n",
      "8 9\n",
      "9 10\n",
      "0.9\n"
     ]
    },
    {
     "data": {
      "image/png": "[encoded data removed]",
      "text/plain": [
       "<Figure size 432x288 with 1 Axes>"
      ]
     },
     "metadata": {
      "needs_background": "light"
     },
     "output_type": "display_data"
    },
    {
     "name": "stdout",
     "output_type": "stream",
     "text": [
      "Training\n"
     ]
    },
    {
     "data": {
      "application/vnd.jupyter.widget-view+json": {
       "model_id": "915f1d1dec13403085fc06407a8158f1",
       "version_major": 2,
       "version_minor": 0
      },
      "text/plain": [
       "HBox(children=(FloatProgress(value=0.0, max=300.0), HTML(value='')))"
      ]
     },
     "metadata": {},
     "output_type": "display_data"
    },
    {
     "name": "stdout",
     "output_type": "stream",
     "text": [
      "Loss=0.411584, SSLoss=0.060345\n",
      "Loss=0.399273, SSLoss=0.061853\n",
      "Loss=0.386969, SSLoss=0.062799\n",
      "\n",
      "Selfplay\n"
     ]
    },
    {
     "data": {
      "application/vnd.jupyter.widget-view+json": {
       "model_id": "2b7bcb22c4394accabb1c7a82a72eb9d",
       "version_major": 2,
       "version_minor": 0
      },
      "text/plain": [
       "HBox(children=(FloatProgress(value=0.0, max=200.0), HTML(value='')))"
      ]
     },
     "metadata": {},
     "output_type": "display_data"
    },
    {
     "name": "stdout",
     "output_type": "stream",
     "text": [
      "\n",
      "number of new states: 3060\n",
      "size of game rec / game rec legacy): 30000 91791\n",
      "Pitting\n",
      "1 1\n",
      "2 2\n",
      "3 3\n",
      "4 4\n",
      "5 5\n",
      "6 6\n",
      "7 7\n",
      "8 8\n",
      "9 9\n",
      "10 10\n",
      "1.0\n"
     ]
    },
    {
     "data": {
      "image/png": "[encoded data removed]",
      "text/plain": [
       "<Figure size 432x288 with 1 Axes>"
      ]
     },
     "metadata": {
      "needs_background": "light"
     },
     "output_type": "display_data"
    },
    {
     "name": "stdout",
     "output_type": "stream",
     "text": [
      "Training\n"
     ]
    },
    {
     "data": {
      "application/vnd.jupyter.widget-view+json": {
       "model_id": "4642ce99f5dc4d329811e4dfbd5fec3a",
       "version_major": 2,
       "version_minor": 0
      },
      "text/plain": [
       "HBox(children=(FloatProgress(value=0.0, max=300.0), HTML(value='')))"
      ]
     },
     "metadata": {},
     "output_type": "display_data"
    },
    {
     "name": "stdout",
     "output_type": "stream",
     "text": [
      "Loss=0.392432, SSLoss=0.065017\n",
      "Loss=0.372010, SSLoss=0.064221\n",
      "Loss=0.378223, SSLoss=0.063740\n",
      "\n",
      "Selfplay\n"
     ]
    },
    {
     "data": {
      "application/vnd.jupyter.widget-view+json": {
       "model_id": "46fb96c83f5c423eab509aeae45a4807",
       "version_major": 2,
       "version_minor": 0
      },
      "text/plain": [
       "HBox(children=(FloatProgress(value=0.0, max=200.0), HTML(value='')))"
      ]
     },
     "metadata": {},
     "output_type": "display_data"
    },
    {
     "name": "stdout",
     "output_type": "stream",
     "text": [
      "\n",
      "number of new states: 2982\n",
      "size of game rec / game rec legacy): 30000 94773\n",
      "Pitting\n",
      "1 1\n",
      "1 2\n",
      "2 3\n",
      "3 4\n",
      "4 5\n",
      "5 6\n",
      "6 7\n",
      "7 8\n",
      "8 9\n",
      "8 10\n",
      "0.8\n"
     ]
    },
    {
     "data": {
      "image/png": "[encoded data removed]",
      "text/plain": [
       "<Figure size 432x288 with 1 Axes>"
      ]
     },
     "metadata": {
      "needs_background": "light"
     },
     "output_type": "display_data"
    },
    {
     "name": "stdout",
     "output_type": "stream",
     "text": [
      "Training\n"
     ]
    },
    {
     "data": {
      "application/vnd.jupyter.widget-view+json": {
       "model_id": "a2f0378b130e42229939c510f220ab9a",
       "version_major": 2,
       "version_minor": 0
      },
      "text/plain": [
       "HBox(children=(FloatProgress(value=0.0, max=300.0), HTML(value='')))"
      ]
     },
     "metadata": {},
     "output_type": "display_data"
    },
    {
     "name": "stdout",
     "output_type": "stream",
     "text": [
      "Loss=0.365011, SSLoss=0.070059\n",
      "Loss=0.341602, SSLoss=0.068884\n",
      "Loss=0.360312, SSLoss=0.067387\n",
      "\n",
      "Selfplay\n"
     ]
    },
    {
     "data": {
      "application/vnd.jupyter.widget-view+json": {
       "model_id": "2b96ddc456184a11a9ed0627d8e9baac",
       "version_major": 2,
       "version_minor": 0
      },
      "text/plain": [
       "HBox(children=(FloatProgress(value=0.0, max=200.0), HTML(value='')))"
      ]
     },
     "metadata": {},
     "output_type": "display_data"
    },
    {
     "ename": "KeyboardInterrupt",
     "evalue": "",
     "output_type": "error",
     "traceback": [
      "\u001b[1;31m---------------------------------------------------------------------------\u001b[0m",
      "\u001b[1;31mKeyboardInterrupt\u001b[0m                         Traceback (most recent call last)",
      "\u001b[1;32m<ipython-input-11-048cc41e5a42>\u001b[0m in \u001b[0;36m<module>\u001b[1;34m\u001b[0m\n\u001b[0;32m     35\u001b[0m         \u001b[0mprint\u001b[0m\u001b[1;33m(\u001b[0m\u001b[1;34m'Selfplay'\u001b[0m\u001b[1;33m)\u001b[0m\u001b[1;33m\u001b[0m\u001b[1;33m\u001b[0m\u001b[0m\n\u001b[0;32m     36\u001b[0m         \u001b[1;31m#newgames = selfplay(MultiMCTS(nparallel=5, nsearches=50, net=net), ngames=200, verbose=1)\u001b[0m\u001b[1;33m\u001b[0m\u001b[1;33m\u001b[0m\u001b[1;33m\u001b[0m\u001b[0m\n\u001b[1;32m---> 37\u001b[1;33m         \u001b[0mnewgames\u001b[0m \u001b[1;33m=\u001b[0m \u001b[0mselfplay_batched\u001b[0m\u001b[1;33m(\u001b[0m\u001b[0mBatchMCTS\u001b[0m\u001b[1;33m(\u001b[0m\u001b[0mnparallel\u001b[0m\u001b[1;33m=\u001b[0m\u001b[1;36m20\u001b[0m\u001b[1;33m,\u001b[0m \u001b[0mnsearches\u001b[0m\u001b[1;33m=\u001b[0m\u001b[1;36m150\u001b[0m\u001b[1;33m,\u001b[0m \u001b[0mnet\u001b[0m\u001b[1;33m=\u001b[0m\u001b[0mnet\u001b[0m\u001b[1;33m)\u001b[0m\u001b[1;33m,\u001b[0m \u001b[0mngames\u001b[0m\u001b[1;33m=\u001b[0m\u001b[1;36m200\u001b[0m\u001b[1;33m,\u001b[0m \u001b[0mverbose\u001b[0m\u001b[1;33m=\u001b[0m\u001b[1;36m1\u001b[0m\u001b[1;33m)\u001b[0m\u001b[1;33m\u001b[0m\u001b[1;33m\u001b[0m\u001b[0m\n\u001b[0m\u001b[0;32m     38\u001b[0m         \u001b[0mgame_rec\u001b[0m \u001b[1;33m=\u001b[0m \u001b[0mnewgames\u001b[0m \u001b[1;33m+\u001b[0m \u001b[0mgame_rec\u001b[0m\u001b[1;33m\u001b[0m\u001b[1;33m\u001b[0m\u001b[0m\n\u001b[0;32m     39\u001b[0m         \u001b[0mgame_rec_leg\u001b[0m \u001b[1;33m=\u001b[0m \u001b[0mgame_rec\u001b[0m\u001b[1;33m[\u001b[0m\u001b[1;36m30000\u001b[0m\u001b[1;33m:\u001b[0m\u001b[1;33m]\u001b[0m \u001b[1;33m+\u001b[0m \u001b[0mgame_rec_leg\u001b[0m\u001b[1;33m\u001b[0m\u001b[1;33m\u001b[0m\u001b[0m\n",
      "\u001b[1;32m<ipython-input-8-f45ad993bb33>\u001b[0m in \u001b[0;36mselfplay_batched\u001b[1;34m(ai, ngames, verbose)\u001b[0m\n\u001b[0;32m     30\u001b[0m     \u001b[1;32mwhile\u001b[0m \u001b[0mcompletedgames\u001b[0m \u001b[1;33m<\u001b[0m \u001b[0mngames\u001b[0m\u001b[1;33m:\u001b[0m\u001b[1;33m\u001b[0m\u001b[1;33m\u001b[0m\u001b[0m\n\u001b[0;32m     31\u001b[0m \u001b[1;33m\u001b[0m\u001b[0m\n\u001b[1;32m---> 32\u001b[1;33m         \u001b[0mmoves\u001b[0m \u001b[1;33m=\u001b[0m \u001b[0mai\u001b[0m\u001b[1;33m.\u001b[0m\u001b[0mfindmove\u001b[0m\u001b[1;33m(\u001b[0m\u001b[0mboards\u001b[0m\u001b[1;33m)\u001b[0m\u001b[1;33m\u001b[0m\u001b[1;33m\u001b[0m\u001b[0m\n\u001b[0m\u001b[0;32m     33\u001b[0m         \u001b[1;32mfor\u001b[0m \u001b[0mb\u001b[0m \u001b[1;32min\u001b[0m \u001b[0mrange\u001b[0m\u001b[1;33m(\u001b[0m\u001b[0mbnum\u001b[0m\u001b[1;33m)\u001b[0m\u001b[1;33m:\u001b[0m\u001b[1;33m\u001b[0m\u001b[1;33m\u001b[0m\u001b[0m\n\u001b[0;32m     34\u001b[0m             \u001b[0mturn\u001b[0m \u001b[1;33m=\u001b[0m \u001b[0mturns\u001b[0m\u001b[1;33m[\u001b[0m\u001b[0mb\u001b[0m\u001b[1;33m]\u001b[0m\u001b[1;33m\u001b[0m\u001b[1;33m\u001b[0m\u001b[0m\n",
      "\u001b[1;32mD:\\Anaconda-Python-3.7\\hex\\hex_mcts.py\u001b[0m in \u001b[0;36mfindmove\u001b[1;34m(self, states, tau, verbose)\u001b[0m\n\u001b[0;32m    877\u001b[0m         '''\n\u001b[0;32m    878\u001b[0m \u001b[1;33m\u001b[0m\u001b[0m\n\u001b[1;32m--> 879\u001b[1;33m         \u001b[0mself\u001b[0m\u001b[1;33m.\u001b[0m\u001b[0mperform_rollouts\u001b[0m\u001b[1;33m(\u001b[0m\u001b[0mstates\u001b[0m\u001b[1;33m)\u001b[0m\u001b[1;33m\u001b[0m\u001b[1;33m\u001b[0m\u001b[0m\n\u001b[0m\u001b[0;32m    880\u001b[0m \u001b[1;33m\u001b[0m\u001b[0m\n\u001b[0;32m    881\u001b[0m         \u001b[0mmoves\u001b[0m \u001b[1;33m=\u001b[0m \u001b[1;33m[\u001b[0m\u001b[1;33m]\u001b[0m\u001b[1;33m\u001b[0m\u001b[1;33m\u001b[0m\u001b[0m\n",
      "\u001b[1;32mD:\\Anaconda-Python-3.7\\hex\\hex_mcts.py\u001b[0m in \u001b[0;36mperform_rollouts\u001b[1;34m(self, states)\u001b[0m\n\u001b[0;32m    866\u001b[0m \u001b[1;33m\u001b[0m\u001b[0m\n\u001b[0;32m    867\u001b[0m             \u001b[1;32mfor\u001b[0m \u001b[0mk\u001b[0m \u001b[1;32min\u001b[0m \u001b[0mrange\u001b[0m\u001b[1;33m(\u001b[0m\u001b[0mlen\u001b[0m\u001b[1;33m(\u001b[0m\u001b[0mstates\u001b[0m\u001b[1;33m)\u001b[0m\u001b[1;33m)\u001b[0m\u001b[1;33m:\u001b[0m\u001b[1;33m\u001b[0m\u001b[1;33m\u001b[0m\u001b[0m\n\u001b[1;32m--> 868\u001b[1;33m                 \u001b[0mself\u001b[0m\u001b[1;33m.\u001b[0m\u001b[0mmcts\u001b[0m\u001b[1;33m[\u001b[0m\u001b[0mk\u001b[0m\u001b[1;33m]\u001b[0m\u001b[1;33m.\u001b[0m\u001b[0msearch_leaf\u001b[0m\u001b[1;33m(\u001b[0m\u001b[1;33m)\u001b[0m\u001b[1;33m\u001b[0m\u001b[1;33m\u001b[0m\u001b[0m\n\u001b[0m\u001b[0;32m    869\u001b[0m \u001b[1;33m\u001b[0m\u001b[0m\n\u001b[0;32m    870\u001b[0m             \u001b[1;32mfor\u001b[0m \u001b[0mk\u001b[0m \u001b[1;32min\u001b[0m \u001b[0mrange\u001b[0m\u001b[1;33m(\u001b[0m\u001b[0mlen\u001b[0m\u001b[1;33m(\u001b[0m\u001b[0mstates\u001b[0m\u001b[1;33m)\u001b[0m\u001b[1;33m)\u001b[0m\u001b[1;33m:\u001b[0m\u001b[1;33m\u001b[0m\u001b[1;33m\u001b[0m\u001b[0m\n",
      "\u001b[1;32mD:\\Anaconda-Python-3.7\\hex\\hex_mcts.py\u001b[0m in \u001b[0;36msearch_leaf\u001b[1;34m(self)\u001b[0m\n\u001b[0;32m    723\u001b[0m \u001b[1;33m\u001b[0m\u001b[0m\n\u001b[0;32m    724\u001b[0m         \u001b[1;32mif\u001b[0m \u001b[0mtype\u001b[0m\u001b[1;33m(\u001b[0m\u001b[0mself\u001b[0m\u001b[1;33m.\u001b[0m\u001b[0mid\u001b[0m\u001b[1;33m)\u001b[0m \u001b[1;32mis\u001b[0m \u001b[1;32mnot\u001b[0m \u001b[0mtype\u001b[0m\u001b[1;33m(\u001b[0m\u001b[1;32mNone\u001b[0m\u001b[1;33m)\u001b[0m\u001b[1;33m:\u001b[0m\u001b[1;33m\u001b[0m\u001b[1;33m\u001b[0m\u001b[0m\n\u001b[1;32m--> 725\u001b[1;33m             \u001b[0mself\u001b[0m\u001b[1;33m.\u001b[0m\u001b[0mPV\u001b[0m\u001b[1;33m.\u001b[0m\u001b[0mpredictStack\u001b[0m\u001b[1;33m(\u001b[0m\u001b[1;33m)\u001b[0m\u001b[1;33m\u001b[0m\u001b[1;33m\u001b[0m\u001b[0m\n\u001b[0m\u001b[0;32m    726\u001b[0m             \u001b[0mp\u001b[0m\u001b[1;33m,\u001b[0m \u001b[0mv\u001b[0m \u001b[1;33m=\u001b[0m \u001b[0mself\u001b[0m\u001b[1;33m.\u001b[0m\u001b[0mPV\u001b[0m\u001b[1;33m.\u001b[0m\u001b[0mpop\u001b[0m\u001b[1;33m(\u001b[0m\u001b[0mself\u001b[0m\u001b[1;33m.\u001b[0m\u001b[0mid\u001b[0m\u001b[1;33m)\u001b[0m\u001b[1;33m\u001b[0m\u001b[1;33m\u001b[0m\u001b[0m\n\u001b[0;32m    727\u001b[0m \u001b[1;33m\u001b[0m\u001b[0m\n",
      "\u001b[1;32mD:\\Anaconda-Python-3.7\\hex\\hex_mcts.py\u001b[0m in \u001b[0;36mpredictStack\u001b[1;34m(self)\u001b[0m\n\u001b[0;32m    131\u001b[0m         \u001b[1;31m# do the prediction\u001b[0m\u001b[1;33m\u001b[0m\u001b[1;33m\u001b[0m\u001b[1;33m\u001b[0m\u001b[0m\n\u001b[0;32m    132\u001b[0m         \u001b[0mxs\u001b[0m \u001b[1;33m=\u001b[0m \u001b[0mnp\u001b[0m\u001b[1;33m.\u001b[0m\u001b[0masarray\u001b[0m\u001b[1;33m(\u001b[0m\u001b[0mself\u001b[0m\u001b[1;33m.\u001b[0m\u001b[0mstate_list\u001b[0m\u001b[1;33m)\u001b[0m\u001b[1;33m\u001b[0m\u001b[1;33m\u001b[0m\u001b[0m\n\u001b[1;32m--> 133\u001b[1;33m         \u001b[0mys1\u001b[0m\u001b[1;33m,\u001b[0m \u001b[0mys2\u001b[0m \u001b[1;33m=\u001b[0m \u001b[0mself\u001b[0m\u001b[1;33m.\u001b[0m\u001b[0mnnet\u001b[0m\u001b[1;33m.\u001b[0m\u001b[0mpredictStack\u001b[0m\u001b[1;33m(\u001b[0m\u001b[0mxs\u001b[0m\u001b[1;33m)\u001b[0m\u001b[1;33m\u001b[0m\u001b[1;33m\u001b[0m\u001b[0m\n\u001b[0m\u001b[0;32m    134\u001b[0m \u001b[1;33m\u001b[0m\u001b[0m\n\u001b[0;32m    135\u001b[0m         \u001b[1;31m# prepare output lists\u001b[0m\u001b[1;33m\u001b[0m\u001b[1;33m\u001b[0m\u001b[1;33m\u001b[0m\u001b[0m\n",
      "\u001b[1;32mD:\\Anaconda-Python-3.7\\hex\\hex_nnet.py\u001b[0m in \u001b[0;36mpredictStack\u001b[1;34m(self, numpy_x)\u001b[0m\n\u001b[0;32m    183\u001b[0m         \u001b[0mxs\u001b[0m \u001b[1;33m=\u001b[0m \u001b[1;33m[\u001b[0m\u001b[1;33m]\u001b[0m\u001b[1;33m\u001b[0m\u001b[1;33m\u001b[0m\u001b[0m\n\u001b[0;32m    184\u001b[0m         \u001b[1;32mfor\u001b[0m \u001b[0mnx\u001b[0m \u001b[1;32min\u001b[0m \u001b[0mnumpy_x\u001b[0m\u001b[1;33m:\u001b[0m\u001b[1;33m\u001b[0m\u001b[1;33m\u001b[0m\u001b[0m\n\u001b[1;32m--> 185\u001b[1;33m             \u001b[0mxs\u001b[0m \u001b[1;33m+=\u001b[0m \u001b[1;33m[\u001b[0m\u001b[0mself\u001b[0m\u001b[1;33m.\u001b[0m\u001b[0mencode_oh\u001b[0m\u001b[1;33m(\u001b[0m\u001b[0mnx\u001b[0m\u001b[1;33m)\u001b[0m\u001b[1;33m]\u001b[0m\u001b[1;33m\u001b[0m\u001b[1;33m\u001b[0m\u001b[0m\n\u001b[0m\u001b[0;32m    186\u001b[0m         \u001b[0mxs\u001b[0m \u001b[1;33m=\u001b[0m \u001b[0mnp\u001b[0m\u001b[1;33m.\u001b[0m\u001b[0masarray\u001b[0m\u001b[1;33m(\u001b[0m\u001b[0mxs\u001b[0m\u001b[1;33m)\u001b[0m\u001b[1;33m\u001b[0m\u001b[1;33m\u001b[0m\u001b[0m\n\u001b[0;32m    187\u001b[0m         \u001b[0mxs\u001b[0m \u001b[1;33m=\u001b[0m \u001b[0mtorch\u001b[0m\u001b[1;33m.\u001b[0m\u001b[0mfrom_numpy\u001b[0m\u001b[1;33m(\u001b[0m\u001b[0mxs\u001b[0m\u001b[1;33m.\u001b[0m\u001b[0mastype\u001b[0m\u001b[1;33m(\u001b[0m\u001b[1;34m'float32'\u001b[0m\u001b[1;33m)\u001b[0m\u001b[1;33m)\u001b[0m\u001b[1;33m\u001b[0m\u001b[1;33m\u001b[0m\u001b[0m\n",
      "\u001b[1;32mD:\\Anaconda-Python-3.7\\hex\\hex_nnet.py\u001b[0m in \u001b[0;36mencode_oh\u001b[1;34m(x)\u001b[0m\n\u001b[0;32m    162\u001b[0m         \u001b[0mx_oh\u001b[0m \u001b[1;33m=\u001b[0m \u001b[0mnp\u001b[0m\u001b[1;33m.\u001b[0m\u001b[0mzeros\u001b[0m\u001b[1;33m(\u001b[0m\u001b[1;33m(\u001b[0m\u001b[1;36m3\u001b[0m\u001b[1;33m,\u001b[0m \u001b[0mN\u001b[0m\u001b[1;33m,\u001b[0m \u001b[0mN\u001b[0m\u001b[1;33m)\u001b[0m\u001b[1;33m)\u001b[0m\u001b[1;33m\u001b[0m\u001b[1;33m\u001b[0m\u001b[0m\n\u001b[0;32m    163\u001b[0m         \u001b[1;32mfor\u001b[0m \u001b[0mn\u001b[0m \u001b[1;32min\u001b[0m \u001b[0mrange\u001b[0m\u001b[1;33m(\u001b[0m\u001b[1;36m3\u001b[0m\u001b[1;33m)\u001b[0m\u001b[1;33m:\u001b[0m\u001b[1;33m\u001b[0m\u001b[1;33m\u001b[0m\u001b[0m\n\u001b[1;32m--> 164\u001b[1;33m             \u001b[0mx_oh\u001b[0m\u001b[1;33m[\u001b[0m\u001b[0mn\u001b[0m\u001b[1;33m,\u001b[0m \u001b[1;33m:\u001b[0m\u001b[1;33m,\u001b[0m \u001b[1;33m:\u001b[0m\u001b[1;33m]\u001b[0m \u001b[1;33m=\u001b[0m \u001b[1;33m(\u001b[0m\u001b[0mx\u001b[0m \u001b[1;33m==\u001b[0m \u001b[0mn\u001b[0m\u001b[1;33m)\u001b[0m\u001b[1;33m\u001b[0m\u001b[1;33m\u001b[0m\u001b[0m\n\u001b[0m\u001b[0;32m    165\u001b[0m         \u001b[1;32mreturn\u001b[0m \u001b[0mx_oh\u001b[0m\u001b[1;33m\u001b[0m\u001b[1;33m\u001b[0m\u001b[0m\n\u001b[0;32m    166\u001b[0m \u001b[1;33m\u001b[0m\u001b[0m\n",
      "\u001b[1;31mKeyboardInterrupt\u001b[0m: "
     ]
    }
   ],
   "source": [
    "## game_rec = []\n",
    "\n",
    "#net = Net()\n",
    "##net.load_state_dict(torch.load('net_train_selfplay.dat'))\n",
    "\n",
    "\n",
    "#stage = 2\n",
    "\n",
    "while True:\n",
    "\n",
    "    \n",
    "    # Evaluate/Pit\n",
    "    if stage==0:\n",
    "        print('Pitting')\n",
    "        winrate = pit(MultiMCTS(nparallel=5, nsearches=150, net=net), MiniMax(maxdepth=depthminimax), n=10, nrnd=1, verbose=1)\n",
    "        print(winrate)\n",
    "        winrates.append(winrate)\n",
    "        plt.plot(winrates, 'C2'); plt.show()\n",
    "        if winrate>0.7 and depthminimax<4:\n",
    "            depthminimax += 1\n",
    "            print(f'Changing minimax depth to {depthminimax}')\n",
    "        stage = 1\n",
    "    \n",
    "    \n",
    "    # Train\n",
    "    if stage==1:\n",
    "        print('Training')\n",
    "        net = train(net, game_rec, game_rec_leg, iterations=300, verbose=1)\n",
    "        torch.save(net.state_dict(), 'net_temp.dat')\n",
    "        stage = 2\n",
    "    \n",
    "    \n",
    "    # Selfplay\n",
    "    if stage==2:\n",
    "        print('Selfplay')\n",
    "        #newgames = selfplay(MultiMCTS(nparallel=5, nsearches=50, net=net), ngames=200, verbose=1)\n",
    "        newgames = selfplay_batched(BatchMCTS(nparallel=20, nsearches=150, net=net), ngames=200, verbose=1)\n",
    "        game_rec = newgames + game_rec\n",
    "        game_rec_leg = game_rec[30000:] + game_rec_leg\n",
    "        game_rec_leg = game_rec_leg[:150000]\n",
    "        game_rec = game_rec[:30000]\n",
    "        print('number of new states:', len(newgames))\n",
    "        print('size of game rec / game rec legacy):', len(game_rec), len(game_rec_leg))\n",
    "        stage=0\n",
    "    "
   ]
  },
  {
   "cell_type": "code",
   "execution_count": null,
   "metadata": {
    "ExecuteTime": {
     "end_time": "2021-03-19T14:15:45.810913Z",
     "start_time": "2021-03-19T13:24:37.719Z"
    }
   },
   "outputs": [],
   "source": [
    "game_rec[-10:]"
   ]
  },
  {
   "cell_type": "code",
   "execution_count": 12,
   "metadata": {
    "ExecuteTime": {
     "end_time": "2021-03-19T20:32:10.317646Z",
     "start_time": "2021-03-19T20:32:09.337107Z"
    }
   },
   "outputs": [],
   "source": [
    "torch.save(net.state_dict(), 'net_selfplay150.dat')"
   ]
  },
  {
   "cell_type": "code",
   "execution_count": 21,
   "metadata": {},
   "outputs": [],
   "source": [
    "pickle.dump(games_record, open('netselfplay_gamerecords150.pkl', 'wb'))"
   ]
  },
  {
   "cell_type": "code",
   "execution_count": null,
   "metadata": {
    "ExecuteTime": {
     "start_time": "2021-03-19T21:24:17.953Z"
    }
   },
   "outputs": [
    {
     "name": "stdout",
     "output_type": "stream",
     "text": [
      "1 1\n",
      "1 2\n",
      "2 3\n",
      "3 4\n",
      "4 5\n",
      "5 6\n",
      "6 7\n",
      "7 8\n",
      "8 9\n",
      "8 10\n",
      "9 11\n",
      "9 12\n",
      "10 13\n",
      "11 14\n",
      "12 15\n",
      "12 16\n",
      "13 17\n",
      "14 18\n",
      "15 19\n",
      "16 20\n",
      "17 21\n",
      "17 22\n",
      "17 23\n",
      "18 24\n",
      "19 25\n",
      "20 26\n",
      "21 27\n",
      "21 28\n",
      "22 29\n",
      "23 30\n",
      "24 31\n",
      "25 32\n",
      "26 33\n",
      "27 34\n",
      "28 35\n",
      "29 36\n",
      "30 37\n",
      "30 38\n",
      "31 39\n",
      "31 40\n",
      "32 41\n",
      "32 42\n",
      "33 43\n",
      "34 44\n",
      "35 45\n",
      "35 46\n",
      "36 47\n",
      "37 48\n",
      "38 49\n"
     ]
    }
   ],
   "source": [
    "for net in ['net_selfplay50.dat', 'net_selfplay150.dat']:\n",
    "    pit(MultiMCTS(nparallel=5, nsearches=150, net=net), MiniMax(maxdepth=depthminimax), n=50, nrnd=1, verbose=1)"
   ]
  },
  {
   "cell_type": "code",
   "execution_count": null,
   "metadata": {},
   "outputs": [],
   "source": []
  }
 ],
 "metadata": {
  "kernelspec": {
   "display_name": "Python 3",
   "language": "python",
   "name": "python3"
  },
  "language_info": {
   "codemirror_mode": {
    "name": "ipython",
    "version": 3
   },
   "file_extension": ".py",
   "mimetype": "text/x-python",
   "name": "python",
   "nbconvert_exporter": "python",
   "pygments_lexer": "ipython3",
   "version": "3.7.7"
  },
  "varInspector": {
   "cols": {
    "lenName": 16,
    "lenType": 16,
    "lenVar": 40
   },
   "kernels_config": {
    "python": {
     "delete_cmd_postfix": "",
     "delete_cmd_prefix": "del ",
     "library": "var_list.py",
     "varRefreshCmd": "print(var_dic_list())"
    },
    "r": {
     "delete_cmd_postfix": ") ",
     "delete_cmd_prefix": "rm(",
     "library": "var_list.r",
     "varRefreshCmd": "cat(var_dic_list()) "
    }
   },
   "types_to_exclude": [
    "module",
    "function",
    "builtin_function_or_method",
    "instance",
    "_Feature"
   ],
   "window_display": false
  }
 },
 "nbformat": 4,
 "nbformat_minor": 4
}
